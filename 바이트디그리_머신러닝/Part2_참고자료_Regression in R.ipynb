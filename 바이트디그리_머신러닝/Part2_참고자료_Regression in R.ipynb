{
 "cells": [
  {
   "cell_type": "markdown",
   "metadata": {
    "colab_type": "text",
    "id": "8zVXX05cedgm"
   },
   "source": [
    "## R에서 회귀분석 및 변수선택법\n",
    "\n",
    "- R은 통계 분야에 특화된 언어라서 Python보다 손쉽게 회귀분석 및 변수선택법을 수행할 수 있음"
   ]
  },
  {
   "cell_type": "code",
   "execution_count": 0,
   "metadata": {
    "colab": {},
    "colab_type": "code",
    "id": "kX1CQpraedgn"
   },
   "outputs": [],
   "source": [
    "moneyball = read.csv(\"data/baseball.csv\")"
   ]
  },
  {
   "cell_type": "code",
   "execution_count": 0,
   "metadata": {
    "colab": {},
    "colab_type": "code",
    "id": "SIFnbuFoedgq",
    "outputId": "7bd89420-9cb7-4cbd-bf22-013e2e9b0495"
   },
   "outputs": [
    {
     "data": {
      "text/plain": [
       "\n",
       "Call:\n",
       "lm(formula = Playoffs ~ RS + RA, data = moneyball)\n",
       "\n",
       "Residuals:\n",
       "     Min       1Q   Median       3Q      Max \n",
       "-0.65661 -0.24151 -0.07115  0.16883  0.90119 \n",
       "\n",
       "Coefficients:\n",
       "              Estimate Std. Error t value Pr(>|t|)    \n",
       "(Intercept) -0.1090808  0.0863715  -1.263    0.207    \n",
       "RS           0.0024746  0.0001088  22.753   <2e-16 ***\n",
       "RA          -0.0020450  0.0001070 -19.121   <2e-16 ***\n",
       "---\n",
       "Signif. codes:  0 ‘***’ 0.001 ‘**’ 0.01 ‘*’ 0.05 ‘.’ 0.1 ‘ ’ 1\n",
       "\n",
       "Residual standard error: 0.3231 on 1229 degrees of freedom\n",
       "Multiple R-squared:  0.3445,\tAdjusted R-squared:  0.3434 \n",
       "F-statistic: 322.9 on 2 and 1229 DF,  p-value: < 2.2e-16\n"
      ]
     },
     "metadata": {
      "tags": []
     },
     "output_type": "display_data"
    }
   ],
   "source": [
    "# RS와 RA 두 변수를 이용한 선형회귀분석 모델(상수항 언급할 필요 없음)\n",
    "\n",
    "lm = lm(Playoffs ~ RS + RA, data = moneyball)\n",
    "summary(lm)"
   ]
  },
  {
   "cell_type": "code",
   "execution_count": 0,
   "metadata": {
    "colab": {},
    "colab_type": "code",
    "id": "Z6QuBJ86edgt",
    "outputId": "7aff5cd7-8b87-4502-b4cd-afc843b5a397"
   },
   "outputs": [
    {
     "data": {
      "text/plain": [
       "\n",
       "Call:\n",
       "glm(formula = Playoffs ~ RS + RA, family = binomial, data = moneyball)\n",
       "\n",
       "Deviance Residuals: \n",
       "     Min        1Q    Median        3Q       Max  \n",
       "-2.48032  -0.39052  -0.11953  -0.02199   3.01063  \n",
       "\n",
       "Coefficients:\n",
       "             Estimate Std. Error z value Pr(>|z|)    \n",
       "(Intercept) -5.098231   0.980387   -5.20 1.99e-07 ***\n",
       "RS           0.032685   0.002266   14.42  < 2e-16 ***\n",
       "RA          -0.029999   0.002228  -13.46  < 2e-16 ***\n",
       "---\n",
       "Signif. codes:  0 ‘***’ 0.001 ‘**’ 0.01 ‘*’ 0.05 ‘.’ 0.1 ‘ ’ 1\n",
       "\n",
       "(Dispersion parameter for binomial family taken to be 1)\n",
       "\n",
       "    Null deviance: 1226.31  on 1231  degrees of freedom\n",
       "Residual deviance:  632.57  on 1229  degrees of freedom\n",
       "AIC: 638.57\n",
       "\n",
       "Number of Fisher Scoring iterations: 7\n"
      ]
     },
     "metadata": {
      "tags": []
     },
     "output_type": "display_data"
    }
   ],
   "source": [
    "# RS와 RA 두 변수를 이용한 로지스틱회귀분석 모델(상수항 언급할 필요 없음)\n",
    "\n",
    "glm = glm(Playoffs ~ RS + RA, data = moneyball, family = binomial)\n",
    "summary(glm)"
   ]
  },
  {
   "cell_type": "code",
   "execution_count": 0,
   "metadata": {
    "colab": {},
    "colab_type": "code",
    "id": "hrty45Syedgw",
    "outputId": "b0eee803-9222-469d-9717-57ad63a48fab"
   },
   "outputs": [
    {
     "data": {
      "text/plain": [
       "\n",
       "Call:\n",
       "glm(formula = Playoffs ~ RS + RA + OBP + SLG + BA + G, family = binomial, \n",
       "    data = moneyball)\n",
       "\n",
       "Deviance Residuals: \n",
       "     Min        1Q    Median        3Q       Max  \n",
       "-2.45163  -0.38411  -0.11670  -0.02104   2.85167  \n",
       "\n",
       "Coefficients:\n",
       "              Estimate Std. Error z value Pr(>|z|)    \n",
       "(Intercept)  -7.051707  29.004020  -0.243   0.8079    \n",
       "RS            0.022982   0.004327   5.311 1.09e-07 ***\n",
       "RA           -0.031057   0.002330 -13.331  < 2e-16 ***\n",
       "OBP          44.845883  18.452902   2.430   0.0151 *  \n",
       "SLG          18.942805   8.275962   2.289   0.0221 *  \n",
       "BA          -22.765310  15.575113  -1.462   0.1438    \n",
       "G            -0.041106   0.173061  -0.238   0.8122    \n",
       "---\n",
       "Signif. codes:  0 ‘***’ 0.001 ‘**’ 0.01 ‘*’ 0.05 ‘.’ 0.1 ‘ ’ 1\n",
       "\n",
       "(Dispersion parameter for binomial family taken to be 1)\n",
       "\n",
       "    Null deviance: 1226.3  on 1231  degrees of freedom\n",
       "Residual deviance:  623.4  on 1225  degrees of freedom\n",
       "AIC: 637.4\n",
       "\n",
       "Number of Fisher Scoring iterations: 7\n"
      ]
     },
     "metadata": {
      "tags": []
     },
     "output_type": "display_data"
    }
   ],
   "source": [
    "# RS, RA, OBP, SLG, BA, G 모든 변수를 이용한 로지스틱회귀분석 모델(상수항 언급할 필요 없음)\n",
    "\n",
    "glm = glm(Playoffs ~ RS + RA + OBP + SLG + BA + G, data = moneyball, family = binomial)\n",
    "summary(glm)"
   ]
  },
  {
   "cell_type": "code",
   "execution_count": 0,
   "metadata": {
    "colab": {},
    "colab_type": "code",
    "id": "HozYxUNeedgy",
    "outputId": "cb5c579d-9616-435e-a7a8-d6ce59d21c38"
   },
   "outputs": [
    {
     "name": "stdout",
     "output_type": "stream",
     "text": [
      "Start:  AIC=637.4\n",
      "Playoffs ~ RS + RA + OBP + SLG + BA + G\n",
      "\n",
      "       Df Deviance     AIC\n",
      "- G     1   623.45  635.45\n",
      "<none>      623.40  637.40\n",
      "- BA    1   625.54  637.54\n",
      "- SLG   1   628.71  640.71\n",
      "- OBP   1   629.36  641.36\n",
      "- RS    1   654.05  666.05\n",
      "- RA    1  1020.98 1032.98\n",
      "\n",
      "Step:  AIC=635.45\n",
      "Playoffs ~ RS + RA + OBP + SLG + BA\n",
      "\n",
      "       Df Deviance     AIC\n",
      "<none>      623.45  635.45\n",
      "- BA    1   625.59  635.59\n",
      "- SLG   1   628.99  638.99\n",
      "- OBP   1   629.63  639.63\n",
      "- RS    1   654.49  664.49\n",
      "- RA    1  1021.18 1031.18\n"
     ]
    },
    {
     "data": {
      "text/plain": [
       "\n",
       "Call:  glm(formula = Playoffs ~ RS + RA + OBP + SLG + BA, family = binomial, \n",
       "    data = moneyball)\n",
       "\n",
       "Coefficients:\n",
       "(Intercept)           RS           RA          OBP          SLG           BA  \n",
       "  -13.86694      0.02282     -0.03107     45.33790     19.19142    -22.67300  \n",
       "\n",
       "Degrees of Freedom: 1231 Total (i.e. Null);  1226 Residual\n",
       "Null Deviance:\t    1226 \n",
       "Residual Deviance: 623.5 \tAIC: 635.5"
      ]
     },
     "metadata": {
      "tags": []
     },
     "output_type": "display_data"
    }
   ],
   "source": [
    "# 변수선택법(후진제거법)\n",
    "\n",
    "step(glm, direction = \"backward\")"
   ]
  },
  {
   "cell_type": "code",
   "execution_count": 0,
   "metadata": {
    "colab": {},
    "colab_type": "code",
    "id": "OFIESdkVedg1",
    "outputId": "d66f6a53-89eb-4e5c-be63-064791ede763"
   },
   "outputs": [
    {
     "name": "stdout",
     "output_type": "stream",
     "text": [
      "Start:  AIC=637.4\n",
      "Playoffs ~ RS + RA + OBP + SLG + BA + G\n",
      "\n"
     ]
    },
    {
     "data": {
      "text/plain": [
       "\n",
       "Call:  glm(formula = Playoffs ~ RS + RA + OBP + SLG + BA + G, family = binomial, \n",
       "    data = moneyball)\n",
       "\n",
       "Coefficients:\n",
       "(Intercept)           RS           RA          OBP          SLG           BA  \n",
       "   -7.05171      0.02298     -0.03106     44.84588     18.94281    -22.76531  \n",
       "          G  \n",
       "   -0.04111  \n",
       "\n",
       "Degrees of Freedom: 1231 Total (i.e. Null);  1225 Residual\n",
       "Null Deviance:\t    1226 \n",
       "Residual Deviance: 623.4 \tAIC: 637.4"
      ]
     },
     "metadata": {
      "tags": []
     },
     "output_type": "display_data"
    }
   ],
   "source": [
    "# 변수선택법(전진선택법)\n",
    "\n",
    "step(glm, direction = \"forward\")"
   ]
  },
  {
   "cell_type": "code",
   "execution_count": 0,
   "metadata": {
    "colab": {},
    "colab_type": "code",
    "id": "CIW6khRYedg3"
   },
   "outputs": [],
   "source": [
    ""
   ]
  }
 ],
 "metadata": {
  "colab": {
   "name": "Part2_참고자료_Regression in R.ipynb",
   "provenance": []
  },
  "kernelspec": {
   "display_name": "R",
   "language": "R",
   "name": "ir"
  },
  "language_info": {
   "codemirror_mode": "r",
   "file_extension": ".r",
   "mimetype": "text/x-r-source",
   "name": "R",
   "pygments_lexer": "r",
   "version": "3.6.1"
  }
 },
 "nbformat": 4,
 "nbformat_minor": 0
}
