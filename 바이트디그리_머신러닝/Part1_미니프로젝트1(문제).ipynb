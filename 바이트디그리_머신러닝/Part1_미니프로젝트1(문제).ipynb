{
 "cells": [
  {
   "cell_type": "markdown",
   "metadata": {
    "colab_type": "text",
    "id": "5QdsW3yuo51L"
   },
   "source": [
    "---\n",
    "# 프로젝트명 : 확률과 손실(비용)함수로 배우는 최적화\n",
    "## 프로젝트목표\n",
    "    - 확률변수와 MLE 이해\n",
    "    - 반응함수와 단순회귀모형 이해\n",
    "    - 편미분 개념과 경사하강법 이해\n",
    "\n",
    "## 프로젝트구성\n",
    "    - 서술형 : 최대우도추정량, 불편추정량\n",
    "    - 서술형 : 오차정규성, 오차등분산성, 반응함수, 회귀선\n",
    "    - Python으로 최소제곱법 구현\n",
    "    - pyplot으로 최소제곱법 시각화\n",
    "\n",
    "- 작성자: 이정훈 감수자\n",
    "---"
   ]
  },
  {
   "cell_type": "markdown",
   "metadata": {
    "colab_type": "text",
    "id": "pPDhQ3IqCmRc"
   },
   "source": [
    "# (서술형)과제1\n",
    "## 서로 독립인 확률변수 $X_i(i=1,2,...,n)$이 성공확률  p인 베르누이(Bernoulli)분포를 따른다. 다음 물음에 답하시오.\n"
   ]
  },
  {
   "cell_type": "markdown",
   "metadata": {
    "colab_type": "text",
    "id": "8_4z1cvUFj_-"
   },
   "source": [
    "\n",
    "(1) 최대우도추정량(MLE)에 대해 약술하시오\n"
   ]
  },
  {
   "cell_type": "markdown",
   "metadata": {
    "colab_type": "text",
    "id": "mEtQ0nzPFpN7"
   },
   "source": [
    "[풀이]"
   ]
  },
  {
   "cell_type": "markdown",
   "metadata": {},
   "source": [
    "MLE란 LIkelihood를 최대로 만드는 모수의 값이다. \n",
    "Likelihood 란 가능도함수,우도함수라고도 불리우며 확률분포함수는 뮤가 주어졌을때 X에 대한 함수이고 가능도 함수란 X가 주어졌을때 뮤에 대한 함수이다. 뮤는 평균을 의미한다. 확률분포함수는 모수를 알때 확률변수의 실현값을 예측하는것이고 Likelihood 는 확률변수의 실현값을 알 때 (데이터가있을때) 모수를 추정하고자 한다. \n",
    "Likelihood function 에 미분에 용이하도록 Log Likelihood 를 구성하고 미분을 실행하고\n",
    "미분한 함수가 0이 되게하는 뮤제로햇을 구한다."
   ]
  },
  {
   "cell_type": "markdown",
   "metadata": {
    "colab_type": "text",
    "id": "xoxBqZYgFm-8"
   },
   "source": [
    "\n",
    "(2)  $S= \\sum_{i=1}^n X_i$라고 할 때,  $(\\frac{S}{n})^2$이 $p^2$의 최대우도추정량(MLE)임을 보이시오.\n"
   ]
  },
  {
   "cell_type": "markdown",
   "metadata": {
    "colab_type": "text",
    "id": "GAjHxZzSFutZ"
   },
   "source": [
    "[풀이]"
   ]
  },
  {
   "cell_type": "code",
   "execution_count": null,
   "metadata": {},
   "outputs": [],
   "source": [
    "S는 Xi의 n길이 만큼의 합인데 "
   ]
  },
  {
   "cell_type": "markdown",
   "metadata": {
    "colab_type": "text",
    "id": "bpcCdSzjFs4C"
   },
   "source": [
    "\n",
    "(3)$(\\frac{S}{n})^2$이 $p^2$의 불편추정량인지 판별하고 그 이유에 대해서 서술하시오.\n",
    "\n"
   ]
  },
  {
   "cell_type": "markdown",
   "metadata": {
    "colab_type": "text",
    "id": "gWUDUTs8LST0"
   },
   "source": [
    "[풀이] 모수 θ의 추정량을  으로 나타낼 때,  의 기댓값이 인 경우를 말한다.    이 경우  를 에 대한 불편추정량이라고 한다."
   ]
  },
  {
   "cell_type": "markdown",
   "metadata": {
    "colab_type": "text",
    "id": "mrKTEKDYFEYR"
   },
   "source": [
    "\n",
    "# (서술형)과제2\n",
    "## 종속변수가 질적변수인 회귀모형 $y_i=\\beta_0+\\beta_i x_i+\\epsilon_i$, ($i=1,2,..., n$이고 $y_i=0$또는 1)에서 아래의 질문에 답하시오."
   ]
  },
  {
   "cell_type": "markdown",
   "metadata": {
    "colab_type": "text",
    "id": "6K-pU_F2LYB2"
   },
   "source": [
    "\n",
    "(1) 오차의 정규성이 만족하지 않음을 보이고, 이러한 경우 발생하는 문제점을 서술하시오.\n"
   ]
  },
  {
   "cell_type": "markdown",
   "metadata": {
    "colab_type": "text",
    "id": "3doZWmlgLkAr"
   },
   "source": [
    "[풀이]"
   ]
  },
  {
   "cell_type": "markdown",
   "metadata": {
    "colab_type": "text",
    "id": "wLV82nRlLZoB"
   },
   "source": [
    "\n",
    "(2) 오차의 등분산성 가정이 만족하지 않음을 보이고, 이러한 경우 발생하는 문제점과 그 해결방안을 서술하시오.\n"
   ]
  },
  {
   "cell_type": "markdown",
   "metadata": {
    "colab_type": "text",
    "id": "B1e_sQJqLkZG"
   },
   "source": [
    "[풀이] 등분산을 균등분산을 의미한다. 즉, 분산이 로 일정한 경우를 말한다."
   ]
  },
  {
   "cell_type": "markdown",
   "metadata": {
    "colab_type": "text",
    "id": "fpcvp65LLace"
   },
   "source": [
    "\n",
    "(3) $E(\\epsilon_i)=0$일 때 반응함수 $E(y_i)$를 계산하시오.\n"
   ]
  },
  {
   "cell_type": "markdown",
   "metadata": {
    "colab_type": "text",
    "id": "zicFYN4dLk1R"
   },
   "source": [
    "[풀이]"
   ]
  },
  {
   "cell_type": "markdown",
   "metadata": {
    "colab_type": "text",
    "id": "B2LiJ1TnLbay"
   },
   "source": [
    "\n",
    "(4) [실습1] \n",
    "생산 담당자가 조립라인의 직원 5명을 대상으로 시간당 생산성과 업무적성을 조사한 자료가 다음과 같다.\n",
    "직원:A, B, C, D, E; x=업무적성 점수; y=시간당 생산품 개수\n",
    "\n",
    "A; x=12, y=55\n",
    "B; x=14, y=63\n",
    "C; x=17, y=67\n",
    "D; x=16, y=70\n",
    "E; x=11, y=51\n",
    "\n",
    "회귀직선의 기울기와 회귀직선의 y절편을 구하고, 추정을 위한 회귀직선을 구하시오.\n"
   ]
  },
  {
   "cell_type": "markdown",
   "metadata": {
    "colab_type": "text",
    "id": "MR5frqt5Ll_j"
   },
   "source": [
    "[풀이]"
   ]
  },
  {
   "cell_type": "code",
   "execution_count": 98,
   "metadata": {},
   "outputs": [],
   "source": [
    "data2 = [[12,55],[14,63],[17,67],[16,70],[11,51]]"
   ]
  },
  {
   "cell_type": "code",
   "execution_count": 102,
   "metadata": {},
   "outputs": [
    {
     "name": "stdout",
     "output_type": "stream",
     "text": [
      "기울기 3.0\n",
      "y절편 19.200000000000003\n"
     ]
    },
    {
     "data": {
      "image/png": "[encoded data removed]",
      "text/plain": [
       "<Figure size 432x288 with 1 Axes>"
      ]
     },
     "metadata": {
      "needs_background": "light"
     },
     "output_type": "display_data"
    }
   ],
   "source": [
    "x_data2 = [x_row[0] for x_row in data2]\n",
    "y_data2 = [y_row[1] for y_row in data2]\n",
    "\n",
    "xAvg2 = np.mean(x_data2)\n",
    "yAvg2 = np.mean(y_data2)\n",
    "\n",
    "#분모\n",
    "divisor2 = sum([(i - xAvg2) ** 2 for i in x_data2])\n",
    "#분자\n",
    "dividend2 = 0\n",
    "for i in range(len(x_data2)):\n",
    "    dividend2 += (x_data2[i] - xAvg2) * (y_data2[i] - yAvg2)\n",
    "\n",
    "a2 = dividend2 / divisor2\n",
    "b2 = yAvg2 - (xAvg2 * a2)\n",
    "\n",
    "line_x2 = np.arange(min(x_data2), max(x_data2), 0.01)\n",
    "gradient2 = a2 * line_x2 + b2\n",
    "\n",
    "\n",
    "print(\"기울기\", a2)\n",
    "print(\"y절편\", b2)\n",
    "\n",
    "plt.scatter(x_data2,y_data2,label=\"data\")\n",
    "plt.plot(line_x2, gradient2 ,label=\"result\")\n",
    "plt.legend()\n",
    "plt.show()"
   ]
  },
  {
   "cell_type": "markdown",
   "metadata": {
    "colab_type": "text",
    "id": "CH5VUryuLdTM"
   },
   "source": [
    "\n",
    "\n",
    "\n",
    "# (코딩)과제3 - 설명\n",
    "\n",
    "## 경사하강법을 통한 오차 제곱의 최소인 a, b 구하기\n"
   ]
  },
  {
   "cell_type": "markdown",
   "metadata": {
    "colab_type": "text",
    "id": "JNRgsuTJFHy5"
   },
   "source": [
    "\n",
    "## 경사하강법이란?\n",
    "\n",
    "n개 데이터의 점 각각에서 오차 제곱의 합은 다음과 같이 계산합니다.\n",
    "\n",
    "$$E=\\sum_{i=1}^{n} (y_k-f(x_k))^2_i$$\n",
    "\n",
    "이 때, E의 최솟값을 구하는 것이기 때문에 1/2배 하여도 문제가 없습니다.\n",
    "\n",
    "$$E=\\frac{1}{2}\\sum_{i=1}^{n} (y_k-f(x_k))^2_i$$\n",
    "\n",
    "이제 선형회귀를 머신러닝에 적용하기 위하여 위 식을 머신러닝의 '손실함수'라 하면 미분했을때 다음과 같다.\n",
    "\n",
    "$$f(x_k)=ax_k+b$$\n",
    "\n",
    "즉, a, b라는 변수가 2개인 상태로 손실함수 E를 고려하면 E의 최솟값은 a, b의 편미분을 통하여 구할 수 있다.\n",
    "\n",
    "$$\\mathbf{X_1} = \\left[\\begin{array}\n",
    "{rr}\n",
    "\\delta a & \\delta b \\\\\n",
    "\\end{array}\\right]\n",
    "$$\n",
    "\n",
    "$$\\mathbf{X_2} = \\left[\\begin{array}\n",
    "{rr}\n",
    "E_a & E_b \\\\\n",
    "\\end{array}\\right]\n",
    "$$\n",
    "\n",
    "$$ \\mathbf{X_1}=-\\eta \\mathbf{X_2}$$\n",
    "\n",
    "f(x_k)를 a, b에  대하여 편미분을 하면 다음이 성립한다.\n",
    "\n",
    "$$f_a=x_k, f_b=1$$\n",
    "\n",
    "그러므로 손실함수 E를 a, b에 대하여 편미분하면 다음이 성립한다.\n",
    "\n",
    "$$E_a=\\sum_{i=1}^{n} (f(x_k)-y_k)x_k$$\n",
    "$$E_b=\\sum_{i=1}^{n} (f(x_k)-y_k)$$\n",
    "\n",
    "이제 손실함숫값이 크게 변하지 않을 때까지 반복하여 계산하면 오차 제곱의 합이 최소일 때 a, b를 찾을 수 있다.\n"
   ]
  },
  {
   "cell_type": "markdown",
   "metadata": {
    "colab_type": "text",
    "id": "ldN5ZVytLf1l"
   },
   "source": [
    "\n",
    "# (코딩)과제3\n",
    "## 주어진 데이터에 대하여 초기값 a=0.5, b=1.5 학습률=0.006으로 하여 직접 코딩을 하여서 최소제곱법을 구현하고 시각화하시오."
   ]
  },
  {
   "cell_type": "code",
   "execution_count": 28,
   "metadata": {},
   "outputs": [
    {
     "data": {
      "text/plain": [
       "[[0, 1.5],\n",
       " [2, 1.7],\n",
       " [3, 2.1],\n",
       " [5, 2.2],\n",
       " [6, 2.8],\n",
       " [7, 2.9],\n",
       " [9, 3.2],\n",
       " [11, 3.7]]"
      ]
     },
     "execution_count": 28,
     "metadata": {},
     "output_type": "execute_result"
    }
   ],
   "source": [
    "data=[[0, 1.5], [2, 1.7], [3, 2.1], [5, 2.2], [6, 2.8], [7, 2.9], [9, 3.2], [11, 3.7]]\n",
    "data"
   ]
  },
  {
   "cell_type": "markdown",
   "metadata": {
    "colab_type": "text",
    "id": "EN5urZHYWr2P"
   },
   "source": [
    "## STEP 1."
   ]
  },
  {
   "cell_type": "code",
   "execution_count": 90,
   "metadata": {
    "colab": {},
    "colab_type": "code",
    "id": "DYMJI5H6CmRd",
    "scrolled": false
   },
   "outputs": [
    {
     "name": "stdout",
     "output_type": "stream",
     "text": [
      "기울기 0.20519307589880162\n",
      "y절편 1.4095872170439414\n"
     ]
    },
    {
     "data": {
      "image/png": "[encoded data removed]",
      "text/plain": [
       "<Figure size 432x288 with 1 Axes>"
      ]
     },
     "metadata": {
      "needs_background": "light"
     },
     "output_type": "display_data"
    }
   ],
   "source": [
    "data=[[0, 1.5], [2, 1.7], [3, 2.1], [5, 2.2], [6, 2.8], [7, 2.9], [9, 3.2], [11, 3.7]]\n",
    "import matplotlib.pyplot as plt\n",
    "import numpy as np\n",
    "\n",
    "# (코드입력)함수를 정의합니다.\n",
    "x_data = [x_row[0] for x_row in data]\n",
    "y_data = [y_row[1] for y_row in data]\n",
    "\n",
    "xAvg = np.mean(x_data)\n",
    "yAvg = np.mean(y_data)\n",
    "\n",
    "#분모\n",
    "divisor = sum([(i - xAvg) ** 2 for i in x_data])\n",
    "#분자\n",
    "dividend = 0\n",
    "for i in range(len(x_data)):\n",
    "    dividend += (x_data[i] - xAvg) * (y_data[i] - yAvg)\n",
    "\n",
    "a = dividend / divisor\n",
    "b = yAvg - (xAvg * a)\n",
    "\n",
    "line_x = np.arange(min(x_data), max(x_data), 0.01)\n",
    "gradient = a * line_x + b\n",
    "\n",
    "print(\"기울기\", a)\n",
    "print(\"y절편\", b)\n",
    "\n",
    "plt.scatter(x_data,y_data,label=\"data\")\n",
    "plt.plot(line_x, gradient ,label=\"result\")\n",
    "plt.legend()\n",
    "plt.show()"
   ]
  },
  {
   "cell_type": "markdown",
   "metadata": {},
   "source": [
    "데이터에 대한 최소 제곱법을 했습니다. "
   ]
  },
  {
   "cell_type": "markdown",
   "metadata": {
    "colab_type": "text",
    "id": "D4vk-NSDWvTz"
   },
   "source": [
    "## STEP 2."
   ]
  },
  {
   "cell_type": "code",
   "execution_count": 112,
   "metadata": {
    "colab": {},
    "colab_type": "code",
    "id": "6uCG1j0WCmRg"
   },
   "outputs": [
    {
     "ename": "AttributeError",
     "evalue": "module 'tensorflow' has no attribute 'sqrt'",
     "output_type": "error",
     "traceback": [
      "\u001b[1;31m---------------------------------------------------------------------------\u001b[0m",
      "\u001b[1;31mAttributeError\u001b[0m                            Traceback (most recent call last)",
      "\u001b[1;32m<ipython-input-112-7bd3289818c4>\u001b[0m in \u001b[0;36m<module>\u001b[1;34m\u001b[0m\n\u001b[0;32m     10\u001b[0m \u001b[0my\u001b[0m \u001b[1;33m=\u001b[0m \u001b[0ma\u001b[0m \u001b[1;33m*\u001b[0m \u001b[0mnp\u001b[0m\u001b[1;33m.\u001b[0m\u001b[0marray\u001b[0m\u001b[1;33m(\u001b[0m\u001b[0mx_data\u001b[0m\u001b[1;33m)\u001b[0m \u001b[1;33m+\u001b[0m \u001b[0mb\u001b[0m\u001b[1;33m\u001b[0m\u001b[1;33m\u001b[0m\u001b[0m\n\u001b[0;32m     11\u001b[0m \u001b[1;33m\u001b[0m\u001b[0m\n\u001b[1;32m---> 12\u001b[1;33m \u001b[0mrmse\u001b[0m \u001b[1;33m=\u001b[0m \u001b[0mtf\u001b[0m\u001b[1;33m.\u001b[0m\u001b[0msqrt\u001b[0m\u001b[1;33m(\u001b[0m\u001b[0mtf\u001b[0m\u001b[1;33m.\u001b[0m\u001b[0mreduce_mean\u001b[0m\u001b[1;33m(\u001b[0m\u001b[0mtf\u001b[0m\u001b[1;33m.\u001b[0m\u001b[0msquare\u001b[0m\u001b[1;33m(\u001b[0m\u001b[0my\u001b[0m\u001b[1;33m-\u001b[0m\u001b[0my_data\u001b[0m\u001b[1;33m)\u001b[0m\u001b[1;33m)\u001b[0m\u001b[1;33m)\u001b[0m\u001b[1;33m\u001b[0m\u001b[1;33m\u001b[0m\u001b[0m\n\u001b[0m",
      "\u001b[1;31mAttributeError\u001b[0m: module 'tensorflow' has no attribute 'sqrt'"
     ]
    }
   ],
   "source": [
    "import tensorflow as tf\n",
    "eta = 0.006 #학습률\n",
    "a, b = 0.5, 1.5 #기울기(a), 절편(b)\n",
    "\n",
    "# (코드입력)오차 제곱의 합이 최소일 때의 a, b 를 for문으로 출력하고, plt를 사용하여 시각화합니다.\n",
    "\n",
    "x_data = [x_row[0] for x_row in data]\n",
    "y_data = [y_row[1] for y_row in data]\n",
    "\n",
    "y = a * np.array(x_data) + b\n",
    "\n",
    "rmse = tf.sqrt(tf.reduce_mean(tf.square(y-y_data)))"
   ]
  },
  {
   "cell_type": "code",
   "execution_count": 103,
   "metadata": {
    "colab": {},
    "colab_type": "code",
    "id": "VtUmyPcjCmRi"
   },
   "outputs": [
    {
     "data": {
      "text/plain": [
       "[0, 2, 3, 5, 6, 7, 9, 11]"
      ]
     },
     "execution_count": 103,
     "metadata": {},
     "output_type": "execute_result"
    }
   ],
   "source": [
    "x_data"
   ]
  },
  {
   "cell_type": "code",
   "execution_count": 108,
   "metadata": {},
   "outputs": [
    {
     "ename": "SyntaxError",
     "evalue": "invalid syntax (<ipython-input-108-11bc0ea1790c>, line 1)",
     "output_type": "error",
     "traceback": [
      "\u001b[1;36m  File \u001b[1;32m\"<ipython-input-108-11bc0ea1790c>\"\u001b[1;36m, line \u001b[1;32m1\u001b[0m\n\u001b[1;33m    tf_upgrade_v2 --infile tensorfoo.py --outfile tensorfoo-upgraded.py\u001b[0m\n\u001b[1;37m                                   ^\u001b[0m\n\u001b[1;31mSyntaxError\u001b[0m\u001b[1;31m:\u001b[0m invalid syntax\n"
     ]
    }
   ],
   "source": [
    "tf_upgrade_v2 --infile tensorfoo.py --outfile tensorfoo-upgraded.py"
   ]
  }
 ],
 "metadata": {
  "colab": {
   "name": "Part1_미니프로젝트1(문제).ipynb",
   "provenance": []
  },
  "kernelspec": {
   "display_name": "Python 3",
   "language": "python",
   "name": "python3"
  },
  "language_info": {
   "codemirror_mode": {
    "name": "ipython",
    "version": 3
   },
   "file_extension": ".py",
   "mimetype": "text/x-python",
   "name": "python",
   "nbconvert_exporter": "python",
   "pygments_lexer": "ipython3",
   "version": "3.7.7"
  }
 },
 "nbformat": 4,
 "nbformat_minor": 1
}
