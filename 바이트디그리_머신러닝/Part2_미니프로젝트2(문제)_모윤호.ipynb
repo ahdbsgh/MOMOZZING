{
 "cells": [
  {
   "cell_type": "markdown",
   "metadata": {
    "colab_type": "text",
    "id": "MRClF1EAHiYq"
   },
   "source": [
    "---\n",
    "# 프로젝트 명: MLB 데이터를 활용한 회귀모델 생성 및 결과분석\n",
    "\n",
    "## 데이터 출처: [Moneyball | Kaggle](https://www.kaggle.com/wduckett/moneyball-mlb-stats-19622012)\n",
    "\n",
    "## 프로젝트 목표\n",
    "    MLB Moneyball 데이터와 강의 실습시간에 배운 내용으로 회귀분석 및 로지스틱회귀분석 모델 생성\n",
    "        - 한 시즌 동안 승리한 횟수(W) 예측 회귀분석 모델, 플레이오프 진출 여부(Playoffs) 결정 로지스틱회귀분석 모델 생성\n",
    "    독립변수들과 종속변수와의 인과관계를 고려하여 모델에 영향력이 큰 유의미한 독립변수 찾기\n",
    "        - 기존의 독립변수를 조합하여 만든 변수로 예측해보기\n",
    "        - 변수선택법(전진선택법, 후진소거법)으로 최적의 변수 조합 찾기\n",
    "        - 다중공선성 문제 확인\n",
    "    회귀모델의 결과를 해석하는 방법 습득\n",
    "\n",
    "## 프로젝트 구성\n",
    "    - 시각화를 통한 데이터의 이해\n",
    "    - RS를 독립변수로 W를 예측하는 단순선형회귀 모델 생성\n",
    "    - (RS-RA)를 독립변수로 W를 예측하는 단순선형회귀 모델 생성\n",
    "    - 회귀분석 결과의 해석\n",
    "    - 모든 변수를 활용한 다중회귀분석 및 다중공선성 문제\n",
    "    - 로지스틱회귀 모델 생성\n",
    "    - 변수 선택법으로 로지스틱회귀분석 정확도 올리기\n",
    "\n",
    "## 프로젝트 과정\n",
    "    - 데이터의 간단한 시각화에서부터 회귀분석과 로지스틱회귀분석 문제 해결까지 강의 실습 내용 확인\n",
    "    - 모델 생성 및 해석에 대한 내용에 집중하기 위해서 학습데이터와 테스트데이터를 구분하지 않고 진행\n",
    "    - 강의 실습 시간에 다룬 자료를 이용해서 코드 작성\n",
    "\n",
    "- 작성자: 김민중 감수자\n",
    "\n",
    "---"
   ]
  },
  {
   "cell_type": "markdown",
   "metadata": {
    "colab_type": "text",
    "id": "_SEzkOnNHiYr"
   },
   "source": [
    "### Context\n",
    "\n",
    "In the early 2000s, Billy Beane and Paul DePodesta worked for the Oakland Athletics. While there, they literally changed the game of baseball. They didn't do it using a bat or glove, and they certainly didn't do it by throwing money at the issue; in fact, money was the issue. They didn't have enough of it, but they were still expected to keep up with teams that had much deeper pockets. This is where Statistics came riding down the hillside on a white horse to save the day. This data set contains some of the information that was available to Beane and DePodesta in the early 2000s, and it can be used to better understand their methods.\n",
    "\n",
    "### Content\n",
    "\n",
    "This data set contains a set of variables that Beane and DePodesta focused heavily on. They determined that stats like on-base percentage (OBP) and slugging percentage (SLG) were very important when it came to scoring runs, however they were largely undervalued by most scouts at the time. This translated to a gold mine for Beane and DePodesta. Since these players weren't being looked at by other teams, they could recruit these players on a small budget. The variables are as follows:\n",
    "\n",
    "- Team, 팀\n",
    "- League, 리그\n",
    "- Year, 연도\n",
    "- Runs Scored (RS), 득점 수\n",
    "- Runs Allowed (RA), 실점 수\n",
    "- Wins (W), 승리 횟수\n",
    "- On-Base Percentage (OBP), 출루율\n",
    "- Slugging Percentage (SLG), 장타율\n",
    "- Batting Average (BA), 타율\n",
    "- Playoffs (binary), 플레이오프 진출 여부\n",
    "- RankSeason, 시즌 순위\n",
    "- RankPlayoffs 플레이오프 순위\n",
    "- Games Played (G), 경기 수\n",
    "- Opponent On-Base Percentage (OOBP), 도루 허용률\n",
    "- Opponent Slugging Percentage (OSLG), 피장타율\n",
    "\n",
    "### [Baseball statistics](https://en.wikipedia.org/wiki/Baseball_statistics)을 살펴보면 각 변수의 정확한 의미를 파악할 수 있다."
   ]
  },
  {
   "cell_type": "markdown",
   "metadata": {
    "colab_type": "text",
    "id": "ajyCXrZwZRPa"
   },
   "source": [
    "# 아래 코드를 실행해주세요."
   ]
  },
  {
   "cell_type": "code",
   "execution_count": 1,
   "metadata": {
    "colab": {},
    "colab_type": "code",
    "id": "xv5p8QHzHiYs",
    "scrolled": true
   },
   "outputs": [
    {
     "name": "stdout",
     "output_type": "stream",
     "text": [
      "python version:  3.7.7 (default, May  6 2020, 11:45:54) [MSC v.1916 64 bit (AMD64)]\n",
      "pandas version:  1.0.5\n",
      "statsmodels version:  0.11.1\n",
      "numpy version:  1.18.5\n"
     ]
    }
   ],
   "source": [
    "# 참고: 프로젝트 출제자의 Python 및 주요 라이브러리 버전\n",
    "\n",
    "import pandas as pd \n",
    "import numpy as np\n",
    "import statsmodels.api as sm\n",
    "import matplotlib.pyplot as plt\n",
    "import sys\n",
    "import seaborn as sns\n",
    "\n",
    "print(\"python version: \", sys.version)\n",
    "print(\"pandas version: \", pd.__version__)\n",
    "print(\"statsmodels version: \", sm.__version__)\n",
    "print(\"numpy version: \", np.__version__)\n",
    "\n",
    "%matplotlib inline"
   ]
  },
  {
   "cell_type": "code",
   "execution_count": 2,
   "metadata": {
    "colab": {},
    "colab_type": "code",
    "id": "eP6e9R0vHiYw"
   },
   "outputs": [
    {
     "data": {
      "text/html": [
       "<div>\n",
       "<style scoped>\n",
       "    .dataframe tbody tr th:only-of-type {\n",
       "        vertical-align: middle;\n",
       "    }\n",
       "\n",
       "    .dataframe tbody tr th {\n",
       "        vertical-align: top;\n",
       "    }\n",
       "\n",
       "    .dataframe thead th {\n",
       "        text-align: right;\n",
       "    }\n",
       "</style>\n",
       "<table border=\"1\" class=\"dataframe\">\n",
       "  <thead>\n",
       "    <tr style=\"text-align: right;\">\n",
       "      <th></th>\n",
       "      <th>Team</th>\n",
       "      <th>League</th>\n",
       "      <th>Year</th>\n",
       "      <th>RS</th>\n",
       "      <th>RA</th>\n",
       "      <th>W</th>\n",
       "      <th>OBP</th>\n",
       "      <th>SLG</th>\n",
       "      <th>BA</th>\n",
       "      <th>Playoffs</th>\n",
       "      <th>RankSeason</th>\n",
       "      <th>RankPlayoffs</th>\n",
       "      <th>G</th>\n",
       "      <th>OOBP</th>\n",
       "      <th>OSLG</th>\n",
       "    </tr>\n",
       "  </thead>\n",
       "  <tbody>\n",
       "    <tr>\n",
       "      <th>0</th>\n",
       "      <td>ARI</td>\n",
       "      <td>NL</td>\n",
       "      <td>2012</td>\n",
       "      <td>734</td>\n",
       "      <td>688</td>\n",
       "      <td>81</td>\n",
       "      <td>0.328</td>\n",
       "      <td>0.418</td>\n",
       "      <td>0.259</td>\n",
       "      <td>0</td>\n",
       "      <td>NaN</td>\n",
       "      <td>NaN</td>\n",
       "      <td>162</td>\n",
       "      <td>0.317</td>\n",
       "      <td>0.415</td>\n",
       "    </tr>\n",
       "    <tr>\n",
       "      <th>1</th>\n",
       "      <td>ATL</td>\n",
       "      <td>NL</td>\n",
       "      <td>2012</td>\n",
       "      <td>700</td>\n",
       "      <td>600</td>\n",
       "      <td>94</td>\n",
       "      <td>0.320</td>\n",
       "      <td>0.389</td>\n",
       "      <td>0.247</td>\n",
       "      <td>1</td>\n",
       "      <td>4.0</td>\n",
       "      <td>5.0</td>\n",
       "      <td>162</td>\n",
       "      <td>0.306</td>\n",
       "      <td>0.378</td>\n",
       "    </tr>\n",
       "    <tr>\n",
       "      <th>2</th>\n",
       "      <td>BAL</td>\n",
       "      <td>AL</td>\n",
       "      <td>2012</td>\n",
       "      <td>712</td>\n",
       "      <td>705</td>\n",
       "      <td>93</td>\n",
       "      <td>0.311</td>\n",
       "      <td>0.417</td>\n",
       "      <td>0.247</td>\n",
       "      <td>1</td>\n",
       "      <td>5.0</td>\n",
       "      <td>4.0</td>\n",
       "      <td>162</td>\n",
       "      <td>0.315</td>\n",
       "      <td>0.403</td>\n",
       "    </tr>\n",
       "    <tr>\n",
       "      <th>3</th>\n",
       "      <td>BOS</td>\n",
       "      <td>AL</td>\n",
       "      <td>2012</td>\n",
       "      <td>734</td>\n",
       "      <td>806</td>\n",
       "      <td>69</td>\n",
       "      <td>0.315</td>\n",
       "      <td>0.415</td>\n",
       "      <td>0.260</td>\n",
       "      <td>0</td>\n",
       "      <td>NaN</td>\n",
       "      <td>NaN</td>\n",
       "      <td>162</td>\n",
       "      <td>0.331</td>\n",
       "      <td>0.428</td>\n",
       "    </tr>\n",
       "    <tr>\n",
       "      <th>4</th>\n",
       "      <td>CHC</td>\n",
       "      <td>NL</td>\n",
       "      <td>2012</td>\n",
       "      <td>613</td>\n",
       "      <td>759</td>\n",
       "      <td>61</td>\n",
       "      <td>0.302</td>\n",
       "      <td>0.378</td>\n",
       "      <td>0.240</td>\n",
       "      <td>0</td>\n",
       "      <td>NaN</td>\n",
       "      <td>NaN</td>\n",
       "      <td>162</td>\n",
       "      <td>0.335</td>\n",
       "      <td>0.424</td>\n",
       "    </tr>\n",
       "  </tbody>\n",
       "</table>\n",
       "</div>"
      ],
      "text/plain": [
       "  Team League  Year   RS   RA   W    OBP    SLG     BA  Playoffs  RankSeason  \\\n",
       "0  ARI     NL  2012  734  688  81  0.328  0.418  0.259         0         NaN   \n",
       "1  ATL     NL  2012  700  600  94  0.320  0.389  0.247         1         4.0   \n",
       "2  BAL     AL  2012  712  705  93  0.311  0.417  0.247         1         5.0   \n",
       "3  BOS     AL  2012  734  806  69  0.315  0.415  0.260         0         NaN   \n",
       "4  CHC     NL  2012  613  759  61  0.302  0.378  0.240         0         NaN   \n",
       "\n",
       "   RankPlayoffs    G   OOBP   OSLG  \n",
       "0           NaN  162  0.317  0.415  \n",
       "1           5.0  162  0.306  0.378  \n",
       "2           4.0  162  0.315  0.403  \n",
       "3           NaN  162  0.331  0.428  \n",
       "4           NaN  162  0.335  0.424  "
      ]
     },
     "execution_count": 2,
     "metadata": {},
     "output_type": "execute_result"
    }
   ],
   "source": [
    "# Kaggle의 정책상 프로젝트 참여자는 Kaggle에 직접 로그인해서 자료를 다운로드하는 것을 권합니다.\n",
    "# moneyball = pd.read_csv(\"https://mjgim-fc.s3.ap-northeast-2.amazonaws.com/baseball.csv\", encoding=\"utf8\")\n",
    "\n",
    "# 데이터 불러오기(자료는 data 폴더에 있음)\n",
    "moneyball = pd.read_csv(r\"C:\\Users\\home\\WorkSpace\\바이트디그리_머신러닝\\baseball.csv\", encoding=\"utf8\")\n",
    "moneyball.head()"
   ]
  },
  {
   "cell_type": "code",
   "execution_count": 3,
   "metadata": {
    "colab": {},
    "colab_type": "code",
    "id": "55k9Ky7Oahmd"
   },
   "outputs": [],
   "source": [
    "#from google.colab import drive\n",
    "#drive.mount('/content/drive')"
   ]
  },
  {
   "cell_type": "code",
   "execution_count": 4,
   "metadata": {
    "colab": {},
    "colab_type": "code",
    "id": "iGMEXzW1HiYz",
    "scrolled": true
   },
   "outputs": [
    {
     "name": "stdout",
     "output_type": "stream",
     "text": [
      "<class 'pandas.core.frame.DataFrame'>\n",
      "RangeIndex: 1232 entries, 0 to 1231\n",
      "Data columns (total 15 columns):\n",
      " #   Column        Non-Null Count  Dtype  \n",
      "---  ------        --------------  -----  \n",
      " 0   Team          1232 non-null   object \n",
      " 1   League        1232 non-null   object \n",
      " 2   Year          1232 non-null   int64  \n",
      " 3   RS            1232 non-null   int64  \n",
      " 4   RA            1232 non-null   int64  \n",
      " 5   W             1232 non-null   int64  \n",
      " 6   OBP           1232 non-null   float64\n",
      " 7   SLG           1232 non-null   float64\n",
      " 8   BA            1232 non-null   float64\n",
      " 9   Playoffs      1232 non-null   int64  \n",
      " 10  RankSeason    244 non-null    float64\n",
      " 11  RankPlayoffs  244 non-null    float64\n",
      " 12  G             1232 non-null   int64  \n",
      " 13  OOBP          420 non-null    float64\n",
      " 14  OSLG          420 non-null    float64\n",
      "dtypes: float64(7), int64(6), object(2)\n",
      "memory usage: 144.5+ KB\n"
     ]
    }
   ],
   "source": [
    "# 데이터의 간단한 정보 파악(na의 개수 및 데이터 타입)\n",
    "moneyball.info()"
   ]
  },
  {
   "cell_type": "code",
   "execution_count": 5,
   "metadata": {},
   "outputs": [
    {
     "data": {
      "text/plain": [
       "(1232, 15)"
      ]
     },
     "execution_count": 5,
     "metadata": {},
     "output_type": "execute_result"
    }
   ],
   "source": [
    "moneyball.shape"
   ]
  },
  {
   "cell_type": "code",
   "execution_count": 6,
   "metadata": {},
   "outputs": [
    {
     "data": {
      "text/plain": [
       "Team              0\n",
       "League            0\n",
       "Year              0\n",
       "RS                0\n",
       "RA                0\n",
       "W                 0\n",
       "OBP               0\n",
       "SLG               0\n",
       "BA                0\n",
       "Playoffs          0\n",
       "RankSeason      988\n",
       "RankPlayoffs    988\n",
       "G                 0\n",
       "OOBP            812\n",
       "OSLG            812\n",
       "dtype: int64"
      ]
     },
     "execution_count": 6,
     "metadata": {},
     "output_type": "execute_result"
    }
   ],
   "source": [
    "moneyball.isnull().sum()"
   ]
  },
  {
   "cell_type": "code",
   "execution_count": 7,
   "metadata": {
    "colab": {},
    "colab_type": "code",
    "id": "5ce5K44GHiY1",
    "scrolled": true
   },
   "outputs": [
    {
     "name": "stdout",
     "output_type": "stream",
     "text": [
      "<class 'pandas.core.frame.DataFrame'>\n",
      "RangeIndex: 1232 entries, 0 to 1231\n",
      "Data columns (total 11 columns):\n",
      " #   Column    Non-Null Count  Dtype  \n",
      "---  ------    --------------  -----  \n",
      " 0   Team      1232 non-null   object \n",
      " 1   League    1232 non-null   object \n",
      " 2   Year      1232 non-null   int64  \n",
      " 3   RS        1232 non-null   int64  \n",
      " 4   RA        1232 non-null   int64  \n",
      " 5   W         1232 non-null   int64  \n",
      " 6   OBP       1232 non-null   float64\n",
      " 7   SLG       1232 non-null   float64\n",
      " 8   BA        1232 non-null   float64\n",
      " 9   Playoffs  1232 non-null   int64  \n",
      " 10  G         1232 non-null   int64  \n",
      "dtypes: float64(3), int64(6), object(2)\n",
      "memory usage: 106.0+ KB\n"
     ]
    }
   ],
   "source": [
    "# na가 있는 컬럼인 RankSeason, RankPlayoffs, OOBP, OSLG을 제거(프로젝트에서 사용 안 함)\n",
    "moneyball = moneyball.dropna(axis=1)\n",
    "moneyball.info()\n",
    "\n",
    "# 1232개의 object와 11개의 변수"
   ]
  },
  {
   "cell_type": "code",
   "execution_count": 8,
   "metadata": {
    "scrolled": false
   },
   "outputs": [
    {
     "data": {
      "text/plain": [
       "Team        0\n",
       "League      0\n",
       "Year        0\n",
       "RS          0\n",
       "RA          0\n",
       "W           0\n",
       "OBP         0\n",
       "SLG         0\n",
       "BA          0\n",
       "Playoffs    0\n",
       "G           0\n",
       "dtype: int64"
      ]
     },
     "execution_count": 8,
     "metadata": {},
     "output_type": "execute_result"
    }
   ],
   "source": [
    "moneyball.isnull().sum()"
   ]
  },
  {
   "cell_type": "code",
   "execution_count": 9,
   "metadata": {},
   "outputs": [
    {
     "data": {
      "text/plain": [
       "(1232, 11)"
      ]
     },
     "execution_count": 9,
     "metadata": {},
     "output_type": "execute_result"
    }
   ],
   "source": [
    "moneyball.shape"
   ]
  },
  {
   "cell_type": "code",
   "execution_count": 10,
   "metadata": {},
   "outputs": [
    {
     "data": {
      "text/html": [
       "<div>\n",
       "<style scoped>\n",
       "    .dataframe tbody tr th:only-of-type {\n",
       "        vertical-align: middle;\n",
       "    }\n",
       "\n",
       "    .dataframe tbody tr th {\n",
       "        vertical-align: top;\n",
       "    }\n",
       "\n",
       "    .dataframe thead th {\n",
       "        text-align: right;\n",
       "    }\n",
       "</style>\n",
       "<table border=\"1\" class=\"dataframe\">\n",
       "  <thead>\n",
       "    <tr style=\"text-align: right;\">\n",
       "      <th></th>\n",
       "      <th>Team</th>\n",
       "      <th>League</th>\n",
       "      <th>Year</th>\n",
       "      <th>RS</th>\n",
       "      <th>RA</th>\n",
       "      <th>W</th>\n",
       "      <th>OBP</th>\n",
       "      <th>SLG</th>\n",
       "      <th>BA</th>\n",
       "      <th>Playoffs</th>\n",
       "      <th>G</th>\n",
       "    </tr>\n",
       "  </thead>\n",
       "  <tbody>\n",
       "    <tr>\n",
       "      <th>0</th>\n",
       "      <td>ARI</td>\n",
       "      <td>NL</td>\n",
       "      <td>2012</td>\n",
       "      <td>734</td>\n",
       "      <td>688</td>\n",
       "      <td>81</td>\n",
       "      <td>0.328</td>\n",
       "      <td>0.418</td>\n",
       "      <td>0.259</td>\n",
       "      <td>0</td>\n",
       "      <td>162</td>\n",
       "    </tr>\n",
       "    <tr>\n",
       "      <th>1</th>\n",
       "      <td>ATL</td>\n",
       "      <td>NL</td>\n",
       "      <td>2012</td>\n",
       "      <td>700</td>\n",
       "      <td>600</td>\n",
       "      <td>94</td>\n",
       "      <td>0.320</td>\n",
       "      <td>0.389</td>\n",
       "      <td>0.247</td>\n",
       "      <td>1</td>\n",
       "      <td>162</td>\n",
       "    </tr>\n",
       "    <tr>\n",
       "      <th>2</th>\n",
       "      <td>BAL</td>\n",
       "      <td>AL</td>\n",
       "      <td>2012</td>\n",
       "      <td>712</td>\n",
       "      <td>705</td>\n",
       "      <td>93</td>\n",
       "      <td>0.311</td>\n",
       "      <td>0.417</td>\n",
       "      <td>0.247</td>\n",
       "      <td>1</td>\n",
       "      <td>162</td>\n",
       "    </tr>\n",
       "    <tr>\n",
       "      <th>3</th>\n",
       "      <td>BOS</td>\n",
       "      <td>AL</td>\n",
       "      <td>2012</td>\n",
       "      <td>734</td>\n",
       "      <td>806</td>\n",
       "      <td>69</td>\n",
       "      <td>0.315</td>\n",
       "      <td>0.415</td>\n",
       "      <td>0.260</td>\n",
       "      <td>0</td>\n",
       "      <td>162</td>\n",
       "    </tr>\n",
       "    <tr>\n",
       "      <th>4</th>\n",
       "      <td>CHC</td>\n",
       "      <td>NL</td>\n",
       "      <td>2012</td>\n",
       "      <td>613</td>\n",
       "      <td>759</td>\n",
       "      <td>61</td>\n",
       "      <td>0.302</td>\n",
       "      <td>0.378</td>\n",
       "      <td>0.240</td>\n",
       "      <td>0</td>\n",
       "      <td>162</td>\n",
       "    </tr>\n",
       "  </tbody>\n",
       "</table>\n",
       "</div>"
      ],
      "text/plain": [
       "  Team League  Year   RS   RA   W    OBP    SLG     BA  Playoffs    G\n",
       "0  ARI     NL  2012  734  688  81  0.328  0.418  0.259         0  162\n",
       "1  ATL     NL  2012  700  600  94  0.320  0.389  0.247         1  162\n",
       "2  BAL     AL  2012  712  705  93  0.311  0.417  0.247         1  162\n",
       "3  BOS     AL  2012  734  806  69  0.315  0.415  0.260         0  162\n",
       "4  CHC     NL  2012  613  759  61  0.302  0.378  0.240         0  162"
      ]
     },
     "execution_count": 10,
     "metadata": {},
     "output_type": "execute_result"
    }
   ],
   "source": [
    "moneyball.head()"
   ]
  },
  {
   "cell_type": "code",
   "execution_count": 11,
   "metadata": {
    "colab": {},
    "colab_type": "code",
    "id": "4ViqkMRdHiY4",
    "scrolled": false
   },
   "outputs": [
    {
     "data": {
      "image/png": "[encoded data removed]",
      "text/plain": [
       "<Figure size 1152x864 with 64 Axes>"
      ]
     },
     "metadata": {
      "needs_background": "light"
     },
     "output_type": "display_data"
    }
   ],
   "source": [
    "# Object 변수 및 불필요한 변수 제거해서 단순 시각화 \n",
    "# 11개 컬럼중 2개의 오브젝트(Team,League)컬럼 제거 및 year 컬럼 불필요하니 제거. \n",
    "\n",
    "selected_df = moneyball.select_dtypes(exclude=['object'])\n",
    "selected_df = selected_df.drop([\"Year\"], axis=1)\n",
    "_ = pd.plotting.scatter_matrix(selected_df,\n",
    "                               alpha = 0.5, figsize=(16,12))"
   ]
  },
  {
   "cell_type": "markdown",
   "metadata": {},
   "source": [
    "# 컬럼뜻\n",
    "\n",
    "- Runs Scored (RS), 득점 수\n",
    "- Runs Allowed (RA), 실점 수\n",
    "- Wins (W), 승리 횟수\n",
    "- On-Base Percentage (OBP), 출루율\n",
    "- Slugging Percentage (SLG), 장타율\n",
    "- Batting Average (BA), 타율\n",
    "- Playoffs (binary), 플레이오프 진출 여부\n",
    "- Games Played (G), 경기 수"
   ]
  },
  {
   "cell_type": "markdown",
   "metadata": {
    "colab_type": "text",
    "id": "9pUF8Re9HiY6"
   },
   "source": [
    "## STEP 1. 시각화를 통한 데이터의 이해 \n",
    "- 다양한 수치값을 갖는 변수들의 산포도를 보고 받은 통찰(insight)은 무엇인가?\n",
    "- 상관관계를 보이는 데이터들은 존재하는가? 있다면 어떤 변수들이 어떤 관계에 있는지 대답하시오.\n",
    "- 경기 수(G)의 히스토그램은 어떤 의미를 갖는가? 또한 다른 변수들의 히스토그램을 보고 해석하시오."
   ]
  },
  {
   "attachments": {
    "%EC%83%81%EA%B4%80%EA%B3%84%EC%88%98%20%ED%95%B4%EC%84%9D%EB%B2%95.PNG": {
     "image/png": "[encoded data removed]"
    }
   },
   "cell_type": "markdown",
   "metadata": {},
   "source": [
    "### 상관관계 \n",
    "변수 (column)사이의 상관계수(correlation) corr함수를 통해 상관계수 연산(-1, 1 사이의 결과)\n",
    "\n",
    "1에 가까울수록 양의 상관관계가 강하다 (= 하나가 증가하면 다른 하나도 증가)\n",
    "\n",
    "-1에 가까울수록 음의 상관관계가 강하다 (= 하나가 증가하면 다른 하나는 감소)\n",
    "\n",
    "![%EC%83%81%EA%B4%80%EA%B3%84%EC%88%98%20%ED%95%B4%EC%84%9D%EB%B2%95.PNG](attachment:%EC%83%81%EA%B4%80%EA%B3%84%EC%88%98%20%ED%95%B4%EC%84%9D%EB%B2%95.PNG)"
   ]
  },
  {
   "cell_type": "markdown",
   "metadata": {
    "colab_type": "text",
    "id": "U5zQ0t1GHiY7"
   },
   "source": [
    "### [풀이] \n",
    "- 실점수를 제외한 나머지 득점수,승리횟수, 출루율, 장타율, 타율은 승리에 관련되어있다. 경기수가 많다고 플레이오프 진출하는것도 아니며\n",
    "- 각 경기에 따른 득점수,승리횟수, 출루율, 장타율, 타율, 실점수는 평균치를 가지고 있다. \n",
    "- playoff와 경기수를 제외한 나머지는 거의 양의 상관관계를 가지고 있고 승리횟수와 실점수는 음의 상관관계를 가지고 있다. \n",
    "- playoff와 경기수는 상관관계가 거의 없다. \n"
   ]
  },
  {
   "cell_type": "code",
   "execution_count": 12,
   "metadata": {
    "scrolled": false
   },
   "outputs": [
    {
     "data": {
      "text/html": [
       "<div>\n",
       "<style scoped>\n",
       "    .dataframe tbody tr th:only-of-type {\n",
       "        vertical-align: middle;\n",
       "    }\n",
       "\n",
       "    .dataframe tbody tr th {\n",
       "        vertical-align: top;\n",
       "    }\n",
       "\n",
       "    .dataframe thead th {\n",
       "        text-align: right;\n",
       "    }\n",
       "</style>\n",
       "<table border=\"1\" class=\"dataframe\">\n",
       "  <thead>\n",
       "    <tr style=\"text-align: right;\">\n",
       "      <th></th>\n",
       "      <th>RS</th>\n",
       "      <th>RA</th>\n",
       "      <th>W</th>\n",
       "      <th>OBP</th>\n",
       "      <th>SLG</th>\n",
       "      <th>BA</th>\n",
       "      <th>Playoffs</th>\n",
       "      <th>G</th>\n",
       "    </tr>\n",
       "  </thead>\n",
       "  <tbody>\n",
       "    <tr>\n",
       "      <th>RS</th>\n",
       "      <td>1.000000</td>\n",
       "      <td>0.380139</td>\n",
       "      <td>0.511745</td>\n",
       "      <td>0.900492</td>\n",
       "      <td>0.918740</td>\n",
       "      <td>0.827000</td>\n",
       "      <td>0.386628</td>\n",
       "      <td>0.075195</td>\n",
       "    </tr>\n",
       "    <tr>\n",
       "      <th>RA</th>\n",
       "      <td>0.380139</td>\n",
       "      <td>1.000000</td>\n",
       "      <td>-0.532394</td>\n",
       "      <td>0.326360</td>\n",
       "      <td>0.436527</td>\n",
       "      <td>0.330764</td>\n",
       "      <td>-0.261477</td>\n",
       "      <td>-0.023369</td>\n",
       "    </tr>\n",
       "    <tr>\n",
       "      <th>W</th>\n",
       "      <td>0.511745</td>\n",
       "      <td>-0.532394</td>\n",
       "      <td>1.000000</td>\n",
       "      <td>0.481836</td>\n",
       "      <td>0.401496</td>\n",
       "      <td>0.408716</td>\n",
       "      <td>0.616757</td>\n",
       "      <td>0.105309</td>\n",
       "    </tr>\n",
       "    <tr>\n",
       "      <th>OBP</th>\n",
       "      <td>0.900492</td>\n",
       "      <td>0.326360</td>\n",
       "      <td>0.481836</td>\n",
       "      <td>1.000000</td>\n",
       "      <td>0.790910</td>\n",
       "      <td>0.851958</td>\n",
       "      <td>0.363890</td>\n",
       "      <td>0.016563</td>\n",
       "    </tr>\n",
       "    <tr>\n",
       "      <th>SLG</th>\n",
       "      <td>0.918740</td>\n",
       "      <td>0.436527</td>\n",
       "      <td>0.401496</td>\n",
       "      <td>0.790910</td>\n",
       "      <td>1.000000</td>\n",
       "      <td>0.790481</td>\n",
       "      <td>0.324713</td>\n",
       "      <td>0.036770</td>\n",
       "    </tr>\n",
       "    <tr>\n",
       "      <th>BA</th>\n",
       "      <td>0.827000</td>\n",
       "      <td>0.330764</td>\n",
       "      <td>0.408716</td>\n",
       "      <td>0.851958</td>\n",
       "      <td>0.790481</td>\n",
       "      <td>1.000000</td>\n",
       "      <td>0.290217</td>\n",
       "      <td>0.019886</td>\n",
       "    </tr>\n",
       "    <tr>\n",
       "      <th>Playoffs</th>\n",
       "      <td>0.386628</td>\n",
       "      <td>-0.261477</td>\n",
       "      <td>0.616757</td>\n",
       "      <td>0.363890</td>\n",
       "      <td>0.324713</td>\n",
       "      <td>0.290217</td>\n",
       "      <td>1.000000</td>\n",
       "      <td>0.022208</td>\n",
       "    </tr>\n",
       "    <tr>\n",
       "      <th>G</th>\n",
       "      <td>0.075195</td>\n",
       "      <td>-0.023369</td>\n",
       "      <td>0.105309</td>\n",
       "      <td>0.016563</td>\n",
       "      <td>0.036770</td>\n",
       "      <td>0.019886</td>\n",
       "      <td>0.022208</td>\n",
       "      <td>1.000000</td>\n",
       "    </tr>\n",
       "  </tbody>\n",
       "</table>\n",
       "</div>"
      ],
      "text/plain": [
       "                RS        RA         W       OBP       SLG        BA  \\\n",
       "RS        1.000000  0.380139  0.511745  0.900492  0.918740  0.827000   \n",
       "RA        0.380139  1.000000 -0.532394  0.326360  0.436527  0.330764   \n",
       "W         0.511745 -0.532394  1.000000  0.481836  0.401496  0.408716   \n",
       "OBP       0.900492  0.326360  0.481836  1.000000  0.790910  0.851958   \n",
       "SLG       0.918740  0.436527  0.401496  0.790910  1.000000  0.790481   \n",
       "BA        0.827000  0.330764  0.408716  0.851958  0.790481  1.000000   \n",
       "Playoffs  0.386628 -0.261477  0.616757  0.363890  0.324713  0.290217   \n",
       "G         0.075195 -0.023369  0.105309  0.016563  0.036770  0.019886   \n",
       "\n",
       "          Playoffs         G  \n",
       "RS        0.386628  0.075195  \n",
       "RA       -0.261477 -0.023369  \n",
       "W         0.616757  0.105309  \n",
       "OBP       0.363890  0.016563  \n",
       "SLG       0.324713  0.036770  \n",
       "BA        0.290217  0.019886  \n",
       "Playoffs  1.000000  0.022208  \n",
       "G         0.022208  1.000000  "
      ]
     },
     "execution_count": 12,
     "metadata": {},
     "output_type": "execute_result"
    }
   ],
   "source": [
    "selected_df.corr()"
   ]
  },
  {
   "cell_type": "code",
   "execution_count": 13,
   "metadata": {},
   "outputs": [
    {
     "data": {
      "text/plain": [
       "<matplotlib.image.AxesImage at 0x1f56d524988>"
      ]
     },
     "execution_count": 13,
     "metadata": {},
     "output_type": "execute_result"
    },
    {
     "data": {
      "image/png": "[encoded data removed]",
      "text/plain": [
       "<Figure size 288x288 with 1 Axes>"
      ]
     },
     "metadata": {
      "needs_background": "light"
     },
     "output_type": "display_data"
    }
   ],
   "source": [
    "plt.matshow(selected_df.corr())"
   ]
  },
  {
   "cell_type": "markdown",
   "metadata": {
    "colab_type": "text",
    "id": "6IWL4r9YHiY7"
   },
   "source": [
    "## STEP 2. RS를 독립변수로 W를 예측하는 단순선형회귀 모델 생성\n",
    "- 가정: 시즌 총 득점(RS)이 승리에 영향을 줄 것이다.\n",
    "- RS를 독립변수로 W를 예측한 단순선형모델 직선의 기울기 $\\alpha$와 절편 $\\beta$는 몇인가?\n",
    "\n",
    "$$\n",
    "W = \\alpha RS + \\beta\n",
    "$$\n",
    "\n",
    "\n",
    "- 해당 모델이 얼마나 적합한지를 평가하는 $R^2$는 몇 인가?\n",
    "- 적당한 모델이라고 할 수 있는가?"
   ]
  },
  {
   "cell_type": "markdown",
   "metadata": {
    "colab_type": "text",
    "id": "ISbFGejUHiY8"
   },
   "source": [
    "### [풀이] \n",
    "- 직선의 기울기 = 0.0641\t절편 = 35.0964\n",
    "- R-squared : 0.262\n",
    "- 적당하지 않다."
   ]
  },
  {
   "cell_type": "code",
   "execution_count": 14,
   "metadata": {
    "colab": {},
    "colab_type": "code",
    "id": "QdYwW2zFHiY8",
    "scrolled": true
   },
   "outputs": [
    {
     "data": {
      "text/plain": [
       "<matplotlib.axes._subplots.AxesSubplot at 0x1f56d7eae08>"
      ]
     },
     "execution_count": 14,
     "metadata": {},
     "output_type": "execute_result"
    },
    {
     "data": {
      "image/png": "[encoded data removed]",
      "text/plain": [
       "<Figure size 432x288 with 1 Axes>"
      ]
     },
     "metadata": {
      "needs_background": "light"
     },
     "output_type": "display_data"
    }
   ],
   "source": [
    "moneyball.plot.scatter(x = \"RS\", y = \"W\", alpha = 0.7)"
   ]
  },
  {
   "cell_type": "code",
   "execution_count": 15,
   "metadata": {
    "scrolled": true
   },
   "outputs": [],
   "source": [
    "RS = selected_df[['RS']]\n",
    "W = selected_df[['W']]"
   ]
  },
  {
   "cell_type": "code",
   "execution_count": 16,
   "metadata": {},
   "outputs": [],
   "source": [
    "RS1 = sm.add_constant(RS,has_constant= 'add')"
   ]
  },
  {
   "cell_type": "code",
   "execution_count": 17,
   "metadata": {
    "scrolled": true
   },
   "outputs": [
    {
     "data": {
      "text/plain": [
       "const       1.0\n",
       "RS       1009.0\n",
       "dtype: float64"
      ]
     },
     "execution_count": 17,
     "metadata": {},
     "output_type": "execute_result"
    }
   ],
   "source": [
    "RS1.max()"
   ]
  },
  {
   "cell_type": "code",
   "execution_count": 18,
   "metadata": {
    "colab": {},
    "colab_type": "code",
    "id": "_JEtAq0zHiY_"
   },
   "outputs": [],
   "source": [
    "# sm으로 fit한 모델명은 fit_simple_model 으로 하시오.\n",
    "model = sm.OLS(W,RS1)\n",
    "fit_simple_model = model.fit()"
   ]
  },
  {
   "cell_type": "code",
   "execution_count": 19,
   "metadata": {},
   "outputs": [
    {
     "data": {
      "text/html": [
       "<table class=\"simpletable\">\n",
       "<caption>OLS Regression Results</caption>\n",
       "<tr>\n",
       "  <th>Dep. Variable:</th>            <td>W</td>        <th>  R-squared:         </th> <td>   0.262</td>\n",
       "</tr>\n",
       "<tr>\n",
       "  <th>Model:</th>                   <td>OLS</td>       <th>  Adj. R-squared:    </th> <td>   0.261</td>\n",
       "</tr>\n",
       "<tr>\n",
       "  <th>Method:</th>             <td>Least Squares</td>  <th>  F-statistic:       </th> <td>   436.4</td>\n",
       "</tr>\n",
       "<tr>\n",
       "  <th>Date:</th>             <td>Sun, 12 Jul 2020</td> <th>  Prob (F-statistic):</th> <td>3.50e-83</td>\n",
       "</tr>\n",
       "<tr>\n",
       "  <th>Time:</th>                 <td>22:02:40</td>     <th>  Log-Likelihood:    </th> <td> -4565.1</td>\n",
       "</tr>\n",
       "<tr>\n",
       "  <th>No. Observations:</th>      <td>  1232</td>      <th>  AIC:               </th> <td>   9134.</td>\n",
       "</tr>\n",
       "<tr>\n",
       "  <th>Df Residuals:</th>          <td>  1230</td>      <th>  BIC:               </th> <td>   9144.</td>\n",
       "</tr>\n",
       "<tr>\n",
       "  <th>Df Model:</th>              <td>     1</td>      <th>                     </th>     <td> </td>   \n",
       "</tr>\n",
       "<tr>\n",
       "  <th>Covariance Type:</th>      <td>nonrobust</td>    <th>                     </th>     <td> </td>   \n",
       "</tr>\n",
       "</table>\n",
       "<table class=\"simpletable\">\n",
       "<tr>\n",
       "    <td></td>       <th>coef</th>     <th>std err</th>      <th>t</th>      <th>P>|t|</th>  <th>[0.025</th>    <th>0.975]</th>  \n",
       "</tr>\n",
       "<tr>\n",
       "  <th>const</th> <td>   35.0964</td> <td>    2.211</td> <td>   15.876</td> <td> 0.000</td> <td>   30.759</td> <td>   39.434</td>\n",
       "</tr>\n",
       "<tr>\n",
       "  <th>RS</th>    <td>    0.0641</td> <td>    0.003</td> <td>   20.890</td> <td> 0.000</td> <td>    0.058</td> <td>    0.070</td>\n",
       "</tr>\n",
       "</table>\n",
       "<table class=\"simpletable\">\n",
       "<tr>\n",
       "  <th>Omnibus:</th>       <td>14.041</td> <th>  Durbin-Watson:     </th> <td>   1.869</td>\n",
       "</tr>\n",
       "<tr>\n",
       "  <th>Prob(Omnibus):</th> <td> 0.001</td> <th>  Jarque-Bera (JB):  </th> <td>  10.799</td>\n",
       "</tr>\n",
       "<tr>\n",
       "  <th>Skew:</th>          <td>-0.134</td> <th>  Prob(JB):          </th> <td> 0.00452</td>\n",
       "</tr>\n",
       "<tr>\n",
       "  <th>Kurtosis:</th>      <td> 2.627</td> <th>  Cond. No.          </th> <td>5.68e+03</td>\n",
       "</tr>\n",
       "</table><br/><br/>Warnings:<br/>[1] Standard Errors assume that the covariance matrix of the errors is correctly specified.<br/>[2] The condition number is large, 5.68e+03. This might indicate that there are<br/>strong multicollinearity or other numerical problems."
      ],
      "text/plain": [
       "<class 'statsmodels.iolib.summary.Summary'>\n",
       "\"\"\"\n",
       "                            OLS Regression Results                            \n",
       "==============================================================================\n",
       "Dep. Variable:                      W   R-squared:                       0.262\n",
       "Model:                            OLS   Adj. R-squared:                  0.261\n",
       "Method:                 Least Squares   F-statistic:                     436.4\n",
       "Date:                Sun, 12 Jul 2020   Prob (F-statistic):           3.50e-83\n",
       "Time:                        22:02:40   Log-Likelihood:                -4565.1\n",
       "No. Observations:                1232   AIC:                             9134.\n",
       "Df Residuals:                    1230   BIC:                             9144.\n",
       "Df Model:                           1                                         \n",
       "Covariance Type:            nonrobust                                         \n",
       "==============================================================================\n",
       "                 coef    std err          t      P>|t|      [0.025      0.975]\n",
       "------------------------------------------------------------------------------\n",
       "const         35.0964      2.211     15.876      0.000      30.759      39.434\n",
       "RS             0.0641      0.003     20.890      0.000       0.058       0.070\n",
       "==============================================================================\n",
       "Omnibus:                       14.041   Durbin-Watson:                   1.869\n",
       "Prob(Omnibus):                  0.001   Jarque-Bera (JB):               10.799\n",
       "Skew:                          -0.134   Prob(JB):                      0.00452\n",
       "Kurtosis:                       2.627   Cond. No.                     5.68e+03\n",
       "==============================================================================\n",
       "\n",
       "Warnings:\n",
       "[1] Standard Errors assume that the covariance matrix of the errors is correctly specified.\n",
       "[2] The condition number is large, 5.68e+03. This might indicate that there are\n",
       "strong multicollinearity or other numerical problems.\n",
       "\"\"\""
      ]
     },
     "execution_count": 19,
     "metadata": {},
     "output_type": "execute_result"
    }
   ],
   "source": [
    "fit_simple_model.summary()"
   ]
  },
  {
   "cell_type": "code",
   "execution_count": 20,
   "metadata": {
    "colab": {},
    "colab_type": "code",
    "id": "8IGI_MQgHiZB",
    "scrolled": true
   },
   "outputs": [
    {
     "data": {
      "text/plain": [
       "Text(0.5, 1.0, 'Linear Regression')"
      ]
     },
     "execution_count": 20,
     "metadata": {},
     "output_type": "execute_result"
    },
    {
     "data": {
      "image/png": "[encoded data removed]",
      "text/plain": [
       "<Figure size 432x288 with 1 Axes>"
      ]
     },
     "metadata": {
      "needs_background": "light"
     },
     "output_type": "display_data"
    }
   ],
   "source": [
    "# 참고\n",
    "# Fit된 직선 그리기. sm을 이용해서 선형회귀분석을 한 경우 \n",
    "# 아래와 같이 간단한 코드로 적합된 직선과 원래 데이터의 그림을 그릴 수 있음.\n",
    "\n",
    "fig, ax = plt.subplots()\n",
    "fig = sm.graphics.plot_fit(fit_simple_model, 1, ax=ax)\n",
    "ax.set_ylabel(\"W\")\n",
    "ax.set_xlabel(\"RS\")\n",
    "ax.set_title(\"Linear Regression\")"
   ]
  },
  {
   "cell_type": "code",
   "execution_count": 21,
   "metadata": {},
   "outputs": [
    {
     "data": {
      "text/plain": [
       "const    35.096418\n",
       "RS        0.064060\n",
       "dtype: float64"
      ]
     },
     "execution_count": 21,
     "metadata": {},
     "output_type": "execute_result"
    }
   ],
   "source": [
    "fit_simple_model.params"
   ]
  },
  {
   "cell_type": "markdown",
   "metadata": {
    "colab_type": "text",
    "id": "66b7BTh2HiZD"
   },
   "source": [
    "### Comments\n",
    "- 득점 RS로 W를 예측한 단순선형회귀분석의 적합도는 만족하기 어려움(R squared 값으로 판단).\n",
    "- 시즌 총 실점 RA를 독립변수로 W를 예측하는 단순선형회귀분석의 결과는 어떠한가? 만족할 만한가? \n",
    "- RS를 RA로 변경해서 기울기와 절편 및 R squared를 구해보시오. "
   ]
  },
  {
   "cell_type": "markdown",
   "metadata": {},
   "source": [
    "### [풀이] \n",
    "- 직선의 기울기 = -0.0655\t\t절편 = 127.7690\n",
    "- R-squared : 0.283\n",
    "- 적당하지 않다."
   ]
  },
  {
   "cell_type": "code",
   "execution_count": 22,
   "metadata": {
    "scrolled": true
   },
   "outputs": [
    {
     "data": {
      "text/plain": [
       "<matplotlib.axes._subplots.AxesSubplot at 0x1f56dd00c48>"
      ]
     },
     "execution_count": 22,
     "metadata": {},
     "output_type": "execute_result"
    },
    {
     "data": {
      "image/png": "[encoded data removed]",
      "text/plain": [
       "<Figure size 432x288 with 1 Axes>"
      ]
     },
     "metadata": {
      "needs_background": "light"
     },
     "output_type": "display_data"
    }
   ],
   "source": [
    "moneyball.plot.scatter(x = \"RA\", y = \"W\", alpha = 0.7)"
   ]
  },
  {
   "cell_type": "code",
   "execution_count": 23,
   "metadata": {},
   "outputs": [],
   "source": [
    "RA = selected_df[['RA']]"
   ]
  },
  {
   "cell_type": "code",
   "execution_count": 24,
   "metadata": {},
   "outputs": [],
   "source": [
    "RA1 = sm.add_constant(RA,has_constant= 'add')"
   ]
  },
  {
   "cell_type": "code",
   "execution_count": 25,
   "metadata": {},
   "outputs": [
    {
     "data": {
      "text/plain": [
       "const       1.0\n",
       "RA       1103.0\n",
       "dtype: float64"
      ]
     },
     "execution_count": 25,
     "metadata": {},
     "output_type": "execute_result"
    }
   ],
   "source": [
    "RA1.max()"
   ]
  },
  {
   "cell_type": "code",
   "execution_count": 26,
   "metadata": {},
   "outputs": [],
   "source": [
    "model1 = sm.OLS(W,RA1)\n",
    "fit_simple_model1 = model1.fit()"
   ]
  },
  {
   "cell_type": "code",
   "execution_count": 27,
   "metadata": {},
   "outputs": [
    {
     "data": {
      "text/html": [
       "<table class=\"simpletable\">\n",
       "<caption>OLS Regression Results</caption>\n",
       "<tr>\n",
       "  <th>Dep. Variable:</th>            <td>W</td>        <th>  R-squared:         </th> <td>   0.283</td>\n",
       "</tr>\n",
       "<tr>\n",
       "  <th>Model:</th>                   <td>OLS</td>       <th>  Adj. R-squared:    </th> <td>   0.283</td>\n",
       "</tr>\n",
       "<tr>\n",
       "  <th>Method:</th>             <td>Least Squares</td>  <th>  F-statistic:       </th> <td>   486.5</td>\n",
       "</tr>\n",
       "<tr>\n",
       "  <th>Date:</th>             <td>Sun, 12 Jul 2020</td> <th>  Prob (F-statistic):</th> <td>4.06e-91</td>\n",
       "</tr>\n",
       "<tr>\n",
       "  <th>Time:</th>                 <td>22:02:40</td>     <th>  Log-Likelihood:    </th> <td> -4546.8</td>\n",
       "</tr>\n",
       "<tr>\n",
       "  <th>No. Observations:</th>      <td>  1232</td>      <th>  AIC:               </th> <td>   9098.</td>\n",
       "</tr>\n",
       "<tr>\n",
       "  <th>Df Residuals:</th>          <td>  1230</td>      <th>  BIC:               </th> <td>   9108.</td>\n",
       "</tr>\n",
       "<tr>\n",
       "  <th>Df Model:</th>              <td>     1</td>      <th>                     </th>     <td> </td>   \n",
       "</tr>\n",
       "<tr>\n",
       "  <th>Covariance Type:</th>      <td>nonrobust</td>    <th>                     </th>     <td> </td>   \n",
       "</tr>\n",
       "</table>\n",
       "<table class=\"simpletable\">\n",
       "<tr>\n",
       "    <td></td>       <th>coef</th>     <th>std err</th>      <th>t</th>      <th>P>|t|</th>  <th>[0.025</th>    <th>0.975]</th>  \n",
       "</tr>\n",
       "<tr>\n",
       "  <th>const</th> <td>  127.7690</td> <td>    2.143</td> <td>   59.634</td> <td> 0.000</td> <td>  123.566</td> <td>  131.973</td>\n",
       "</tr>\n",
       "<tr>\n",
       "  <th>RA</th>    <td>   -0.0655</td> <td>    0.003</td> <td>  -22.058</td> <td> 0.000</td> <td>   -0.071</td> <td>   -0.060</td>\n",
       "</tr>\n",
       "</table>\n",
       "<table class=\"simpletable\">\n",
       "<tr>\n",
       "  <th>Omnibus:</th>       <td> 5.903</td> <th>  Durbin-Watson:     </th> <td>   1.843</td>\n",
       "</tr>\n",
       "<tr>\n",
       "  <th>Prob(Omnibus):</th> <td> 0.052</td> <th>  Jarque-Bera (JB):  </th> <td>   5.615</td>\n",
       "</tr>\n",
       "<tr>\n",
       "  <th>Skew:</th>          <td>-0.127</td> <th>  Prob(JB):          </th> <td>  0.0604</td>\n",
       "</tr>\n",
       "<tr>\n",
       "  <th>Kurtosis:</th>      <td> 2.789</td> <th>  Cond. No.          </th> <td>5.59e+03</td>\n",
       "</tr>\n",
       "</table><br/><br/>Warnings:<br/>[1] Standard Errors assume that the covariance matrix of the errors is correctly specified.<br/>[2] The condition number is large, 5.59e+03. This might indicate that there are<br/>strong multicollinearity or other numerical problems."
      ],
      "text/plain": [
       "<class 'statsmodels.iolib.summary.Summary'>\n",
       "\"\"\"\n",
       "                            OLS Regression Results                            \n",
       "==============================================================================\n",
       "Dep. Variable:                      W   R-squared:                       0.283\n",
       "Model:                            OLS   Adj. R-squared:                  0.283\n",
       "Method:                 Least Squares   F-statistic:                     486.5\n",
       "Date:                Sun, 12 Jul 2020   Prob (F-statistic):           4.06e-91\n",
       "Time:                        22:02:40   Log-Likelihood:                -4546.8\n",
       "No. Observations:                1232   AIC:                             9098.\n",
       "Df Residuals:                    1230   BIC:                             9108.\n",
       "Df Model:                           1                                         \n",
       "Covariance Type:            nonrobust                                         \n",
       "==============================================================================\n",
       "                 coef    std err          t      P>|t|      [0.025      0.975]\n",
       "------------------------------------------------------------------------------\n",
       "const        127.7690      2.143     59.634      0.000     123.566     131.973\n",
       "RA            -0.0655      0.003    -22.058      0.000      -0.071      -0.060\n",
       "==============================================================================\n",
       "Omnibus:                        5.903   Durbin-Watson:                   1.843\n",
       "Prob(Omnibus):                  0.052   Jarque-Bera (JB):                5.615\n",
       "Skew:                          -0.127   Prob(JB):                       0.0604\n",
       "Kurtosis:                       2.789   Cond. No.                     5.59e+03\n",
       "==============================================================================\n",
       "\n",
       "Warnings:\n",
       "[1] Standard Errors assume that the covariance matrix of the errors is correctly specified.\n",
       "[2] The condition number is large, 5.59e+03. This might indicate that there are\n",
       "strong multicollinearity or other numerical problems.\n",
       "\"\"\""
      ]
     },
     "execution_count": 27,
     "metadata": {},
     "output_type": "execute_result"
    }
   ],
   "source": [
    "fit_simple_model1.summary()"
   ]
  },
  {
   "cell_type": "code",
   "execution_count": 28,
   "metadata": {},
   "outputs": [
    {
     "data": {
      "text/plain": [
       "Text(0.5, 1.0, 'Linear Regression')"
      ]
     },
     "execution_count": 28,
     "metadata": {},
     "output_type": "execute_result"
    },
    {
     "data": {
      "image/png": "[encoded data removed]",
      "text/plain": [
       "<Figure size 432x288 with 1 Axes>"
      ]
     },
     "metadata": {
      "needs_background": "light"
     },
     "output_type": "display_data"
    }
   ],
   "source": [
    "# 참고\n",
    "# Fit된 직선 그리기. sm을 이용해서 선형회귀분석을 한 경우 \n",
    "# 아래와 같이 간단한 코드로 적합된 직선과 원래 데이터의 그림을 그릴 수 있음.\n",
    "\n",
    "fig, ax = plt.subplots()\n",
    "fig = sm.graphics.plot_fit(fit_simple_model1, 1, ax=ax)\n",
    "ax.set_ylabel(\"W\")\n",
    "ax.set_xlabel(\"RA\")\n",
    "ax.set_title(\"Linear Regression\")"
   ]
  },
  {
   "cell_type": "markdown",
   "metadata": {
    "colab_type": "text",
    "id": "KHR52ZKMHiZD"
   },
   "source": [
    "### [풀이] \n",
    "- "
   ]
  },
  {
   "cell_type": "markdown",
   "metadata": {
    "colab_type": "text",
    "id": "JXIw3sRrHiZE"
   },
   "source": [
    "## STEP 3. (RS-RA)를 독립변수로 W를 예측하는 단순선형회귀 모델 생성\n",
    "- 득점과 실점이 승리 수와 관련이 없을까? 경기에서 승리하려면 상대보다 득점을 많이 해야한다. 즉, (득점 - 실점)을 새로운 독립변수로 설정하고 W를 예측하는 단순선형회귀분석을 해보시오.\n",
    "- 가정: 시즌 총 득점(RS)과 실점(RA)의 차이가 승리에 영향을 줄 것이다.\n",
    "- 강의 실습 시간에 학습한 statsmodels 라이브러리를 이용해서 아래의 질문에 답하시오.\n",
    "- (RS-RA)를 독립변수로 W를 예측한 단순선형모델의 기울기 $\\alpha$와 절편 $\\beta$는 몇인가?\n",
    "\n",
    "$$\n",
    "W = \\alpha \\cdot (RS-RA) + \\beta\n",
    "$$\n",
    "\n",
    "- 해당 모델이 얼마나 적합한지를 평가하는 $R^2$는 몇 인가?\n",
    "- 적당한 모델이라고 할 수 있는가?"
   ]
  },
  {
   "cell_type": "markdown",
   "metadata": {
    "colab_type": "text",
    "id": "yaY_tuIGHiZE"
   },
   "source": [
    "### [풀이] \n",
    "- 직선의 기울기 = 0.1045\t\t절편 = 80.9042\n",
    "- R-squared : 0.880\n",
    "- 적당한 모델이다."
   ]
  },
  {
   "cell_type": "code",
   "execution_count": 29,
   "metadata": {
    "colab": {},
    "colab_type": "code",
    "id": "1-vdl1mOHiZF"
   },
   "outputs": [],
   "source": [
    "moneyball['RS - RA'] = moneyball['RS'] - moneyball['RA']"
   ]
  },
  {
   "cell_type": "code",
   "execution_count": 30,
   "metadata": {
    "scrolled": true
   },
   "outputs": [],
   "source": [
    "RSMRA = moneyball[['RS - RA']]"
   ]
  },
  {
   "cell_type": "code",
   "execution_count": 31,
   "metadata": {
    "scrolled": true
   },
   "outputs": [
    {
     "data": {
      "text/html": [
       "<div>\n",
       "<style scoped>\n",
       "    .dataframe tbody tr th:only-of-type {\n",
       "        vertical-align: middle;\n",
       "    }\n",
       "\n",
       "    .dataframe tbody tr th {\n",
       "        vertical-align: top;\n",
       "    }\n",
       "\n",
       "    .dataframe thead th {\n",
       "        text-align: right;\n",
       "    }\n",
       "</style>\n",
       "<table border=\"1\" class=\"dataframe\">\n",
       "  <thead>\n",
       "    <tr style=\"text-align: right;\">\n",
       "      <th></th>\n",
       "      <th>RS - RA</th>\n",
       "    </tr>\n",
       "  </thead>\n",
       "  <tbody>\n",
       "    <tr>\n",
       "      <th>0</th>\n",
       "      <td>46</td>\n",
       "    </tr>\n",
       "    <tr>\n",
       "      <th>1</th>\n",
       "      <td>100</td>\n",
       "    </tr>\n",
       "    <tr>\n",
       "      <th>2</th>\n",
       "      <td>7</td>\n",
       "    </tr>\n",
       "    <tr>\n",
       "      <th>3</th>\n",
       "      <td>-72</td>\n",
       "    </tr>\n",
       "    <tr>\n",
       "      <th>4</th>\n",
       "      <td>-146</td>\n",
       "    </tr>\n",
       "    <tr>\n",
       "      <th>...</th>\n",
       "      <td>...</td>\n",
       "    </tr>\n",
       "    <tr>\n",
       "      <th>1227</th>\n",
       "      <td>-54</td>\n",
       "    </tr>\n",
       "    <tr>\n",
       "      <th>1228</th>\n",
       "      <td>80</td>\n",
       "    </tr>\n",
       "    <tr>\n",
       "      <th>1229</th>\n",
       "      <td>188</td>\n",
       "    </tr>\n",
       "    <tr>\n",
       "      <th>1230</th>\n",
       "      <td>110</td>\n",
       "    </tr>\n",
       "    <tr>\n",
       "      <th>1231</th>\n",
       "      <td>-117</td>\n",
       "    </tr>\n",
       "  </tbody>\n",
       "</table>\n",
       "<p>1232 rows × 1 columns</p>\n",
       "</div>"
      ],
      "text/plain": [
       "      RS - RA\n",
       "0          46\n",
       "1         100\n",
       "2           7\n",
       "3         -72\n",
       "4        -146\n",
       "...       ...\n",
       "1227      -54\n",
       "1228       80\n",
       "1229      188\n",
       "1230      110\n",
       "1231     -117\n",
       "\n",
       "[1232 rows x 1 columns]"
      ]
     },
     "execution_count": 31,
     "metadata": {},
     "output_type": "execute_result"
    }
   ],
   "source": [
    "RSMRA"
   ]
  },
  {
   "cell_type": "code",
   "execution_count": 32,
   "metadata": {
    "scrolled": true
   },
   "outputs": [
    {
     "data": {
      "text/plain": [
       "<matplotlib.axes._subplots.AxesSubplot at 0x1f56d882688>"
      ]
     },
     "execution_count": 32,
     "metadata": {},
     "output_type": "execute_result"
    },
    {
     "data": {
      "image/png": "[encoded data removed]",
      "text/plain": [
       "<Figure size 432x288 with 1 Axes>"
      ]
     },
     "metadata": {
      "needs_background": "light"
     },
     "output_type": "display_data"
    }
   ],
   "source": [
    "moneyball.plot.scatter(x = \"RS - RA\", y = \"W\", alpha = 0.7)"
   ]
  },
  {
   "cell_type": "code",
   "execution_count": 33,
   "metadata": {},
   "outputs": [],
   "source": [
    "RSMRA = moneyball[['RS - RA']]"
   ]
  },
  {
   "cell_type": "code",
   "execution_count": 34,
   "metadata": {},
   "outputs": [],
   "source": [
    "RSMRA1 = sm.add_constant(RSMRA,has_constant= 'add')"
   ]
  },
  {
   "cell_type": "code",
   "execution_count": 35,
   "metadata": {},
   "outputs": [],
   "source": [
    "model2 = sm.OLS(W,RSMRA1)\n",
    "fit_simple_model2 = model2.fit()"
   ]
  },
  {
   "cell_type": "code",
   "execution_count": 36,
   "metadata": {
    "scrolled": false
   },
   "outputs": [
    {
     "data": {
      "text/html": [
       "<table class=\"simpletable\">\n",
       "<caption>OLS Regression Results</caption>\n",
       "<tr>\n",
       "  <th>Dep. Variable:</th>            <td>W</td>        <th>  R-squared:         </th> <td>   0.880</td>\n",
       "</tr>\n",
       "<tr>\n",
       "  <th>Model:</th>                   <td>OLS</td>       <th>  Adj. R-squared:    </th> <td>   0.879</td>\n",
       "</tr>\n",
       "<tr>\n",
       "  <th>Method:</th>             <td>Least Squares</td>  <th>  F-statistic:       </th> <td>   8983.</td>\n",
       "</tr>\n",
       "<tr>\n",
       "  <th>Date:</th>             <td>Sun, 12 Jul 2020</td> <th>  Prob (F-statistic):</th>  <td>  0.00</td> \n",
       "</tr>\n",
       "<tr>\n",
       "  <th>Time:</th>                 <td>22:02:41</td>     <th>  Log-Likelihood:    </th> <td> -3448.3</td>\n",
       "</tr>\n",
       "<tr>\n",
       "  <th>No. Observations:</th>      <td>  1232</td>      <th>  AIC:               </th> <td>   6901.</td>\n",
       "</tr>\n",
       "<tr>\n",
       "  <th>Df Residuals:</th>          <td>  1230</td>      <th>  BIC:               </th> <td>   6911.</td>\n",
       "</tr>\n",
       "<tr>\n",
       "  <th>Df Model:</th>              <td>     1</td>      <th>                     </th>     <td> </td>   \n",
       "</tr>\n",
       "<tr>\n",
       "  <th>Covariance Type:</th>      <td>nonrobust</td>    <th>                     </th>     <td> </td>   \n",
       "</tr>\n",
       "</table>\n",
       "<table class=\"simpletable\">\n",
       "<tr>\n",
       "     <td></td>        <th>coef</th>     <th>std err</th>      <th>t</th>      <th>P>|t|</th>  <th>[0.025</th>    <th>0.975]</th>  \n",
       "</tr>\n",
       "<tr>\n",
       "  <th>const</th>   <td>   80.9042</td> <td>    0.113</td> <td>  713.853</td> <td> 0.000</td> <td>   80.682</td> <td>   81.127</td>\n",
       "</tr>\n",
       "<tr>\n",
       "  <th>RS - RA</th> <td>    0.1045</td> <td>    0.001</td> <td>   94.778</td> <td> 0.000</td> <td>    0.102</td> <td>    0.107</td>\n",
       "</tr>\n",
       "</table>\n",
       "<table class=\"simpletable\">\n",
       "<tr>\n",
       "  <th>Omnibus:</th>       <td> 0.797</td> <th>  Durbin-Watson:     </th> <td>   2.065</td>\n",
       "</tr>\n",
       "<tr>\n",
       "  <th>Prob(Omnibus):</th> <td> 0.671</td> <th>  Jarque-Bera (JB):  </th> <td>   0.686</td>\n",
       "</tr>\n",
       "<tr>\n",
       "  <th>Skew:</th>          <td>-0.041</td> <th>  Prob(JB):          </th> <td>   0.710</td>\n",
       "</tr>\n",
       "<tr>\n",
       "  <th>Kurtosis:</th>      <td> 3.081</td> <th>  Cond. No.          </th> <td>    103.</td>\n",
       "</tr>\n",
       "</table><br/><br/>Warnings:<br/>[1] Standard Errors assume that the covariance matrix of the errors is correctly specified."
      ],
      "text/plain": [
       "<class 'statsmodels.iolib.summary.Summary'>\n",
       "\"\"\"\n",
       "                            OLS Regression Results                            \n",
       "==============================================================================\n",
       "Dep. Variable:                      W   R-squared:                       0.880\n",
       "Model:                            OLS   Adj. R-squared:                  0.879\n",
       "Method:                 Least Squares   F-statistic:                     8983.\n",
       "Date:                Sun, 12 Jul 2020   Prob (F-statistic):               0.00\n",
       "Time:                        22:02:41   Log-Likelihood:                -3448.3\n",
       "No. Observations:                1232   AIC:                             6901.\n",
       "Df Residuals:                    1230   BIC:                             6911.\n",
       "Df Model:                           1                                         \n",
       "Covariance Type:            nonrobust                                         \n",
       "==============================================================================\n",
       "                 coef    std err          t      P>|t|      [0.025      0.975]\n",
       "------------------------------------------------------------------------------\n",
       "const         80.9042      0.113    713.853      0.000      80.682      81.127\n",
       "RS - RA        0.1045      0.001     94.778      0.000       0.102       0.107\n",
       "==============================================================================\n",
       "Omnibus:                        0.797   Durbin-Watson:                   2.065\n",
       "Prob(Omnibus):                  0.671   Jarque-Bera (JB):                0.686\n",
       "Skew:                          -0.041   Prob(JB):                        0.710\n",
       "Kurtosis:                       3.081   Cond. No.                         103.\n",
       "==============================================================================\n",
       "\n",
       "Warnings:\n",
       "[1] Standard Errors assume that the covariance matrix of the errors is correctly specified.\n",
       "\"\"\""
      ]
     },
     "execution_count": 36,
     "metadata": {},
     "output_type": "execute_result"
    }
   ],
   "source": [
    "fit_simple_model2.summary()"
   ]
  },
  {
   "cell_type": "code",
   "execution_count": 37,
   "metadata": {},
   "outputs": [
    {
     "data": {
      "text/plain": [
       "Text(0.5, 1.0, 'Linear Regression')"
      ]
     },
     "execution_count": 37,
     "metadata": {},
     "output_type": "execute_result"
    },
    {
     "data": {
      "image/png": "[encoded data removed]",
      "text/plain": [
       "<Figure size 432x288 with 1 Axes>"
      ]
     },
     "metadata": {
      "needs_background": "light"
     },
     "output_type": "display_data"
    }
   ],
   "source": [
    "# 참고\n",
    "# Fit된 직선 그리기. sm을 이용해서 선형회귀분석을 한 경우 \n",
    "# 아래와 같이 간단한 코드로 적합된 직선과 원래 데이터의 그림을 그릴 수 있음.\n",
    "\n",
    "fig, ax = plt.subplots()\n",
    "fig = sm.graphics.plot_fit(fit_simple_model2, 1, ax=ax)\n",
    "ax.set_ylabel(\"W\")\n",
    "ax.set_xlabel(\"RS - RA\")\n",
    "ax.set_title(\"Linear Regression\")"
   ]
  },
  {
   "cell_type": "markdown",
   "metadata": {
    "colab_type": "text",
    "id": "GlT5kJrnHiZI"
   },
   "source": [
    "## STEP 4. 회귀분석 결과의 해석\n",
    "- 득점과 실점이 개별적으로 한 개씩만 본다면 승리 예측에 큰 영향을 주지 못하지만 (득점 - 실점)으로 결합한 변수는 승리 예측에 유의미하게 영향을 주었다. 이런 작용은 무엇이라고 하는가?\n",
    "- 다시 RS, RA를 두 개의 독립변수로 W를 예측한 선형모델의 기울기 $\\alpha_1$, $\\alpha_2$와 절편 $\\beta$는 몇인가?\n",
    "\n",
    "$$\n",
    "W = \\alpha_1 RS + \\alpha_2 RA + \\beta\n",
    "$$\n",
    "\n",
    "- RS, RA를 두 개의 독립변수로 W를 예측한 모델과 (RS-RA)을 독립변수로 W를 예측한 모델은 무슨 차이가 있을까?\n",
    "- 회귀분석 결과인 $\\alpha_1$, $\\alpha_2$와 (RS-RA)의 계수인 $\\alpha$를 비교해보고 RS와 RA의 차이가 승리에 큰 영향을 미친다고 결론 내릴 수 있는가?"
   ]
  },
  {
   "cell_type": "markdown",
   "metadata": {
    "colab_type": "text",
    "id": "d78qERPwHiZJ"
   },
   "source": [
    "### [풀이] \n",
    "- 교호작용 이라고 한다.\n",
    "- a1의 기울기 = 0.1045, a2의 기울기 = -0.1046 절편 = 80.9805\n",
    "- 큰 차이가 없는것 같다. \n",
    "- 승리에 큰 영향을 미칠것 같다. "
   ]
  },
  {
   "cell_type": "code",
   "execution_count": 38,
   "metadata": {
    "colab": {},
    "colab_type": "code",
    "id": "THjGyr-THiZK"
   },
   "outputs": [],
   "source": [
    "RSRA = moneyball[['RS', 'RA']]"
   ]
  },
  {
   "cell_type": "code",
   "execution_count": 39,
   "metadata": {},
   "outputs": [
    {
     "data": {
      "text/html": [
       "<div>\n",
       "<style scoped>\n",
       "    .dataframe tbody tr th:only-of-type {\n",
       "        vertical-align: middle;\n",
       "    }\n",
       "\n",
       "    .dataframe tbody tr th {\n",
       "        vertical-align: top;\n",
       "    }\n",
       "\n",
       "    .dataframe thead th {\n",
       "        text-align: right;\n",
       "    }\n",
       "</style>\n",
       "<table border=\"1\" class=\"dataframe\">\n",
       "  <thead>\n",
       "    <tr style=\"text-align: right;\">\n",
       "      <th></th>\n",
       "      <th>RS</th>\n",
       "      <th>RA</th>\n",
       "    </tr>\n",
       "  </thead>\n",
       "  <tbody>\n",
       "    <tr>\n",
       "      <th>0</th>\n",
       "      <td>734</td>\n",
       "      <td>688</td>\n",
       "    </tr>\n",
       "    <tr>\n",
       "      <th>1</th>\n",
       "      <td>700</td>\n",
       "      <td>600</td>\n",
       "    </tr>\n",
       "    <tr>\n",
       "      <th>2</th>\n",
       "      <td>712</td>\n",
       "      <td>705</td>\n",
       "    </tr>\n",
       "    <tr>\n",
       "      <th>3</th>\n",
       "      <td>734</td>\n",
       "      <td>806</td>\n",
       "    </tr>\n",
       "    <tr>\n",
       "      <th>4</th>\n",
       "      <td>613</td>\n",
       "      <td>759</td>\n",
       "    </tr>\n",
       "    <tr>\n",
       "      <th>...</th>\n",
       "      <td>...</td>\n",
       "      <td>...</td>\n",
       "    </tr>\n",
       "    <tr>\n",
       "      <th>1227</th>\n",
       "      <td>705</td>\n",
       "      <td>759</td>\n",
       "    </tr>\n",
       "    <tr>\n",
       "      <th>1228</th>\n",
       "      <td>706</td>\n",
       "      <td>626</td>\n",
       "    </tr>\n",
       "    <tr>\n",
       "      <th>1229</th>\n",
       "      <td>878</td>\n",
       "      <td>690</td>\n",
       "    </tr>\n",
       "    <tr>\n",
       "      <th>1230</th>\n",
       "      <td>774</td>\n",
       "      <td>664</td>\n",
       "    </tr>\n",
       "    <tr>\n",
       "      <th>1231</th>\n",
       "      <td>599</td>\n",
       "      <td>716</td>\n",
       "    </tr>\n",
       "  </tbody>\n",
       "</table>\n",
       "<p>1232 rows × 2 columns</p>\n",
       "</div>"
      ],
      "text/plain": [
       "       RS   RA\n",
       "0     734  688\n",
       "1     700  600\n",
       "2     712  705\n",
       "3     734  806\n",
       "4     613  759\n",
       "...   ...  ...\n",
       "1227  705  759\n",
       "1228  706  626\n",
       "1229  878  690\n",
       "1230  774  664\n",
       "1231  599  716\n",
       "\n",
       "[1232 rows x 2 columns]"
      ]
     },
     "execution_count": 39,
     "metadata": {},
     "output_type": "execute_result"
    }
   ],
   "source": [
    "RSRA"
   ]
  },
  {
   "cell_type": "code",
   "execution_count": 40,
   "metadata": {},
   "outputs": [],
   "source": [
    "RSRA1 = sm.add_constant(RSRA,has_constant= \"add\")"
   ]
  },
  {
   "cell_type": "code",
   "execution_count": 41,
   "metadata": {
    "scrolled": true
   },
   "outputs": [
    {
     "data": {
      "text/html": [
       "<div>\n",
       "<style scoped>\n",
       "    .dataframe tbody tr th:only-of-type {\n",
       "        vertical-align: middle;\n",
       "    }\n",
       "\n",
       "    .dataframe tbody tr th {\n",
       "        vertical-align: top;\n",
       "    }\n",
       "\n",
       "    .dataframe thead th {\n",
       "        text-align: right;\n",
       "    }\n",
       "</style>\n",
       "<table border=\"1\" class=\"dataframe\">\n",
       "  <thead>\n",
       "    <tr style=\"text-align: right;\">\n",
       "      <th></th>\n",
       "      <th>const</th>\n",
       "      <th>RS</th>\n",
       "      <th>RA</th>\n",
       "    </tr>\n",
       "  </thead>\n",
       "  <tbody>\n",
       "    <tr>\n",
       "      <th>0</th>\n",
       "      <td>1.0</td>\n",
       "      <td>734</td>\n",
       "      <td>688</td>\n",
       "    </tr>\n",
       "    <tr>\n",
       "      <th>1</th>\n",
       "      <td>1.0</td>\n",
       "      <td>700</td>\n",
       "      <td>600</td>\n",
       "    </tr>\n",
       "    <tr>\n",
       "      <th>2</th>\n",
       "      <td>1.0</td>\n",
       "      <td>712</td>\n",
       "      <td>705</td>\n",
       "    </tr>\n",
       "    <tr>\n",
       "      <th>3</th>\n",
       "      <td>1.0</td>\n",
       "      <td>734</td>\n",
       "      <td>806</td>\n",
       "    </tr>\n",
       "    <tr>\n",
       "      <th>4</th>\n",
       "      <td>1.0</td>\n",
       "      <td>613</td>\n",
       "      <td>759</td>\n",
       "    </tr>\n",
       "    <tr>\n",
       "      <th>...</th>\n",
       "      <td>...</td>\n",
       "      <td>...</td>\n",
       "      <td>...</td>\n",
       "    </tr>\n",
       "    <tr>\n",
       "      <th>1227</th>\n",
       "      <td>1.0</td>\n",
       "      <td>705</td>\n",
       "      <td>759</td>\n",
       "    </tr>\n",
       "    <tr>\n",
       "      <th>1228</th>\n",
       "      <td>1.0</td>\n",
       "      <td>706</td>\n",
       "      <td>626</td>\n",
       "    </tr>\n",
       "    <tr>\n",
       "      <th>1229</th>\n",
       "      <td>1.0</td>\n",
       "      <td>878</td>\n",
       "      <td>690</td>\n",
       "    </tr>\n",
       "    <tr>\n",
       "      <th>1230</th>\n",
       "      <td>1.0</td>\n",
       "      <td>774</td>\n",
       "      <td>664</td>\n",
       "    </tr>\n",
       "    <tr>\n",
       "      <th>1231</th>\n",
       "      <td>1.0</td>\n",
       "      <td>599</td>\n",
       "      <td>716</td>\n",
       "    </tr>\n",
       "  </tbody>\n",
       "</table>\n",
       "<p>1232 rows × 3 columns</p>\n",
       "</div>"
      ],
      "text/plain": [
       "      const   RS   RA\n",
       "0       1.0  734  688\n",
       "1       1.0  700  600\n",
       "2       1.0  712  705\n",
       "3       1.0  734  806\n",
       "4       1.0  613  759\n",
       "...     ...  ...  ...\n",
       "1227    1.0  705  759\n",
       "1228    1.0  706  626\n",
       "1229    1.0  878  690\n",
       "1230    1.0  774  664\n",
       "1231    1.0  599  716\n",
       "\n",
       "[1232 rows x 3 columns]"
      ]
     },
     "execution_count": 41,
     "metadata": {},
     "output_type": "execute_result"
    }
   ],
   "source": [
    "RSRA1"
   ]
  },
  {
   "cell_type": "code",
   "execution_count": 42,
   "metadata": {},
   "outputs": [],
   "source": [
    "multi_model = sm.OLS(W, RSRA1)\n",
    "fitted_multi_model = multi_model.fit()"
   ]
  },
  {
   "cell_type": "code",
   "execution_count": 43,
   "metadata": {},
   "outputs": [
    {
     "data": {
      "text/html": [
       "<table class=\"simpletable\">\n",
       "<caption>OLS Regression Results</caption>\n",
       "<tr>\n",
       "  <th>Dep. Variable:</th>            <td>W</td>        <th>  R-squared:         </th> <td>   0.880</td>\n",
       "</tr>\n",
       "<tr>\n",
       "  <th>Model:</th>                   <td>OLS</td>       <th>  Adj. R-squared:    </th> <td>   0.879</td>\n",
       "</tr>\n",
       "<tr>\n",
       "  <th>Method:</th>             <td>Least Squares</td>  <th>  F-statistic:       </th> <td>   4488.</td>\n",
       "</tr>\n",
       "<tr>\n",
       "  <th>Date:</th>             <td>Sun, 12 Jul 2020</td> <th>  Prob (F-statistic):</th>  <td>  0.00</td> \n",
       "</tr>\n",
       "<tr>\n",
       "  <th>Time:</th>                 <td>22:02:41</td>     <th>  Log-Likelihood:    </th> <td> -3448.3</td>\n",
       "</tr>\n",
       "<tr>\n",
       "  <th>No. Observations:</th>      <td>  1232</td>      <th>  AIC:               </th> <td>   6903.</td>\n",
       "</tr>\n",
       "<tr>\n",
       "  <th>Df Residuals:</th>          <td>  1229</td>      <th>  BIC:               </th> <td>   6918.</td>\n",
       "</tr>\n",
       "<tr>\n",
       "  <th>Df Model:</th>              <td>     2</td>      <th>                     </th>     <td> </td>   \n",
       "</tr>\n",
       "<tr>\n",
       "  <th>Covariance Type:</th>      <td>nonrobust</td>    <th>                     </th>     <td> </td>   \n",
       "</tr>\n",
       "</table>\n",
       "<table class=\"simpletable\">\n",
       "<tr>\n",
       "    <td></td>       <th>coef</th>     <th>std err</th>      <th>t</th>      <th>P>|t|</th>  <th>[0.025</th>    <th>0.975]</th>  \n",
       "</tr>\n",
       "<tr>\n",
       "  <th>const</th> <td>   80.9805</td> <td>    1.064</td> <td>   76.111</td> <td> 0.000</td> <td>   78.893</td> <td>   83.068</td>\n",
       "</tr>\n",
       "<tr>\n",
       "  <th>RS</th>    <td>    0.1045</td> <td>    0.001</td> <td>   77.995</td> <td> 0.000</td> <td>    0.102</td> <td>    0.107</td>\n",
       "</tr>\n",
       "<tr>\n",
       "  <th>RA</th>    <td>   -0.1046</td> <td>    0.001</td> <td>  -79.393</td> <td> 0.000</td> <td>   -0.107</td> <td>   -0.102</td>\n",
       "</tr>\n",
       "</table>\n",
       "<table class=\"simpletable\">\n",
       "<tr>\n",
       "  <th>Omnibus:</th>       <td> 0.802</td> <th>  Durbin-Watson:     </th> <td>   2.065</td>\n",
       "</tr>\n",
       "<tr>\n",
       "  <th>Prob(Omnibus):</th> <td> 0.670</td> <th>  Jarque-Bera (JB):  </th> <td>   0.691</td>\n",
       "</tr>\n",
       "<tr>\n",
       "  <th>Skew:</th>          <td>-0.041</td> <th>  Prob(JB):          </th> <td>   0.708</td>\n",
       "</tr>\n",
       "<tr>\n",
       "  <th>Kurtosis:</th>      <td> 3.081</td> <th>  Cond. No.          </th> <td>9.54e+03</td>\n",
       "</tr>\n",
       "</table><br/><br/>Warnings:<br/>[1] Standard Errors assume that the covariance matrix of the errors is correctly specified.<br/>[2] The condition number is large, 9.54e+03. This might indicate that there are<br/>strong multicollinearity or other numerical problems."
      ],
      "text/plain": [
       "<class 'statsmodels.iolib.summary.Summary'>\n",
       "\"\"\"\n",
       "                            OLS Regression Results                            \n",
       "==============================================================================\n",
       "Dep. Variable:                      W   R-squared:                       0.880\n",
       "Model:                            OLS   Adj. R-squared:                  0.879\n",
       "Method:                 Least Squares   F-statistic:                     4488.\n",
       "Date:                Sun, 12 Jul 2020   Prob (F-statistic):               0.00\n",
       "Time:                        22:02:41   Log-Likelihood:                -3448.3\n",
       "No. Observations:                1232   AIC:                             6903.\n",
       "Df Residuals:                    1229   BIC:                             6918.\n",
       "Df Model:                           2                                         \n",
       "Covariance Type:            nonrobust                                         \n",
       "==============================================================================\n",
       "                 coef    std err          t      P>|t|      [0.025      0.975]\n",
       "------------------------------------------------------------------------------\n",
       "const         80.9805      1.064     76.111      0.000      78.893      83.068\n",
       "RS             0.1045      0.001     77.995      0.000       0.102       0.107\n",
       "RA            -0.1046      0.001    -79.393      0.000      -0.107      -0.102\n",
       "==============================================================================\n",
       "Omnibus:                        0.802   Durbin-Watson:                   2.065\n",
       "Prob(Omnibus):                  0.670   Jarque-Bera (JB):                0.691\n",
       "Skew:                          -0.041   Prob(JB):                        0.708\n",
       "Kurtosis:                       3.081   Cond. No.                     9.54e+03\n",
       "==============================================================================\n",
       "\n",
       "Warnings:\n",
       "[1] Standard Errors assume that the covariance matrix of the errors is correctly specified.\n",
       "[2] The condition number is large, 9.54e+03. This might indicate that there are\n",
       "strong multicollinearity or other numerical problems.\n",
       "\"\"\""
      ]
     },
     "execution_count": 43,
     "metadata": {},
     "output_type": "execute_result"
    }
   ],
   "source": [
    "fitted_multi_model.summary()"
   ]
  },
  {
   "cell_type": "markdown",
   "metadata": {
    "colab_type": "text",
    "id": "-C5ZgmaUHiZM"
   },
   "source": [
    "## STEP 5. 모든 변수를 활용한 다중회귀분석 및 다중공선성 문제\n",
    "- [RS, RA, OBP, SLG, BA, G] 6개 독립변수로 W를 예측하는 다중회귀분석 하시오.\n",
    "- RS, RA 두 독립변수의 모델과 비교했을 때 결과가 향상됐다고 할 수 있는가?\n",
    "- 결과가 향상되지 않았다면 다중공선성 문제가 있을 수 있다고 판단할 수 있는데 정량적인 수치로 확인해보시오. VIF를 구하고 결과를 해석하시오(특별히 RS의 VIF 수치가 높게 나온 이유를 한번 생각해 보시오).\n",
    "    - RS, RA 두 변수로도 충분히 W를 설명 가능했었습니다. 이를 어떻게 해석해야 할까요?\n",
    "    - G의 VIF 수치는 어떻게 해석해야 할까요? 가장 낮은 VIF가 예측에 중요한 변수인가요?\n",
    "- 주의 statsmodels에는 항상 상수항을 넣어주어야 한다. VIF도 마찬가지임. [참고](https://stackoverflow.com/questions/42658379/variance-inflation-factor-in-python)\n",
    "- 강의 실습 때 다룬 전진선택법을 사용해서 AIC가 가장 작은 값이 나오는 독립변수를 찾으시오."
   ]
  },
  {
   "cell_type": "markdown",
   "metadata": {
    "colab_type": "text",
    "id": "wMzifa2fHiZM"
   },
   "source": [
    "### [풀이] \n",
    "- R-squared:0.881이 나왔다.  결과가 향상되지 않은것 같아서 VIF를 구해보았다. 다중공선성 문제가 있는것 같다. \n",
    "- VIF가 가장 높은 RS는 승리와 많은 관련이 있을것이라고 예상했던 변수이다. 그리고 상관관계를 보았을때 승리와 관련이있는 양의 상관계수를 가지고 있었다.\n",
    "- RS와 RA이 두가지의 변수가 가장 중요한 변수여서 그런것 같다. \n",
    "- G의 VIF수치는 매우 적고 다른 변수와의 관련이 적다. 그래서 예측에 중요한 변수가 아니다. \n",
    "-             Processed  2 models on 5 predictors in 0.003989458084106445 Selected predictors: ['RA', 'RS', 'G', 'SLG', 'OBP', 'const']  AIC: <statsmodels.regression.linear_model.RegressionResultsWrapper objectat 0x000001F4C5903BC8> \n",
    "- 전진선택법을 사용해 보았는데 위에 가져온 부분의 변수가  AIC가 가장 낮다."
   ]
  },
  {
   "cell_type": "code",
   "execution_count": 44,
   "metadata": {
    "colab": {},
    "colab_type": "code",
    "id": "08EFMpGeHiZM"
   },
   "outputs": [],
   "source": [
    "full_data = moneyball[['RS', 'RA', 'OBP', 'SLG', 'BA', 'G']]"
   ]
  },
  {
   "cell_type": "code",
   "execution_count": 45,
   "metadata": {
    "colab": {},
    "colab_type": "code",
    "id": "mZLC-qpXHiZO",
    "scrolled": true
   },
   "outputs": [
    {
     "data": {
      "text/html": [
       "<div>\n",
       "<style scoped>\n",
       "    .dataframe tbody tr th:only-of-type {\n",
       "        vertical-align: middle;\n",
       "    }\n",
       "\n",
       "    .dataframe tbody tr th {\n",
       "        vertical-align: top;\n",
       "    }\n",
       "\n",
       "    .dataframe thead th {\n",
       "        text-align: right;\n",
       "    }\n",
       "</style>\n",
       "<table border=\"1\" class=\"dataframe\">\n",
       "  <thead>\n",
       "    <tr style=\"text-align: right;\">\n",
       "      <th></th>\n",
       "      <th>RS</th>\n",
       "      <th>RA</th>\n",
       "      <th>OBP</th>\n",
       "      <th>SLG</th>\n",
       "      <th>BA</th>\n",
       "      <th>G</th>\n",
       "    </tr>\n",
       "  </thead>\n",
       "  <tbody>\n",
       "    <tr>\n",
       "      <th>0</th>\n",
       "      <td>734</td>\n",
       "      <td>688</td>\n",
       "      <td>0.328</td>\n",
       "      <td>0.418</td>\n",
       "      <td>0.259</td>\n",
       "      <td>162</td>\n",
       "    </tr>\n",
       "    <tr>\n",
       "      <th>1</th>\n",
       "      <td>700</td>\n",
       "      <td>600</td>\n",
       "      <td>0.320</td>\n",
       "      <td>0.389</td>\n",
       "      <td>0.247</td>\n",
       "      <td>162</td>\n",
       "    </tr>\n",
       "    <tr>\n",
       "      <th>2</th>\n",
       "      <td>712</td>\n",
       "      <td>705</td>\n",
       "      <td>0.311</td>\n",
       "      <td>0.417</td>\n",
       "      <td>0.247</td>\n",
       "      <td>162</td>\n",
       "    </tr>\n",
       "    <tr>\n",
       "      <th>3</th>\n",
       "      <td>734</td>\n",
       "      <td>806</td>\n",
       "      <td>0.315</td>\n",
       "      <td>0.415</td>\n",
       "      <td>0.260</td>\n",
       "      <td>162</td>\n",
       "    </tr>\n",
       "    <tr>\n",
       "      <th>4</th>\n",
       "      <td>613</td>\n",
       "      <td>759</td>\n",
       "      <td>0.302</td>\n",
       "      <td>0.378</td>\n",
       "      <td>0.240</td>\n",
       "      <td>162</td>\n",
       "    </tr>\n",
       "    <tr>\n",
       "      <th>...</th>\n",
       "      <td>...</td>\n",
       "      <td>...</td>\n",
       "      <td>...</td>\n",
       "      <td>...</td>\n",
       "      <td>...</td>\n",
       "      <td>...</td>\n",
       "    </tr>\n",
       "    <tr>\n",
       "      <th>1227</th>\n",
       "      <td>705</td>\n",
       "      <td>759</td>\n",
       "      <td>0.330</td>\n",
       "      <td>0.390</td>\n",
       "      <td>0.260</td>\n",
       "      <td>161</td>\n",
       "    </tr>\n",
       "    <tr>\n",
       "      <th>1228</th>\n",
       "      <td>706</td>\n",
       "      <td>626</td>\n",
       "      <td>0.321</td>\n",
       "      <td>0.394</td>\n",
       "      <td>0.268</td>\n",
       "      <td>161</td>\n",
       "    </tr>\n",
       "    <tr>\n",
       "      <th>1229</th>\n",
       "      <td>878</td>\n",
       "      <td>690</td>\n",
       "      <td>0.341</td>\n",
       "      <td>0.441</td>\n",
       "      <td>0.278</td>\n",
       "      <td>165</td>\n",
       "    </tr>\n",
       "    <tr>\n",
       "      <th>1230</th>\n",
       "      <td>774</td>\n",
       "      <td>664</td>\n",
       "      <td>0.335</td>\n",
       "      <td>0.394</td>\n",
       "      <td>0.271</td>\n",
       "      <td>163</td>\n",
       "    </tr>\n",
       "    <tr>\n",
       "      <th>1231</th>\n",
       "      <td>599</td>\n",
       "      <td>716</td>\n",
       "      <td>0.308</td>\n",
       "      <td>0.373</td>\n",
       "      <td>0.250</td>\n",
       "      <td>162</td>\n",
       "    </tr>\n",
       "  </tbody>\n",
       "</table>\n",
       "<p>1232 rows × 6 columns</p>\n",
       "</div>"
      ],
      "text/plain": [
       "       RS   RA    OBP    SLG     BA    G\n",
       "0     734  688  0.328  0.418  0.259  162\n",
       "1     700  600  0.320  0.389  0.247  162\n",
       "2     712  705  0.311  0.417  0.247  162\n",
       "3     734  806  0.315  0.415  0.260  162\n",
       "4     613  759  0.302  0.378  0.240  162\n",
       "...   ...  ...    ...    ...    ...  ...\n",
       "1227  705  759  0.330  0.390  0.260  161\n",
       "1228  706  626  0.321  0.394  0.268  161\n",
       "1229  878  690  0.341  0.441  0.278  165\n",
       "1230  774  664  0.335  0.394  0.271  163\n",
       "1231  599  716  0.308  0.373  0.250  162\n",
       "\n",
       "[1232 rows x 6 columns]"
      ]
     },
     "execution_count": 45,
     "metadata": {},
     "output_type": "execute_result"
    }
   ],
   "source": [
    "full_data"
   ]
  },
  {
   "cell_type": "code",
   "execution_count": 46,
   "metadata": {},
   "outputs": [],
   "source": [
    "full_data1 = sm.add_constant(full_data,has_constant= \"add\")"
   ]
  },
  {
   "cell_type": "code",
   "execution_count": 47,
   "metadata": {},
   "outputs": [
    {
     "data": {
      "text/html": [
       "<div>\n",
       "<style scoped>\n",
       "    .dataframe tbody tr th:only-of-type {\n",
       "        vertical-align: middle;\n",
       "    }\n",
       "\n",
       "    .dataframe tbody tr th {\n",
       "        vertical-align: top;\n",
       "    }\n",
       "\n",
       "    .dataframe thead th {\n",
       "        text-align: right;\n",
       "    }\n",
       "</style>\n",
       "<table border=\"1\" class=\"dataframe\">\n",
       "  <thead>\n",
       "    <tr style=\"text-align: right;\">\n",
       "      <th></th>\n",
       "      <th>const</th>\n",
       "      <th>RS</th>\n",
       "      <th>RA</th>\n",
       "      <th>OBP</th>\n",
       "      <th>SLG</th>\n",
       "      <th>BA</th>\n",
       "      <th>G</th>\n",
       "    </tr>\n",
       "  </thead>\n",
       "  <tbody>\n",
       "    <tr>\n",
       "      <th>0</th>\n",
       "      <td>1.0</td>\n",
       "      <td>734</td>\n",
       "      <td>688</td>\n",
       "      <td>0.328</td>\n",
       "      <td>0.418</td>\n",
       "      <td>0.259</td>\n",
       "      <td>162</td>\n",
       "    </tr>\n",
       "    <tr>\n",
       "      <th>1</th>\n",
       "      <td>1.0</td>\n",
       "      <td>700</td>\n",
       "      <td>600</td>\n",
       "      <td>0.320</td>\n",
       "      <td>0.389</td>\n",
       "      <td>0.247</td>\n",
       "      <td>162</td>\n",
       "    </tr>\n",
       "    <tr>\n",
       "      <th>2</th>\n",
       "      <td>1.0</td>\n",
       "      <td>712</td>\n",
       "      <td>705</td>\n",
       "      <td>0.311</td>\n",
       "      <td>0.417</td>\n",
       "      <td>0.247</td>\n",
       "      <td>162</td>\n",
       "    </tr>\n",
       "    <tr>\n",
       "      <th>3</th>\n",
       "      <td>1.0</td>\n",
       "      <td>734</td>\n",
       "      <td>806</td>\n",
       "      <td>0.315</td>\n",
       "      <td>0.415</td>\n",
       "      <td>0.260</td>\n",
       "      <td>162</td>\n",
       "    </tr>\n",
       "    <tr>\n",
       "      <th>4</th>\n",
       "      <td>1.0</td>\n",
       "      <td>613</td>\n",
       "      <td>759</td>\n",
       "      <td>0.302</td>\n",
       "      <td>0.378</td>\n",
       "      <td>0.240</td>\n",
       "      <td>162</td>\n",
       "    </tr>\n",
       "    <tr>\n",
       "      <th>...</th>\n",
       "      <td>...</td>\n",
       "      <td>...</td>\n",
       "      <td>...</td>\n",
       "      <td>...</td>\n",
       "      <td>...</td>\n",
       "      <td>...</td>\n",
       "      <td>...</td>\n",
       "    </tr>\n",
       "    <tr>\n",
       "      <th>1227</th>\n",
       "      <td>1.0</td>\n",
       "      <td>705</td>\n",
       "      <td>759</td>\n",
       "      <td>0.330</td>\n",
       "      <td>0.390</td>\n",
       "      <td>0.260</td>\n",
       "      <td>161</td>\n",
       "    </tr>\n",
       "    <tr>\n",
       "      <th>1228</th>\n",
       "      <td>1.0</td>\n",
       "      <td>706</td>\n",
       "      <td>626</td>\n",
       "      <td>0.321</td>\n",
       "      <td>0.394</td>\n",
       "      <td>0.268</td>\n",
       "      <td>161</td>\n",
       "    </tr>\n",
       "    <tr>\n",
       "      <th>1229</th>\n",
       "      <td>1.0</td>\n",
       "      <td>878</td>\n",
       "      <td>690</td>\n",
       "      <td>0.341</td>\n",
       "      <td>0.441</td>\n",
       "      <td>0.278</td>\n",
       "      <td>165</td>\n",
       "    </tr>\n",
       "    <tr>\n",
       "      <th>1230</th>\n",
       "      <td>1.0</td>\n",
       "      <td>774</td>\n",
       "      <td>664</td>\n",
       "      <td>0.335</td>\n",
       "      <td>0.394</td>\n",
       "      <td>0.271</td>\n",
       "      <td>163</td>\n",
       "    </tr>\n",
       "    <tr>\n",
       "      <th>1231</th>\n",
       "      <td>1.0</td>\n",
       "      <td>599</td>\n",
       "      <td>716</td>\n",
       "      <td>0.308</td>\n",
       "      <td>0.373</td>\n",
       "      <td>0.250</td>\n",
       "      <td>162</td>\n",
       "    </tr>\n",
       "  </tbody>\n",
       "</table>\n",
       "<p>1232 rows × 7 columns</p>\n",
       "</div>"
      ],
      "text/plain": [
       "      const   RS   RA    OBP    SLG     BA    G\n",
       "0       1.0  734  688  0.328  0.418  0.259  162\n",
       "1       1.0  700  600  0.320  0.389  0.247  162\n",
       "2       1.0  712  705  0.311  0.417  0.247  162\n",
       "3       1.0  734  806  0.315  0.415  0.260  162\n",
       "4       1.0  613  759  0.302  0.378  0.240  162\n",
       "...     ...  ...  ...    ...    ...    ...  ...\n",
       "1227    1.0  705  759  0.330  0.390  0.260  161\n",
       "1228    1.0  706  626  0.321  0.394  0.268  161\n",
       "1229    1.0  878  690  0.341  0.441  0.278  165\n",
       "1230    1.0  774  664  0.335  0.394  0.271  163\n",
       "1231    1.0  599  716  0.308  0.373  0.250  162\n",
       "\n",
       "[1232 rows x 7 columns]"
      ]
     },
     "execution_count": 47,
     "metadata": {},
     "output_type": "execute_result"
    }
   ],
   "source": [
    "full_data1"
   ]
  },
  {
   "cell_type": "code",
   "execution_count": 48,
   "metadata": {},
   "outputs": [],
   "source": [
    "full_model = sm.OLS(W, full_data1)\n",
    "fitted_full_model = full_model.fit()"
   ]
  },
  {
   "cell_type": "code",
   "execution_count": 49,
   "metadata": {
    "scrolled": true
   },
   "outputs": [
    {
     "data": {
      "text/html": [
       "<table class=\"simpletable\">\n",
       "<caption>OLS Regression Results</caption>\n",
       "<tr>\n",
       "  <th>Dep. Variable:</th>            <td>W</td>        <th>  R-squared:         </th> <td>   0.881</td>\n",
       "</tr>\n",
       "<tr>\n",
       "  <th>Model:</th>                   <td>OLS</td>       <th>  Adj. R-squared:    </th> <td>   0.881</td>\n",
       "</tr>\n",
       "<tr>\n",
       "  <th>Method:</th>             <td>Least Squares</td>  <th>  F-statistic:       </th> <td>   1514.</td>\n",
       "</tr>\n",
       "<tr>\n",
       "  <th>Date:</th>             <td>Sun, 12 Jul 2020</td> <th>  Prob (F-statistic):</th>  <td>  0.00</td> \n",
       "</tr>\n",
       "<tr>\n",
       "  <th>Time:</th>                 <td>22:02:41</td>     <th>  Log-Likelihood:    </th> <td> -3440.1</td>\n",
       "</tr>\n",
       "<tr>\n",
       "  <th>No. Observations:</th>      <td>  1232</td>      <th>  AIC:               </th> <td>   6894.</td>\n",
       "</tr>\n",
       "<tr>\n",
       "  <th>Df Residuals:</th>          <td>  1225</td>      <th>  BIC:               </th> <td>   6930.</td>\n",
       "</tr>\n",
       "<tr>\n",
       "  <th>Df Model:</th>              <td>     6</td>      <th>                     </th>     <td> </td>   \n",
       "</tr>\n",
       "<tr>\n",
       "  <th>Covariance Type:</th>      <td>nonrobust</td>    <th>                     </th>     <td> </td>   \n",
       "</tr>\n",
       "</table>\n",
       "<table class=\"simpletable\">\n",
       "<tr>\n",
       "    <td></td>       <th>coef</th>     <th>std err</th>      <th>t</th>      <th>P>|t|</th>  <th>[0.025</th>    <th>0.975]</th>  \n",
       "</tr>\n",
       "<tr>\n",
       "  <th>const</th> <td>  -12.0766</td> <td>   30.741</td> <td>   -0.393</td> <td> 0.695</td> <td>  -72.388</td> <td>   48.235</td>\n",
       "</tr>\n",
       "<tr>\n",
       "  <th>RS</th>    <td>    0.0912</td> <td>    0.005</td> <td>   19.957</td> <td> 0.000</td> <td>    0.082</td> <td>    0.100</td>\n",
       "</tr>\n",
       "<tr>\n",
       "  <th>RA</th>    <td>   -0.1050</td> <td>    0.001</td> <td>  -77.700</td> <td> 0.000</td> <td>   -0.108</td> <td>   -0.102</td>\n",
       "</tr>\n",
       "<tr>\n",
       "  <th>OBP</th>   <td>   58.5427</td> <td>   20.365</td> <td>    2.875</td> <td> 0.004</td> <td>   18.588</td> <td>   98.497</td>\n",
       "</tr>\n",
       "<tr>\n",
       "  <th>SLG</th>   <td>   22.9386</td> <td>    9.409</td> <td>    2.438</td> <td> 0.015</td> <td>    4.480</td> <td>   41.397</td>\n",
       "</tr>\n",
       "<tr>\n",
       "  <th>BA</th>    <td>  -27.0409</td> <td>   17.942</td> <td>   -1.507</td> <td> 0.132</td> <td>  -62.241</td> <td>    8.159</td>\n",
       "</tr>\n",
       "<tr>\n",
       "  <th>G</th>     <td>    0.5040</td> <td>    0.184</td> <td>    2.742</td> <td> 0.006</td> <td>    0.143</td> <td>    0.865</td>\n",
       "</tr>\n",
       "</table>\n",
       "<table class=\"simpletable\">\n",
       "<tr>\n",
       "  <th>Omnibus:</th>       <td> 0.385</td> <th>  Durbin-Watson:     </th> <td>   2.055</td>\n",
       "</tr>\n",
       "<tr>\n",
       "  <th>Prob(Omnibus):</th> <td> 0.825</td> <th>  Jarque-Bera (JB):  </th> <td>   0.297</td>\n",
       "</tr>\n",
       "<tr>\n",
       "  <th>Skew:</th>          <td>-0.025</td> <th>  Prob(JB):          </th> <td>   0.862</td>\n",
       "</tr>\n",
       "<tr>\n",
       "  <th>Kurtosis:</th>      <td> 3.057</td> <th>  Cond. No.          </th> <td>2.87e+05</td>\n",
       "</tr>\n",
       "</table><br/><br/>Warnings:<br/>[1] Standard Errors assume that the covariance matrix of the errors is correctly specified.<br/>[2] The condition number is large, 2.87e+05. This might indicate that there are<br/>strong multicollinearity or other numerical problems."
      ],
      "text/plain": [
       "<class 'statsmodels.iolib.summary.Summary'>\n",
       "\"\"\"\n",
       "                            OLS Regression Results                            \n",
       "==============================================================================\n",
       "Dep. Variable:                      W   R-squared:                       0.881\n",
       "Model:                            OLS   Adj. R-squared:                  0.881\n",
       "Method:                 Least Squares   F-statistic:                     1514.\n",
       "Date:                Sun, 12 Jul 2020   Prob (F-statistic):               0.00\n",
       "Time:                        22:02:41   Log-Likelihood:                -3440.1\n",
       "No. Observations:                1232   AIC:                             6894.\n",
       "Df Residuals:                    1225   BIC:                             6930.\n",
       "Df Model:                           6                                         \n",
       "Covariance Type:            nonrobust                                         \n",
       "==============================================================================\n",
       "                 coef    std err          t      P>|t|      [0.025      0.975]\n",
       "------------------------------------------------------------------------------\n",
       "const        -12.0766     30.741     -0.393      0.695     -72.388      48.235\n",
       "RS             0.0912      0.005     19.957      0.000       0.082       0.100\n",
       "RA            -0.1050      0.001    -77.700      0.000      -0.108      -0.102\n",
       "OBP           58.5427     20.365      2.875      0.004      18.588      98.497\n",
       "SLG           22.9386      9.409      2.438      0.015       4.480      41.397\n",
       "BA           -27.0409     17.942     -1.507      0.132     -62.241       8.159\n",
       "G              0.5040      0.184      2.742      0.006       0.143       0.865\n",
       "==============================================================================\n",
       "Omnibus:                        0.385   Durbin-Watson:                   2.055\n",
       "Prob(Omnibus):                  0.825   Jarque-Bera (JB):                0.297\n",
       "Skew:                          -0.025   Prob(JB):                        0.862\n",
       "Kurtosis:                       3.057   Cond. No.                     2.87e+05\n",
       "==============================================================================\n",
       "\n",
       "Warnings:\n",
       "[1] Standard Errors assume that the covariance matrix of the errors is correctly specified.\n",
       "[2] The condition number is large, 2.87e+05. This might indicate that there are\n",
       "strong multicollinearity or other numerical problems.\n",
       "\"\"\""
      ]
     },
     "execution_count": 49,
     "metadata": {},
     "output_type": "execute_result"
    }
   ],
   "source": [
    "fitted_full_model.summary()"
   ]
  },
  {
   "cell_type": "code",
   "execution_count": 50,
   "metadata": {},
   "outputs": [],
   "source": [
    "from statsmodels.stats.outliers_influence import variance_inflation_factor\n",
    "\n",
    "vif = pd.DataFrame()\n",
    "vif[\"VIF Factor\"] = [variance_inflation_factor(full_data1.values, i) for i in range(full_data1.shape[1])]\n",
    "vif[\"features\"] = full_data1.columns\n"
   ]
  },
  {
   "cell_type": "code",
   "execution_count": 51,
   "metadata": {
    "scrolled": false
   },
   "outputs": [
    {
     "data": {
      "text/html": [
       "<div>\n",
       "<style scoped>\n",
       "    .dataframe tbody tr th:only-of-type {\n",
       "        vertical-align: middle;\n",
       "    }\n",
       "\n",
       "    .dataframe tbody tr th {\n",
       "        vertical-align: top;\n",
       "    }\n",
       "\n",
       "    .dataframe thead th {\n",
       "        text-align: right;\n",
       "    }\n",
       "</style>\n",
       "<table border=\"1\" class=\"dataframe\">\n",
       "  <thead>\n",
       "    <tr style=\"text-align: right;\">\n",
       "      <th></th>\n",
       "      <th>VIF Factor</th>\n",
       "      <th>features</th>\n",
       "    </tr>\n",
       "  </thead>\n",
       "  <tbody>\n",
       "    <tr>\n",
       "      <th>0</th>\n",
       "      <td>74248.579971</td>\n",
       "      <td>const</td>\n",
       "    </tr>\n",
       "    <tr>\n",
       "      <th>1</th>\n",
       "      <td>13.745013</td>\n",
       "      <td>RS</td>\n",
       "    </tr>\n",
       "    <tr>\n",
       "      <th>2</th>\n",
       "      <td>1.241633</td>\n",
       "      <td>RA</td>\n",
       "    </tr>\n",
       "    <tr>\n",
       "      <th>3</th>\n",
       "      <td>7.338020</td>\n",
       "      <td>OBP</td>\n",
       "    </tr>\n",
       "    <tr>\n",
       "      <th>4</th>\n",
       "      <td>7.690644</td>\n",
       "      <td>SLG</td>\n",
       "    </tr>\n",
       "    <tr>\n",
       "      <th>5</th>\n",
       "      <td>4.209910</td>\n",
       "      <td>BA</td>\n",
       "    </tr>\n",
       "    <tr>\n",
       "      <th>6</th>\n",
       "      <td>1.033843</td>\n",
       "      <td>G</td>\n",
       "    </tr>\n",
       "  </tbody>\n",
       "</table>\n",
       "</div>"
      ],
      "text/plain": [
       "     VIF Factor features\n",
       "0  74248.579971    const\n",
       "1     13.745013       RS\n",
       "2      1.241633       RA\n",
       "3      7.338020      OBP\n",
       "4      7.690644      SLG\n",
       "5      4.209910       BA\n",
       "6      1.033843        G"
      ]
     },
     "execution_count": 51,
     "metadata": {},
     "output_type": "execute_result"
    }
   ],
   "source": [
    "vif"
   ]
  },
  {
   "cell_type": "code",
   "execution_count": 52,
   "metadata": {},
   "outputs": [],
   "source": [
    "from sklearn.model_selection import train_test_split\n",
    "import time"
   ]
  },
  {
   "cell_type": "code",
   "execution_count": 53,
   "metadata": {},
   "outputs": [],
   "source": [
    "all_data1 = moneyball[['RS', 'RA', 'OBP', 'SLG', 'BA', 'G', 'W']]"
   ]
  },
  {
   "cell_type": "code",
   "execution_count": 54,
   "metadata": {},
   "outputs": [],
   "source": [
    "all_data1 = sm.add_constant(all_data1,has_constant= \"add\")"
   ]
  },
  {
   "cell_type": "code",
   "execution_count": 55,
   "metadata": {},
   "outputs": [
    {
     "data": {
      "text/html": [
       "<div>\n",
       "<style scoped>\n",
       "    .dataframe tbody tr th:only-of-type {\n",
       "        vertical-align: middle;\n",
       "    }\n",
       "\n",
       "    .dataframe tbody tr th {\n",
       "        vertical-align: top;\n",
       "    }\n",
       "\n",
       "    .dataframe thead th {\n",
       "        text-align: right;\n",
       "    }\n",
       "</style>\n",
       "<table border=\"1\" class=\"dataframe\">\n",
       "  <thead>\n",
       "    <tr style=\"text-align: right;\">\n",
       "      <th></th>\n",
       "      <th>const</th>\n",
       "      <th>RS</th>\n",
       "      <th>RA</th>\n",
       "      <th>OBP</th>\n",
       "      <th>SLG</th>\n",
       "      <th>BA</th>\n",
       "      <th>G</th>\n",
       "      <th>W</th>\n",
       "    </tr>\n",
       "  </thead>\n",
       "  <tbody>\n",
       "    <tr>\n",
       "      <th>0</th>\n",
       "      <td>1.0</td>\n",
       "      <td>734</td>\n",
       "      <td>688</td>\n",
       "      <td>0.328</td>\n",
       "      <td>0.418</td>\n",
       "      <td>0.259</td>\n",
       "      <td>162</td>\n",
       "      <td>81</td>\n",
       "    </tr>\n",
       "    <tr>\n",
       "      <th>1</th>\n",
       "      <td>1.0</td>\n",
       "      <td>700</td>\n",
       "      <td>600</td>\n",
       "      <td>0.320</td>\n",
       "      <td>0.389</td>\n",
       "      <td>0.247</td>\n",
       "      <td>162</td>\n",
       "      <td>94</td>\n",
       "    </tr>\n",
       "    <tr>\n",
       "      <th>2</th>\n",
       "      <td>1.0</td>\n",
       "      <td>712</td>\n",
       "      <td>705</td>\n",
       "      <td>0.311</td>\n",
       "      <td>0.417</td>\n",
       "      <td>0.247</td>\n",
       "      <td>162</td>\n",
       "      <td>93</td>\n",
       "    </tr>\n",
       "    <tr>\n",
       "      <th>3</th>\n",
       "      <td>1.0</td>\n",
       "      <td>734</td>\n",
       "      <td>806</td>\n",
       "      <td>0.315</td>\n",
       "      <td>0.415</td>\n",
       "      <td>0.260</td>\n",
       "      <td>162</td>\n",
       "      <td>69</td>\n",
       "    </tr>\n",
       "    <tr>\n",
       "      <th>4</th>\n",
       "      <td>1.0</td>\n",
       "      <td>613</td>\n",
       "      <td>759</td>\n",
       "      <td>0.302</td>\n",
       "      <td>0.378</td>\n",
       "      <td>0.240</td>\n",
       "      <td>162</td>\n",
       "      <td>61</td>\n",
       "    </tr>\n",
       "    <tr>\n",
       "      <th>...</th>\n",
       "      <td>...</td>\n",
       "      <td>...</td>\n",
       "      <td>...</td>\n",
       "      <td>...</td>\n",
       "      <td>...</td>\n",
       "      <td>...</td>\n",
       "      <td>...</td>\n",
       "      <td>...</td>\n",
       "    </tr>\n",
       "    <tr>\n",
       "      <th>1227</th>\n",
       "      <td>1.0</td>\n",
       "      <td>705</td>\n",
       "      <td>759</td>\n",
       "      <td>0.330</td>\n",
       "      <td>0.390</td>\n",
       "      <td>0.260</td>\n",
       "      <td>161</td>\n",
       "      <td>81</td>\n",
       "    </tr>\n",
       "    <tr>\n",
       "      <th>1228</th>\n",
       "      <td>1.0</td>\n",
       "      <td>706</td>\n",
       "      <td>626</td>\n",
       "      <td>0.321</td>\n",
       "      <td>0.394</td>\n",
       "      <td>0.268</td>\n",
       "      <td>161</td>\n",
       "      <td>93</td>\n",
       "    </tr>\n",
       "    <tr>\n",
       "      <th>1229</th>\n",
       "      <td>1.0</td>\n",
       "      <td>878</td>\n",
       "      <td>690</td>\n",
       "      <td>0.341</td>\n",
       "      <td>0.441</td>\n",
       "      <td>0.278</td>\n",
       "      <td>165</td>\n",
       "      <td>103</td>\n",
       "    </tr>\n",
       "    <tr>\n",
       "      <th>1230</th>\n",
       "      <td>1.0</td>\n",
       "      <td>774</td>\n",
       "      <td>664</td>\n",
       "      <td>0.335</td>\n",
       "      <td>0.394</td>\n",
       "      <td>0.271</td>\n",
       "      <td>163</td>\n",
       "      <td>84</td>\n",
       "    </tr>\n",
       "    <tr>\n",
       "      <th>1231</th>\n",
       "      <td>1.0</td>\n",
       "      <td>599</td>\n",
       "      <td>716</td>\n",
       "      <td>0.308</td>\n",
       "      <td>0.373</td>\n",
       "      <td>0.250</td>\n",
       "      <td>162</td>\n",
       "      <td>60</td>\n",
       "    </tr>\n",
       "  </tbody>\n",
       "</table>\n",
       "<p>1232 rows × 8 columns</p>\n",
       "</div>"
      ],
      "text/plain": [
       "      const   RS   RA    OBP    SLG     BA    G    W\n",
       "0       1.0  734  688  0.328  0.418  0.259  162   81\n",
       "1       1.0  700  600  0.320  0.389  0.247  162   94\n",
       "2       1.0  712  705  0.311  0.417  0.247  162   93\n",
       "3       1.0  734  806  0.315  0.415  0.260  162   69\n",
       "4       1.0  613  759  0.302  0.378  0.240  162   61\n",
       "...     ...  ...  ...    ...    ...    ...  ...  ...\n",
       "1227    1.0  705  759  0.330  0.390  0.260  161   81\n",
       "1228    1.0  706  626  0.321  0.394  0.268  161   93\n",
       "1229    1.0  878  690  0.341  0.441  0.278  165  103\n",
       "1230    1.0  774  664  0.335  0.394  0.271  163   84\n",
       "1231    1.0  599  716  0.308  0.373  0.250  162   60\n",
       "\n",
       "[1232 rows x 8 columns]"
      ]
     },
     "execution_count": 55,
     "metadata": {},
     "output_type": "execute_result"
    }
   ],
   "source": [
    "all_data1"
   ]
  },
  {
   "cell_type": "code",
   "execution_count": 56,
   "metadata": {},
   "outputs": [
    {
     "name": "stdout",
     "output_type": "stream",
     "text": [
      "(862, 7) (370, 7) (862,) (370,)\n"
     ]
    }
   ],
   "source": [
    "feature_columns = all_data1.columns.difference(['W'])\n",
    "X = all_data1[feature_columns]\n",
    "y = all_data1.W\n",
    "train_x, test_x, train_y, test_y = train_test_split(X, y, train_size=0.7, test_size=0.3)\n",
    "print(train_x.shape, test_x.shape, train_y.shape, test_y.shape)"
   ]
  },
  {
   "cell_type": "code",
   "execution_count": 57,
   "metadata": {},
   "outputs": [
    {
     "name": "stdout",
     "output_type": "stream",
     "text": [
      "{'model': <statsmodels.regression.linear_model.RegressionResultsWrapper object at 0x000001F56ED6CB88>, 'AIC': 4787.576744026583}\n"
     ]
    }
   ],
   "source": [
    "def processSubset(X,y, feature_set):\n",
    "            model = sm.OLS(y,X.astype(float)[list(feature_set)]) # Modeling\n",
    "            regr = model.fit() # 모델 학습\n",
    "            AIC = regr.aic # 모델의 AIC\n",
    "            return {\"model\":regr, \"AIC\":AIC}\n",
    "        \n",
    "print(processSubset(X=train_x, y=train_y, feature_set = feature_columns[0:5]))"
   ]
  },
  {
   "cell_type": "code",
   "execution_count": 58,
   "metadata": {},
   "outputs": [],
   "source": [
    "########전진선택법(step=1)\n",
    "\n",
    "def forward(X, y, predictors):\n",
    "    # 데이터 변수들이 미리정의된 predictors에 있는지 없는지 확인 및 분류\n",
    "    remaining_predictors = [p for p in X.columns.difference(['const']) if p not in predictors]\n",
    "    tic = time.time()\n",
    "    results = []\n",
    "    for p in remaining_predictors:\n",
    "        results.append(processSubset(X=X, y= y, feature_set=predictors+[p]+['const']))\n",
    "    # 데이터프레임으로 변환\n",
    "    models = pd.DataFrame(results)\n",
    "\n",
    "    # AIC가 가장 낮은 것을 선택\n",
    "    best_model = models.loc[models['AIC'].argmin()] # index\n",
    "    toc = time.time()\n",
    "    print(\"Processed \", models.shape[0], \"models on\", len(predictors)+1, \"predictors in\", (toc-tic))\n",
    "    print('Selected predictors:',best_model['model'].model.exog_names,' AIC:',best_model[0] )\n",
    "    return best_model"
   ]
  },
  {
   "cell_type": "code",
   "execution_count": 59,
   "metadata": {},
   "outputs": [],
   "source": [
    "#### 전진선택법 모델\n",
    "\n",
    "def forward_model(X,y):\n",
    "    Fmodels = pd.DataFrame(columns=[\"AIC\", \"model\"])\n",
    "    tic = time.time()\n",
    "    # 미리 정의된 데이터 변수\n",
    "    predictors = []\n",
    "    # 변수 1~10개 : 0~9 -> 1~10\n",
    "    for i in range(1, len(X.columns.difference(['const'])) + 1):\n",
    "        Forward_result = forward(X=X,y=y,predictors=predictors)\n",
    "        if i > 1:\n",
    "            if Forward_result['AIC'] > Fmodel_before:\n",
    "                break\n",
    "        Fmodels.loc[i] = Forward_result\n",
    "        predictors = Fmodels.loc[i][\"model\"].model.exog_names\n",
    "        Fmodel_before = Fmodels.loc[i][\"AIC\"]\n",
    "        predictors = [ k for k in predictors if k != 'const']\n",
    "    toc = time.time()\n",
    "    print(\"Total elapsed time:\", (toc - tic), \"seconds.\")\n",
    "\n",
    "    return(Fmodels['model'][len(Fmodels['model'])])"
   ]
  },
  {
   "cell_type": "code",
   "execution_count": 60,
   "metadata": {},
   "outputs": [
    {
     "name": "stdout",
     "output_type": "stream",
     "text": [
      "Processed  6 models on 1 predictors in 0.011967897415161133\n",
      "Selected predictors: ['RA', 'const']  AIC: <statsmodels.regression.linear_model.RegressionResultsWrapper object at 0x000001F56ED8AF88>\n",
      "Processed  5 models on 2 predictors in 0.006981611251831055\n",
      "Selected predictors: ['RA', 'RS', 'const']  AIC: <statsmodels.regression.linear_model.RegressionResultsWrapper object at 0x000001F56ED740C8>\n",
      "Processed  4 models on 3 predictors in 0.004986763000488281\n",
      "Selected predictors: ['RA', 'RS', 'G', 'const']  AIC: <statsmodels.regression.linear_model.RegressionResultsWrapper object at 0x000001F56ED9AA48>\n",
      "Processed  3 models on 4 predictors in 0.003989696502685547\n",
      "Selected predictors: ['RA', 'RS', 'G', 'OBP', 'const']  AIC: <statsmodels.regression.linear_model.RegressionResultsWrapper object at 0x000001F56ED9C608>\n",
      "Processed  2 models on 5 predictors in 0.003988981246948242\n",
      "Selected predictors: ['RA', 'RS', 'G', 'OBP', 'SLG', 'const']  AIC: <statsmodels.regression.linear_model.RegressionResultsWrapper object at 0x000001F56ED9E188>\n",
      "Processed  1 models on 6 predictors in 0.001994609832763672\n",
      "Selected predictors: ['RA', 'RS', 'G', 'OBP', 'SLG', 'BA', 'const']  AIC: <statsmodels.regression.linear_model.RegressionResultsWrapper object at 0x000001F56ED9EC08>\n",
      "Total elapsed time: 0.05585026741027832 seconds.\n"
     ]
    }
   ],
   "source": [
    "Forward_best_model = forward_model(X=train_x, y= train_y)"
   ]
  },
  {
   "cell_type": "code",
   "execution_count": 61,
   "metadata": {},
   "outputs": [
    {
     "data": {
      "text/plain": [
       "4782.19008970505"
      ]
     },
     "execution_count": 61,
     "metadata": {},
     "output_type": "execute_result"
    }
   ],
   "source": [
    "Forward_best_model.aic"
   ]
  },
  {
   "cell_type": "code",
   "execution_count": 62,
   "metadata": {},
   "outputs": [
    {
     "data": {
      "text/html": [
       "<table class=\"simpletable\">\n",
       "<caption>OLS Regression Results</caption>\n",
       "<tr>\n",
       "  <th>Dep. Variable:</th>            <td>W</td>        <th>  R-squared:         </th> <td>   0.886</td>\n",
       "</tr>\n",
       "<tr>\n",
       "  <th>Model:</th>                   <td>OLS</td>       <th>  Adj. R-squared:    </th> <td>   0.885</td>\n",
       "</tr>\n",
       "<tr>\n",
       "  <th>Method:</th>             <td>Least Squares</td>  <th>  F-statistic:       </th> <td>   1109.</td>\n",
       "</tr>\n",
       "<tr>\n",
       "  <th>Date:</th>             <td>Sun, 12 Jul 2020</td> <th>  Prob (F-statistic):</th>  <td>  0.00</td> \n",
       "</tr>\n",
       "<tr>\n",
       "  <th>Time:</th>                 <td>22:02:41</td>     <th>  Log-Likelihood:    </th> <td> -2384.1</td>\n",
       "</tr>\n",
       "<tr>\n",
       "  <th>No. Observations:</th>      <td>   862</td>      <th>  AIC:               </th> <td>   4782.</td>\n",
       "</tr>\n",
       "<tr>\n",
       "  <th>Df Residuals:</th>          <td>   855</td>      <th>  BIC:               </th> <td>   4816.</td>\n",
       "</tr>\n",
       "<tr>\n",
       "  <th>Df Model:</th>              <td>     6</td>      <th>                     </th>     <td> </td>   \n",
       "</tr>\n",
       "<tr>\n",
       "  <th>Covariance Type:</th>      <td>nonrobust</td>    <th>                     </th>     <td> </td>   \n",
       "</tr>\n",
       "</table>\n",
       "<table class=\"simpletable\">\n",
       "<tr>\n",
       "    <td></td>       <th>coef</th>     <th>std err</th>      <th>t</th>      <th>P>|t|</th>  <th>[0.025</th>    <th>0.975]</th>  \n",
       "</tr>\n",
       "<tr>\n",
       "  <th>RA</th>    <td>   -0.1045</td> <td>    0.002</td> <td>  -65.966</td> <td> 0.000</td> <td>   -0.108</td> <td>   -0.101</td>\n",
       "</tr>\n",
       "<tr>\n",
       "  <th>RS</th>    <td>    0.0856</td> <td>    0.005</td> <td>   15.807</td> <td> 0.000</td> <td>    0.075</td> <td>    0.096</td>\n",
       "</tr>\n",
       "<tr>\n",
       "  <th>G</th>     <td>    0.5671</td> <td>    0.222</td> <td>    2.555</td> <td> 0.011</td> <td>    0.131</td> <td>    1.003</td>\n",
       "</tr>\n",
       "<tr>\n",
       "  <th>OBP</th>   <td>   81.2212</td> <td>   23.528</td> <td>    3.452</td> <td> 0.001</td> <td>   35.043</td> <td>  127.400</td>\n",
       "</tr>\n",
       "<tr>\n",
       "  <th>SLG</th>   <td>   33.4882</td> <td>   10.994</td> <td>    3.046</td> <td> 0.002</td> <td>   11.910</td> <td>   55.067</td>\n",
       "</tr>\n",
       "<tr>\n",
       "  <th>BA</th>    <td>  -41.5941</td> <td>   20.855</td> <td>   -1.994</td> <td> 0.046</td> <td>  -82.527</td> <td>   -0.661</td>\n",
       "</tr>\n",
       "<tr>\n",
       "  <th>const</th> <td>  -26.4434</td> <td>   37.262</td> <td>   -0.710</td> <td> 0.478</td> <td>  -99.579</td> <td>   46.692</td>\n",
       "</tr>\n",
       "</table>\n",
       "<table class=\"simpletable\">\n",
       "<tr>\n",
       "  <th>Omnibus:</th>       <td> 1.002</td> <th>  Durbin-Watson:     </th> <td>   2.043</td>\n",
       "</tr>\n",
       "<tr>\n",
       "  <th>Prob(Omnibus):</th> <td> 0.606</td> <th>  Jarque-Bera (JB):  </th> <td>   0.859</td>\n",
       "</tr>\n",
       "<tr>\n",
       "  <th>Skew:</th>          <td> 0.054</td> <th>  Prob(JB):          </th> <td>   0.651</td>\n",
       "</tr>\n",
       "<tr>\n",
       "  <th>Kurtosis:</th>      <td> 3.111</td> <th>  Cond. No.          </th> <td>2.98e+05</td>\n",
       "</tr>\n",
       "</table><br/><br/>Warnings:<br/>[1] Standard Errors assume that the covariance matrix of the errors is correctly specified.<br/>[2] The condition number is large, 2.98e+05. This might indicate that there are<br/>strong multicollinearity or other numerical problems."
      ],
      "text/plain": [
       "<class 'statsmodels.iolib.summary.Summary'>\n",
       "\"\"\"\n",
       "                            OLS Regression Results                            \n",
       "==============================================================================\n",
       "Dep. Variable:                      W   R-squared:                       0.886\n",
       "Model:                            OLS   Adj. R-squared:                  0.885\n",
       "Method:                 Least Squares   F-statistic:                     1109.\n",
       "Date:                Sun, 12 Jul 2020   Prob (F-statistic):               0.00\n",
       "Time:                        22:02:41   Log-Likelihood:                -2384.1\n",
       "No. Observations:                 862   AIC:                             4782.\n",
       "Df Residuals:                     855   BIC:                             4816.\n",
       "Df Model:                           6                                         \n",
       "Covariance Type:            nonrobust                                         \n",
       "==============================================================================\n",
       "                 coef    std err          t      P>|t|      [0.025      0.975]\n",
       "------------------------------------------------------------------------------\n",
       "RA            -0.1045      0.002    -65.966      0.000      -0.108      -0.101\n",
       "RS             0.0856      0.005     15.807      0.000       0.075       0.096\n",
       "G              0.5671      0.222      2.555      0.011       0.131       1.003\n",
       "OBP           81.2212     23.528      3.452      0.001      35.043     127.400\n",
       "SLG           33.4882     10.994      3.046      0.002      11.910      55.067\n",
       "BA           -41.5941     20.855     -1.994      0.046     -82.527      -0.661\n",
       "const        -26.4434     37.262     -0.710      0.478     -99.579      46.692\n",
       "==============================================================================\n",
       "Omnibus:                        1.002   Durbin-Watson:                   2.043\n",
       "Prob(Omnibus):                  0.606   Jarque-Bera (JB):                0.859\n",
       "Skew:                           0.054   Prob(JB):                        0.651\n",
       "Kurtosis:                       3.111   Cond. No.                     2.98e+05\n",
       "==============================================================================\n",
       "\n",
       "Warnings:\n",
       "[1] Standard Errors assume that the covariance matrix of the errors is correctly specified.\n",
       "[2] The condition number is large, 2.98e+05. This might indicate that there are\n",
       "strong multicollinearity or other numerical problems.\n",
       "\"\"\""
      ]
     },
     "execution_count": 62,
     "metadata": {},
     "output_type": "execute_result"
    }
   ],
   "source": [
    "Forward_best_model.summary()"
   ]
  },
  {
   "cell_type": "code",
   "execution_count": 63,
   "metadata": {
    "colab": {},
    "colab_type": "code",
    "id": "zL_dJnh6HiZQ"
   },
   "outputs": [
    {
     "data": {
      "text/plain": [
       "<matplotlib.axes._subplots.AxesSubplot at 0x1f56bc99a48>"
      ]
     },
     "execution_count": 63,
     "metadata": {},
     "output_type": "execute_result"
    },
    {
     "data": {
      "image/png": "[encoded data removed]",
      "text/plain": [
       "<Figure size 432x288 with 1 Axes>"
      ]
     },
     "metadata": {
      "needs_background": "light"
     },
     "output_type": "display_data"
    }
   ],
   "source": [
    "# 참고: 경기수 G 히스토그램\n",
    "moneyball[\"G\"].value_counts().plot.barh()\n",
    "# 대부분 162 근처에 있음"
   ]
  },
  {
   "cell_type": "code",
   "execution_count": 64,
   "metadata": {
    "colab": {},
    "colab_type": "code",
    "id": "FV928AgPHiZS"
   },
   "outputs": [
    {
     "name": "stdout",
     "output_type": "stream",
     "text": [
      "r squared: 0.8795651418768365\n",
      "coefficients:  [ 0.10449347 -0.10460008]\n",
      "intercept:  80.98045555972713\n"
     ]
    }
   ],
   "source": [
    "# 참고로 선형회귀분석의 다양한 통계적인 결과 수치를 원치 않는 경우\n",
    "# sklearn을 이용해서 손쉽게 회귀분석 모델을 만들 수 있다.\n",
    "\n",
    "from sklearn.linear_model import LinearRegression\n",
    "\n",
    "# Fit 할 때 상수항을 따로 추가할 필요 없음\n",
    "reg = LinearRegression().fit(moneyball[[\"RS\", \"RA\"]], moneyball[\"W\"])\n",
    "print(\"r squared:\", reg.score(moneyball[[\"RS\", \"RA\"]], moneyball[\"W\"]))\n",
    "print(\"coefficients: \", reg.coef_)\n",
    "print(\"intercept: \", reg.intercept_)"
   ]
  },
  {
   "cell_type": "markdown",
   "metadata": {
    "colab_type": "text",
    "id": "50Dp0daZHiZU"
   },
   "source": [
    "## STEP 6. 로지스틱회귀 모델 생성\n",
    "- RS와 RA 두 독립변수로 플레이오프(Playoffs) 진출 여부를 결정하는 로지스틱회귀분석 모델을 생성해보시오.\n",
    "- Confusion matrix, AUC, ROC 곡선을 이용해서 결과를 해석해 보시오.\n",
    "- 참고\n",
    "    - [Scikit learn confusion matrix](https://scikit-learn.org/stable/modules/generated/sklearn.metrics.confusion_matrix.html)\n",
    "    - [Model Evaluation Techniques for Classification models](https://towardsdatascience.com/model-evaluation-techniques-for-classification-models-eac30092c38b)\n",
    "    - [Evaluating a Classification Model]()"
   ]
  },
  {
   "cell_type": "markdown",
   "metadata": {
    "colab_type": "text",
    "id": "eeJB7IOGHiZV"
   },
   "source": [
    "### [풀이] \n",
    "- "
   ]
  },
  {
   "cell_type": "code",
   "execution_count": 111,
   "metadata": {},
   "outputs": [],
   "source": [
    "RSRAP = moneyball[['RS', 'RA', 'Playoffs']]"
   ]
  },
  {
   "cell_type": "code",
   "execution_count": 114,
   "metadata": {},
   "outputs": [],
   "source": [
    "RSRAP1 = sm.add_constant(RSRAP,has_constant= 'add')"
   ]
  },
  {
   "cell_type": "code",
   "execution_count": 115,
   "metadata": {},
   "outputs": [
    {
     "data": {
      "text/html": [
       "<div>\n",
       "<style scoped>\n",
       "    .dataframe tbody tr th:only-of-type {\n",
       "        vertical-align: middle;\n",
       "    }\n",
       "\n",
       "    .dataframe tbody tr th {\n",
       "        vertical-align: top;\n",
       "    }\n",
       "\n",
       "    .dataframe thead th {\n",
       "        text-align: right;\n",
       "    }\n",
       "</style>\n",
       "<table border=\"1\" class=\"dataframe\">\n",
       "  <thead>\n",
       "    <tr style=\"text-align: right;\">\n",
       "      <th></th>\n",
       "      <th>const</th>\n",
       "      <th>RS</th>\n",
       "      <th>RA</th>\n",
       "      <th>Playoffs</th>\n",
       "    </tr>\n",
       "  </thead>\n",
       "  <tbody>\n",
       "    <tr>\n",
       "      <th>0</th>\n",
       "      <td>1.0</td>\n",
       "      <td>734</td>\n",
       "      <td>688</td>\n",
       "      <td>0</td>\n",
       "    </tr>\n",
       "    <tr>\n",
       "      <th>1</th>\n",
       "      <td>1.0</td>\n",
       "      <td>700</td>\n",
       "      <td>600</td>\n",
       "      <td>1</td>\n",
       "    </tr>\n",
       "    <tr>\n",
       "      <th>2</th>\n",
       "      <td>1.0</td>\n",
       "      <td>712</td>\n",
       "      <td>705</td>\n",
       "      <td>1</td>\n",
       "    </tr>\n",
       "    <tr>\n",
       "      <th>3</th>\n",
       "      <td>1.0</td>\n",
       "      <td>734</td>\n",
       "      <td>806</td>\n",
       "      <td>0</td>\n",
       "    </tr>\n",
       "    <tr>\n",
       "      <th>4</th>\n",
       "      <td>1.0</td>\n",
       "      <td>613</td>\n",
       "      <td>759</td>\n",
       "      <td>0</td>\n",
       "    </tr>\n",
       "    <tr>\n",
       "      <th>...</th>\n",
       "      <td>...</td>\n",
       "      <td>...</td>\n",
       "      <td>...</td>\n",
       "      <td>...</td>\n",
       "    </tr>\n",
       "    <tr>\n",
       "      <th>1227</th>\n",
       "      <td>1.0</td>\n",
       "      <td>705</td>\n",
       "      <td>759</td>\n",
       "      <td>0</td>\n",
       "    </tr>\n",
       "    <tr>\n",
       "      <th>1228</th>\n",
       "      <td>1.0</td>\n",
       "      <td>706</td>\n",
       "      <td>626</td>\n",
       "      <td>0</td>\n",
       "    </tr>\n",
       "    <tr>\n",
       "      <th>1229</th>\n",
       "      <td>1.0</td>\n",
       "      <td>878</td>\n",
       "      <td>690</td>\n",
       "      <td>1</td>\n",
       "    </tr>\n",
       "    <tr>\n",
       "      <th>1230</th>\n",
       "      <td>1.0</td>\n",
       "      <td>774</td>\n",
       "      <td>664</td>\n",
       "      <td>0</td>\n",
       "    </tr>\n",
       "    <tr>\n",
       "      <th>1231</th>\n",
       "      <td>1.0</td>\n",
       "      <td>599</td>\n",
       "      <td>716</td>\n",
       "      <td>0</td>\n",
       "    </tr>\n",
       "  </tbody>\n",
       "</table>\n",
       "<p>1232 rows × 4 columns</p>\n",
       "</div>"
      ],
      "text/plain": [
       "      const   RS   RA  Playoffs\n",
       "0       1.0  734  688         0\n",
       "1       1.0  700  600         1\n",
       "2       1.0  712  705         1\n",
       "3       1.0  734  806         0\n",
       "4       1.0  613  759         0\n",
       "...     ...  ...  ...       ...\n",
       "1227    1.0  705  759         0\n",
       "1228    1.0  706  626         0\n",
       "1229    1.0  878  690         1\n",
       "1230    1.0  774  664         0\n",
       "1231    1.0  599  716         0\n",
       "\n",
       "[1232 rows x 4 columns]"
      ]
     },
     "execution_count": 115,
     "metadata": {},
     "output_type": "execute_result"
    }
   ],
   "source": [
    "RSRAP1"
   ]
  },
  {
   "cell_type": "code",
   "execution_count": 117,
   "metadata": {},
   "outputs": [],
   "source": [
    "feature_columns1 = RSRAP1.columns.difference(['Playoffs'])\n",
    "X = RSRAP1[feature_columns1]\n",
    "y = RSRAP1['Playoffs']"
   ]
  },
  {
   "cell_type": "code",
   "execution_count": 118,
   "metadata": {
    "scrolled": false
   },
   "outputs": [
    {
     "data": {
      "text/html": [
       "<div>\n",
       "<style scoped>\n",
       "    .dataframe tbody tr th:only-of-type {\n",
       "        vertical-align: middle;\n",
       "    }\n",
       "\n",
       "    .dataframe tbody tr th {\n",
       "        vertical-align: top;\n",
       "    }\n",
       "\n",
       "    .dataframe thead th {\n",
       "        text-align: right;\n",
       "    }\n",
       "</style>\n",
       "<table border=\"1\" class=\"dataframe\">\n",
       "  <thead>\n",
       "    <tr style=\"text-align: right;\">\n",
       "      <th></th>\n",
       "      <th>RA</th>\n",
       "      <th>RS</th>\n",
       "      <th>const</th>\n",
       "    </tr>\n",
       "  </thead>\n",
       "  <tbody>\n",
       "    <tr>\n",
       "      <th>0</th>\n",
       "      <td>688</td>\n",
       "      <td>734</td>\n",
       "      <td>1.0</td>\n",
       "    </tr>\n",
       "    <tr>\n",
       "      <th>1</th>\n",
       "      <td>600</td>\n",
       "      <td>700</td>\n",
       "      <td>1.0</td>\n",
       "    </tr>\n",
       "    <tr>\n",
       "      <th>2</th>\n",
       "      <td>705</td>\n",
       "      <td>712</td>\n",
       "      <td>1.0</td>\n",
       "    </tr>\n",
       "    <tr>\n",
       "      <th>3</th>\n",
       "      <td>806</td>\n",
       "      <td>734</td>\n",
       "      <td>1.0</td>\n",
       "    </tr>\n",
       "    <tr>\n",
       "      <th>4</th>\n",
       "      <td>759</td>\n",
       "      <td>613</td>\n",
       "      <td>1.0</td>\n",
       "    </tr>\n",
       "    <tr>\n",
       "      <th>...</th>\n",
       "      <td>...</td>\n",
       "      <td>...</td>\n",
       "      <td>...</td>\n",
       "    </tr>\n",
       "    <tr>\n",
       "      <th>1227</th>\n",
       "      <td>759</td>\n",
       "      <td>705</td>\n",
       "      <td>1.0</td>\n",
       "    </tr>\n",
       "    <tr>\n",
       "      <th>1228</th>\n",
       "      <td>626</td>\n",
       "      <td>706</td>\n",
       "      <td>1.0</td>\n",
       "    </tr>\n",
       "    <tr>\n",
       "      <th>1229</th>\n",
       "      <td>690</td>\n",
       "      <td>878</td>\n",
       "      <td>1.0</td>\n",
       "    </tr>\n",
       "    <tr>\n",
       "      <th>1230</th>\n",
       "      <td>664</td>\n",
       "      <td>774</td>\n",
       "      <td>1.0</td>\n",
       "    </tr>\n",
       "    <tr>\n",
       "      <th>1231</th>\n",
       "      <td>716</td>\n",
       "      <td>599</td>\n",
       "      <td>1.0</td>\n",
       "    </tr>\n",
       "  </tbody>\n",
       "</table>\n",
       "<p>1232 rows × 3 columns</p>\n",
       "</div>"
      ],
      "text/plain": [
       "       RA   RS  const\n",
       "0     688  734    1.0\n",
       "1     600  700    1.0\n",
       "2     705  712    1.0\n",
       "3     806  734    1.0\n",
       "4     759  613    1.0\n",
       "...   ...  ...    ...\n",
       "1227  759  705    1.0\n",
       "1228  626  706    1.0\n",
       "1229  690  878    1.0\n",
       "1230  664  774    1.0\n",
       "1231  716  599    1.0\n",
       "\n",
       "[1232 rows x 3 columns]"
      ]
     },
     "execution_count": 118,
     "metadata": {},
     "output_type": "execute_result"
    }
   ],
   "source": [
    "X"
   ]
  },
  {
   "cell_type": "code",
   "execution_count": 119,
   "metadata": {
    "scrolled": true
   },
   "outputs": [
    {
     "name": "stdout",
     "output_type": "stream",
     "text": [
      "(862, 3) (370, 3) (862,) (370,)\n"
     ]
    }
   ],
   "source": [
    "train_x, test_x, train_y, test_y = train_test_split(X, y, stratify=y, train_size=0.7, test_size=0.3,random_state=42)\n",
    "print(train_x.shape, test_x.shape, train_y.shape, test_y.shape)"
   ]
  },
  {
   "cell_type": "code",
   "execution_count": 140,
   "metadata": {
    "colab": {},
    "colab_type": "code",
    "id": "7vtq-_3AHiZV",
    "scrolled": true
   },
   "outputs": [
    {
     "name": "stdout",
     "output_type": "stream",
     "text": [
      "Optimization terminated successfully.\n",
      "         Current function value: 0.249769\n",
      "         Iterations 8\n"
     ]
    }
   ],
   "source": [
    "## 로지스틱 모형 적합 \n",
    "\n",
    "model = sm.Logit(train_y, train_x)\n",
    "fit_logit = model.fit()"
   ]
  },
  {
   "cell_type": "code",
   "execution_count": 141,
   "metadata": {},
   "outputs": [
    {
     "data": {
      "text/html": [
       "<table class=\"simpletable\">\n",
       "<caption>Logit Regression Results</caption>\n",
       "<tr>\n",
       "  <th>Dep. Variable:</th>       <td>Playoffs</td>     <th>  No. Observations:  </th>  <td>   862</td>  \n",
       "</tr>\n",
       "<tr>\n",
       "  <th>Model:</th>                 <td>Logit</td>      <th>  Df Residuals:      </th>  <td>   859</td>  \n",
       "</tr>\n",
       "<tr>\n",
       "  <th>Method:</th>                 <td>MLE</td>       <th>  Df Model:          </th>  <td>     2</td>  \n",
       "</tr>\n",
       "<tr>\n",
       "  <th>Date:</th>            <td>Sun, 12 Jul 2020</td> <th>  Pseudo R-squ.:     </th>  <td>0.4986</td>  \n",
       "</tr>\n",
       "<tr>\n",
       "  <th>Time:</th>                <td>22:38:25</td>     <th>  Log-Likelihood:    </th> <td> -215.30</td> \n",
       "</tr>\n",
       "<tr>\n",
       "  <th>converged:</th>             <td>True</td>       <th>  LL-Null:           </th> <td> -429.40</td> \n",
       "</tr>\n",
       "<tr>\n",
       "  <th>Covariance Type:</th>     <td>nonrobust</td>    <th>  LLR p-value:       </th> <td>1.044e-93</td>\n",
       "</tr>\n",
       "</table>\n",
       "<table class=\"simpletable\">\n",
       "<tr>\n",
       "    <td></td>       <th>coef</th>     <th>std err</th>      <th>z</th>      <th>P>|z|</th>  <th>[0.025</th>    <th>0.975]</th>  \n",
       "</tr>\n",
       "<tr>\n",
       "  <th>RA</th>    <td>   -0.0322</td> <td>    0.003</td> <td>  -11.275</td> <td> 0.000</td> <td>   -0.038</td> <td>   -0.027</td>\n",
       "</tr>\n",
       "<tr>\n",
       "  <th>RS</th>    <td>    0.0342</td> <td>    0.003</td> <td>   11.969</td> <td> 0.000</td> <td>    0.029</td> <td>    0.040</td>\n",
       "</tr>\n",
       "<tr>\n",
       "  <th>const</th> <td>   -4.8082</td> <td>    1.232</td> <td>   -3.903</td> <td> 0.000</td> <td>   -7.223</td> <td>   -2.394</td>\n",
       "</tr>\n",
       "</table>"
      ],
      "text/plain": [
       "<class 'statsmodels.iolib.summary.Summary'>\n",
       "\"\"\"\n",
       "                           Logit Regression Results                           \n",
       "==============================================================================\n",
       "Dep. Variable:               Playoffs   No. Observations:                  862\n",
       "Model:                          Logit   Df Residuals:                      859\n",
       "Method:                           MLE   Df Model:                            2\n",
       "Date:                Sun, 12 Jul 2020   Pseudo R-squ.:                  0.4986\n",
       "Time:                        22:38:25   Log-Likelihood:                -215.30\n",
       "converged:                       True   LL-Null:                       -429.40\n",
       "Covariance Type:            nonrobust   LLR p-value:                 1.044e-93\n",
       "==============================================================================\n",
       "                 coef    std err          z      P>|z|      [0.025      0.975]\n",
       "------------------------------------------------------------------------------\n",
       "RA            -0.0322      0.003    -11.275      0.000      -0.038      -0.027\n",
       "RS             0.0342      0.003     11.969      0.000       0.029       0.040\n",
       "const         -4.8082      1.232     -3.903      0.000      -7.223      -2.394\n",
       "==============================================================================\n",
       "\"\"\""
      ]
     },
     "execution_count": 141,
     "metadata": {},
     "output_type": "execute_result"
    }
   ],
   "source": [
    "fit_logit.summary()"
   ]
  },
  {
   "cell_type": "code",
   "execution_count": 167,
   "metadata": {},
   "outputs": [
    {
     "name": "stdout",
     "output_type": "stream",
     "text": [
      "model AIC:  436.60231\n"
     ]
    }
   ],
   "source": [
    "print(\"model AIC: \",\"{:.5f}\".format(fit_logit.aic))"
   ]
  },
  {
   "cell_type": "code",
   "execution_count": 142,
   "metadata": {},
   "outputs": [
    {
     "data": {
      "text/plain": [
       "RA      -0.032197\n",
       "RS       0.034212\n",
       "const   -4.808183\n",
       "dtype: float64"
      ]
     },
     "execution_count": 142,
     "metadata": {},
     "output_type": "execute_result"
    }
   ],
   "source": [
    "fit_logit.params"
   ]
  },
  {
   "cell_type": "code",
   "execution_count": 143,
   "metadata": {},
   "outputs": [
    {
     "data": {
      "text/plain": [
       "RA       0.968316\n",
       "RS       1.034804\n",
       "const    0.008163\n",
       "dtype: float64"
      ]
     },
     "execution_count": 143,
     "metadata": {},
     "output_type": "execute_result"
    }
   ],
   "source": [
    "np.exp(fit_logit.params)"
   ]
  },
  {
   "cell_type": "code",
   "execution_count": 146,
   "metadata": {},
   "outputs": [
    {
     "data": {
      "text/plain": [
       "1074    0.096692\n",
       "1034    0.000911\n",
       "1152    0.184171\n",
       "1226    0.777098\n",
       "1060    0.222912\n",
       "          ...   \n",
       "376     0.000525\n",
       "754     0.001485\n",
       "898     0.000030\n",
       "502     0.001075\n",
       "451     0.971991\n",
       "Length: 370, dtype: float64"
      ]
     },
     "execution_count": 146,
     "metadata": {},
     "output_type": "execute_result"
    }
   ],
   "source": [
    "## y_hat 예측\n",
    "pred_y = fit_logit.predict(test_x)\n",
    "pred_y"
   ]
  },
  {
   "cell_type": "code",
   "execution_count": 147,
   "metadata": {
    "scrolled": true
   },
   "outputs": [
    {
     "data": {
      "text/plain": [
       "1074    0\n",
       "1034    0\n",
       "1152    0\n",
       "1226    1\n",
       "1060    0\n",
       "       ..\n",
       "376     0\n",
       "754     0\n",
       "898     0\n",
       "502     0\n",
       "451     1\n",
       "Length: 370, dtype: int32"
      ]
     },
     "execution_count": 147,
     "metadata": {},
     "output_type": "execute_result"
    }
   ],
   "source": [
    "def cut_off(y,threshold):\n",
    "    Y = y.copy() # copy함수를 사용하여 이전의 y값이 변화지 않게 함\n",
    "    Y[Y>threshold]=1\n",
    "    Y[Y<=threshold]=0\n",
    "    return(Y.astype(int))\n",
    "\n",
    "pred_Y = cut_off(pred_y,0.5)\n",
    "pred_Y"
   ]
  },
  {
   "cell_type": "code",
   "execution_count": 148,
   "metadata": {},
   "outputs": [],
   "source": [
    "from sklearn.metrics import confusion_matrix"
   ]
  },
  {
   "cell_type": "code",
   "execution_count": 149,
   "metadata": {},
   "outputs": [
    {
     "name": "stdout",
     "output_type": "stream",
     "text": [
      "[[283  14]\n",
      " [ 32  41]]\n"
     ]
    }
   ],
   "source": [
    "# confusion matrix\n",
    "cfmat = confusion_matrix(test_y,pred_Y)\n",
    "print(cfmat)"
   ]
  },
  {
   "cell_type": "code",
   "execution_count": 150,
   "metadata": {},
   "outputs": [
    {
     "data": {
      "text/plain": [
       "0.8756756756756757"
      ]
     },
     "execution_count": 150,
     "metadata": {},
     "output_type": "execute_result"
    }
   ],
   "source": [
    "(cfmat[0,0]+cfmat[1,1])/np.sum(cfmat) ## accuracy"
   ]
  },
  {
   "cell_type": "code",
   "execution_count": 151,
   "metadata": {},
   "outputs": [],
   "source": [
    "def acc(cfmat) :\n",
    "    acc=(cfmat[0,0]+cfmat[1,1])/np.sum(cfmat) ## accuracy\n",
    "    return(acc)"
   ]
  },
  {
   "cell_type": "code",
   "execution_count": 152,
   "metadata": {
    "scrolled": true
   },
   "outputs": [
    {
     "data": {
      "text/html": [
       "<div>\n",
       "<style scoped>\n",
       "    .dataframe tbody tr th:only-of-type {\n",
       "        vertical-align: middle;\n",
       "    }\n",
       "\n",
       "    .dataframe tbody tr th {\n",
       "        vertical-align: top;\n",
       "    }\n",
       "\n",
       "    .dataframe thead th {\n",
       "        text-align: right;\n",
       "    }\n",
       "</style>\n",
       "<table border=\"1\" class=\"dataframe\">\n",
       "  <thead>\n",
       "    <tr style=\"text-align: right;\">\n",
       "      <th>performance</th>\n",
       "      <th>ACC</th>\n",
       "    </tr>\n",
       "    <tr>\n",
       "      <th>threshold</th>\n",
       "      <th></th>\n",
       "    </tr>\n",
       "  </thead>\n",
       "  <tbody>\n",
       "    <tr>\n",
       "      <th>0.0</th>\n",
       "      <td>0.197297</td>\n",
       "    </tr>\n",
       "    <tr>\n",
       "      <th>0.1</th>\n",
       "      <td>0.805405</td>\n",
       "    </tr>\n",
       "    <tr>\n",
       "      <th>0.2</th>\n",
       "      <td>0.851351</td>\n",
       "    </tr>\n",
       "    <tr>\n",
       "      <th>0.3</th>\n",
       "      <td>0.864865</td>\n",
       "    </tr>\n",
       "    <tr>\n",
       "      <th>0.4</th>\n",
       "      <td>0.889189</td>\n",
       "    </tr>\n",
       "    <tr>\n",
       "      <th>0.5</th>\n",
       "      <td>0.875676</td>\n",
       "    </tr>\n",
       "    <tr>\n",
       "      <th>0.6</th>\n",
       "      <td>0.862162</td>\n",
       "    </tr>\n",
       "    <tr>\n",
       "      <th>0.7</th>\n",
       "      <td>0.856757</td>\n",
       "    </tr>\n",
       "    <tr>\n",
       "      <th>0.8</th>\n",
       "      <td>0.845946</td>\n",
       "    </tr>\n",
       "    <tr>\n",
       "      <th>0.9</th>\n",
       "      <td>0.832432</td>\n",
       "    </tr>\n",
       "  </tbody>\n",
       "</table>\n",
       "</div>"
      ],
      "text/plain": [
       "performance       ACC\n",
       "threshold            \n",
       "0.0          0.197297\n",
       "0.1          0.805405\n",
       "0.2          0.851351\n",
       "0.3          0.864865\n",
       "0.4          0.889189\n",
       "0.5          0.875676\n",
       "0.6          0.862162\n",
       "0.7          0.856757\n",
       "0.8          0.845946\n",
       "0.9          0.832432"
      ]
     },
     "execution_count": 152,
     "metadata": {},
     "output_type": "execute_result"
    }
   ],
   "source": [
    "threshold = np.arange(0,1,0.1)\n",
    "table = pd.DataFrame(columns=['ACC'])\n",
    "for i in threshold:\n",
    "    pred_Y = cut_off(pred_y,i)\n",
    "    cfmat = confusion_matrix(test_y, pred_Y)\n",
    "    table.loc[i] =acc(cfmat)\n",
    "table.index.name='threshold'\n",
    "table.columns.name='performance'\n",
    "table"
   ]
  },
  {
   "cell_type": "code",
   "execution_count": 153,
   "metadata": {},
   "outputs": [],
   "source": [
    "from sklearn import metrics"
   ]
  },
  {
   "cell_type": "code",
   "execution_count": 154,
   "metadata": {},
   "outputs": [
    {
     "name": "stdout",
     "output_type": "stream",
     "text": [
      "AUC: 0.9276786126101195\n"
     ]
    },
    {
     "data": {
      "image/png": "[encoded data removed]",
      "text/plain": [
       "<Figure size 432x288 with 1 Axes>"
      ]
     },
     "metadata": {
      "needs_background": "light"
     },
     "output_type": "display_data"
    }
   ],
   "source": [
    "# sklearn ROC 패키지 제공\n",
    "fpr, tpr, thresholds = metrics.roc_curve(test_y, pred_y, pos_label=1)\n",
    "\n",
    "# Print ROC curve\n",
    "plt.plot(fpr,tpr)\n",
    "\n",
    "# Print AUC\n",
    "auc = np.trapz(tpr,fpr)\n",
    "print('AUC:', auc)\n",
    "\n"
   ]
  },
  {
   "cell_type": "code",
   "execution_count": 134,
   "metadata": {
    "colab": {},
    "colab_type": "code",
    "id": "B4eTLEsVHiZX"
   },
   "outputs": [
    {
     "name": "stdout",
     "output_type": "stream",
     "text": [
      "mean accuracy: 0.885551948051948\n",
      "coefficients:  [[ 0.03268497 -0.02999918]]\n",
      "intercept:  [-5.09819896]\n"
     ]
    }
   ],
   "source": [
    "# 참고로 선형회귀분석과 마찬가지로 sklearn을 이용해서 손쉽게 회귀분석 모델을 만들 수 있다.\n",
    "# 위 결과와 비교해보시오.\n",
    "\n",
    "from sklearn.linear_model import LogisticRegression\n",
    "\n",
    "# Fit 할 때 상수항을 따로 추가할 필요 없음\n",
    "reg = LogisticRegression().fit(moneyball[[\"RS\", \"RA\"]], moneyball[\"Playoffs\"])\n",
    "print(\"mean accuracy:\", reg.score(moneyball[[\"RS\", \"RA\"]], moneyball[\"Playoffs\"]))\n",
    "print(\"coefficients: \", reg.coef_)\n",
    "print(\"intercept: \", reg.intercept_)"
   ]
  },
  {
   "cell_type": "markdown",
   "metadata": {
    "colab_type": "text",
    "id": "CeK5k-LmHiZZ"
   },
   "source": [
    "### Comments\n",
    "- 로지스틱회귀분석은 주어진 독립변수의 공간을 선형으로 분리한다고 수학적으로 해석할 수 있다. 조금 더 자세히 설명하면 로지스틱회귀분석의 결과로 우리는 아래 식의 계수들 $\\alpha_1, \\alpha_2, \\beta$를 얻었다. 플레이오프의 진출 여부를 0 ~ 1사이의 확률 값으로 출력하는 식이 로지스틱회귀분석의 결과이다. 여기서 진출 여부의 판단 기준을 $1/2$로 한다고 가정해보자(일반적으로 $1/2$ 확률로 판단하지만 모델이나 상황에 따라서 조절할 수도 있다).\n",
    "\n",
    "$$\n",
    "\\text{Playoffs} = \\frac{1}{1 + e^{(\\alpha_1 RS + \\alpha_2 RA + \\beta)}}\n",
    "$$\n",
    "\n",
    "- 왼쪽 플레이오프 진출 확률을 1/2로 두고 식을 정리하면 다음과 같다.\n",
    "\n",
    "$$\n",
    "\\alpha_1 RS + \\alpha_2 RA + \\beta = 0\n",
    "$$\n",
    "\n",
    "- 결과적으로 위 식을 만족하는 RS와 RA 값들은 아래와 같은 빨간색 선과 같은 직선의 형태를 띤다. 직선(선형)을 기준으로 한쪽 영역은 플레이오프 진출 못함, 반대쪽은 플레이오프 진출함으로 판단되는 것이다(물론 로지스틱회귀분석모델의 판단). \n",
    "\n",
    "![](https://mjgim-fc.s3.ap-northeast-2.amazonaws.com/logistic.png)\n",
    "\n",
    "\n",
    "- 이처럼 로지스틱회귀분석은 주어진 독립변수 공간을 선형으로 분리해서 이진 분류하는 방식이기 때문에 XOR 문제를 해결하기 어려운 것이다(XOR은 선형으로 해결 불가능). 그림 출처: https://web.stanford.edu/~jurafsky/slp3/7.pdf\n",
    "\n",
    "![](https://mjgim-fc.s3.ap-northeast-2.amazonaws.com/xor.png)"
   ]
  },
  {
   "cell_type": "code",
   "execution_count": 155,
   "metadata": {
    "colab": {},
    "colab_type": "code",
    "id": "ts-8utE9HiZa"
   },
   "outputs": [
    {
     "data": {
      "text/plain": [
       "[<matplotlib.lines.Line2D at 0x1f571b190c8>]"
      ]
     },
     "execution_count": 155,
     "metadata": {},
     "output_type": "execute_result"
    },
    {
     "data": {
      "image/png": "[encoded data removed]",
      "text/plain": [
       "<Figure size 432x288 with 1 Axes>"
      ]
     },
     "metadata": {
      "needs_background": "light"
     },
     "output_type": "display_data"
    }
   ],
   "source": [
    "line_x = moneyball[\"RS\"]\n",
    "\n",
    "line_y = (- fit_logit.params[\"RS\"] * moneyball[\"RS\"]  - fit_logit.params[\"const\"] ) \\\n",
    "          / fit_logit.params[\"RA\"]\n",
    "\n",
    "moneyball.plot.scatter(x = \"RS\", y = \"RA\", alpha = 0.5)\n",
    "plt.plot(line_x, line_y, \"r\")"
   ]
  },
  {
   "cell_type": "markdown",
   "metadata": {
    "colab_type": "text",
    "id": "QVZqgiI9HiZf"
   },
   "source": [
    "## STEP 7. 변수 선택법으로 로지스틱회귀분석 정확도 올리기\n",
    "- RS, RA, OBP, SLG, BA, G을 독립변수를 사용해서(상수항 포함) 플레이오프 진출 여부를 결정하는 로지스틱회귀분석 모델을 만들어 보시오.\n",
    "- 후진소거법으로 최적의 독립변수를 찾아 보시오(AIC 값이 크게)."
   ]
  },
  {
   "cell_type": "markdown",
   "metadata": {
    "colab_type": "text",
    "id": "Ycqc2OR3HiZf"
   },
   "source": [
    "### [풀이] \n",
    "- "
   ]
  },
  {
   "cell_type": "code",
   "execution_count": 156,
   "metadata": {
    "colab": {},
    "colab_type": "code",
    "id": "cPGVE2vyHiZg"
   },
   "outputs": [],
   "source": [
    "_all = moneyball[['RS', 'RA', 'OBP', 'SLG', 'BA', 'G', 'Playoffs']]"
   ]
  },
  {
   "cell_type": "code",
   "execution_count": 157,
   "metadata": {
    "colab": {},
    "colab_type": "code",
    "id": "E4FfL2K1HiZh",
    "scrolled": true
   },
   "outputs": [
    {
     "data": {
      "text/html": [
       "<div>\n",
       "<style scoped>\n",
       "    .dataframe tbody tr th:only-of-type {\n",
       "        vertical-align: middle;\n",
       "    }\n",
       "\n",
       "    .dataframe tbody tr th {\n",
       "        vertical-align: top;\n",
       "    }\n",
       "\n",
       "    .dataframe thead th {\n",
       "        text-align: right;\n",
       "    }\n",
       "</style>\n",
       "<table border=\"1\" class=\"dataframe\">\n",
       "  <thead>\n",
       "    <tr style=\"text-align: right;\">\n",
       "      <th></th>\n",
       "      <th>const</th>\n",
       "      <th>RS</th>\n",
       "      <th>RA</th>\n",
       "      <th>OBP</th>\n",
       "      <th>SLG</th>\n",
       "      <th>BA</th>\n",
       "      <th>G</th>\n",
       "      <th>Playoffs</th>\n",
       "    </tr>\n",
       "  </thead>\n",
       "  <tbody>\n",
       "    <tr>\n",
       "      <th>0</th>\n",
       "      <td>1.0</td>\n",
       "      <td>734</td>\n",
       "      <td>688</td>\n",
       "      <td>0.328</td>\n",
       "      <td>0.418</td>\n",
       "      <td>0.259</td>\n",
       "      <td>162</td>\n",
       "      <td>0</td>\n",
       "    </tr>\n",
       "    <tr>\n",
       "      <th>1</th>\n",
       "      <td>1.0</td>\n",
       "      <td>700</td>\n",
       "      <td>600</td>\n",
       "      <td>0.320</td>\n",
       "      <td>0.389</td>\n",
       "      <td>0.247</td>\n",
       "      <td>162</td>\n",
       "      <td>1</td>\n",
       "    </tr>\n",
       "    <tr>\n",
       "      <th>2</th>\n",
       "      <td>1.0</td>\n",
       "      <td>712</td>\n",
       "      <td>705</td>\n",
       "      <td>0.311</td>\n",
       "      <td>0.417</td>\n",
       "      <td>0.247</td>\n",
       "      <td>162</td>\n",
       "      <td>1</td>\n",
       "    </tr>\n",
       "    <tr>\n",
       "      <th>3</th>\n",
       "      <td>1.0</td>\n",
       "      <td>734</td>\n",
       "      <td>806</td>\n",
       "      <td>0.315</td>\n",
       "      <td>0.415</td>\n",
       "      <td>0.260</td>\n",
       "      <td>162</td>\n",
       "      <td>0</td>\n",
       "    </tr>\n",
       "    <tr>\n",
       "      <th>4</th>\n",
       "      <td>1.0</td>\n",
       "      <td>613</td>\n",
       "      <td>759</td>\n",
       "      <td>0.302</td>\n",
       "      <td>0.378</td>\n",
       "      <td>0.240</td>\n",
       "      <td>162</td>\n",
       "      <td>0</td>\n",
       "    </tr>\n",
       "    <tr>\n",
       "      <th>...</th>\n",
       "      <td>...</td>\n",
       "      <td>...</td>\n",
       "      <td>...</td>\n",
       "      <td>...</td>\n",
       "      <td>...</td>\n",
       "      <td>...</td>\n",
       "      <td>...</td>\n",
       "      <td>...</td>\n",
       "    </tr>\n",
       "    <tr>\n",
       "      <th>1227</th>\n",
       "      <td>1.0</td>\n",
       "      <td>705</td>\n",
       "      <td>759</td>\n",
       "      <td>0.330</td>\n",
       "      <td>0.390</td>\n",
       "      <td>0.260</td>\n",
       "      <td>161</td>\n",
       "      <td>0</td>\n",
       "    </tr>\n",
       "    <tr>\n",
       "      <th>1228</th>\n",
       "      <td>1.0</td>\n",
       "      <td>706</td>\n",
       "      <td>626</td>\n",
       "      <td>0.321</td>\n",
       "      <td>0.394</td>\n",
       "      <td>0.268</td>\n",
       "      <td>161</td>\n",
       "      <td>0</td>\n",
       "    </tr>\n",
       "    <tr>\n",
       "      <th>1229</th>\n",
       "      <td>1.0</td>\n",
       "      <td>878</td>\n",
       "      <td>690</td>\n",
       "      <td>0.341</td>\n",
       "      <td>0.441</td>\n",
       "      <td>0.278</td>\n",
       "      <td>165</td>\n",
       "      <td>1</td>\n",
       "    </tr>\n",
       "    <tr>\n",
       "      <th>1230</th>\n",
       "      <td>1.0</td>\n",
       "      <td>774</td>\n",
       "      <td>664</td>\n",
       "      <td>0.335</td>\n",
       "      <td>0.394</td>\n",
       "      <td>0.271</td>\n",
       "      <td>163</td>\n",
       "      <td>0</td>\n",
       "    </tr>\n",
       "    <tr>\n",
       "      <th>1231</th>\n",
       "      <td>1.0</td>\n",
       "      <td>599</td>\n",
       "      <td>716</td>\n",
       "      <td>0.308</td>\n",
       "      <td>0.373</td>\n",
       "      <td>0.250</td>\n",
       "      <td>162</td>\n",
       "      <td>0</td>\n",
       "    </tr>\n",
       "  </tbody>\n",
       "</table>\n",
       "<p>1232 rows × 8 columns</p>\n",
       "</div>"
      ],
      "text/plain": [
       "      const   RS   RA    OBP    SLG     BA    G  Playoffs\n",
       "0       1.0  734  688  0.328  0.418  0.259  162         0\n",
       "1       1.0  700  600  0.320  0.389  0.247  162         1\n",
       "2       1.0  712  705  0.311  0.417  0.247  162         1\n",
       "3       1.0  734  806  0.315  0.415  0.260  162         0\n",
       "4       1.0  613  759  0.302  0.378  0.240  162         0\n",
       "...     ...  ...  ...    ...    ...    ...  ...       ...\n",
       "1227    1.0  705  759  0.330  0.390  0.260  161         0\n",
       "1228    1.0  706  626  0.321  0.394  0.268  161         0\n",
       "1229    1.0  878  690  0.341  0.441  0.278  165         1\n",
       "1230    1.0  774  664  0.335  0.394  0.271  163         0\n",
       "1231    1.0  599  716  0.308  0.373  0.250  162         0\n",
       "\n",
       "[1232 rows x 8 columns]"
      ]
     },
     "execution_count": 157,
     "metadata": {},
     "output_type": "execute_result"
    }
   ],
   "source": [
    "_all1= sm.add_constant(_all, has_constant='add')\n",
    "_all1"
   ]
  },
  {
   "cell_type": "code",
   "execution_count": 159,
   "metadata": {},
   "outputs": [
    {
     "data": {
      "text/plain": [
       "const       0\n",
       "RS          0\n",
       "RA          0\n",
       "OBP         0\n",
       "SLG         0\n",
       "BA          0\n",
       "G           0\n",
       "Playoffs    0\n",
       "dtype: int64"
      ]
     },
     "execution_count": 159,
     "metadata": {},
     "output_type": "execute_result"
    }
   ],
   "source": [
    "_all1.isnull().sum()"
   ]
  },
  {
   "cell_type": "code",
   "execution_count": 160,
   "metadata": {},
   "outputs": [],
   "source": [
    "feature_columns2 = list(_all1.columns.difference([\"Playoffs\"]))\n",
    "X = _all1[feature_columns2]\n",
    "y = _all1['Playoffs'] "
   ]
  },
  {
   "cell_type": "code",
   "execution_count": 161,
   "metadata": {},
   "outputs": [
    {
     "name": "stdout",
     "output_type": "stream",
     "text": [
      "(862, 7) (370, 7) (862,) (370,)\n"
     ]
    }
   ],
   "source": [
    "train_x, test_x, train_y, test_y = train_test_split(X, y, stratify=y,train_size=0.7,test_size=0.3,random_state=42)\n",
    "print(train_x.shape, test_x.shape, train_y.shape, test_y.shape)"
   ]
  },
  {
   "cell_type": "code",
   "execution_count": 164,
   "metadata": {},
   "outputs": [
    {
     "name": "stdout",
     "output_type": "stream",
     "text": [
      "Optimization terminated successfully.\n",
      "         Current function value: 0.244631\n",
      "         Iterations 9\n"
     ]
    }
   ],
   "source": [
    "model2 = sm.Logit(train_y, train_x)\n",
    "fit_logit2 = model.fit(method='newton')"
   ]
  },
  {
   "cell_type": "code",
   "execution_count": 165,
   "metadata": {},
   "outputs": [
    {
     "data": {
      "text/html": [
       "<table class=\"simpletable\">\n",
       "<caption>Logit Regression Results</caption>\n",
       "<tr>\n",
       "  <th>Dep. Variable:</th>       <td>Playoffs</td>     <th>  No. Observations:  </th>  <td>   862</td>  \n",
       "</tr>\n",
       "<tr>\n",
       "  <th>Model:</th>                 <td>Logit</td>      <th>  Df Residuals:      </th>  <td>   855</td>  \n",
       "</tr>\n",
       "<tr>\n",
       "  <th>Method:</th>                 <td>MLE</td>       <th>  Df Model:          </th>  <td>     6</td>  \n",
       "</tr>\n",
       "<tr>\n",
       "  <th>Date:</th>            <td>Sun, 12 Jul 2020</td> <th>  Pseudo R-squ.:     </th>  <td>0.5089</td>  \n",
       "</tr>\n",
       "<tr>\n",
       "  <th>Time:</th>                <td>22:45:09</td>     <th>  Log-Likelihood:    </th> <td> -210.87</td> \n",
       "</tr>\n",
       "<tr>\n",
       "  <th>converged:</th>             <td>True</td>       <th>  LL-Null:           </th> <td> -429.40</td> \n",
       "</tr>\n",
       "<tr>\n",
       "  <th>Covariance Type:</th>     <td>nonrobust</td>    <th>  LLR p-value:       </th> <td>2.998e-91</td>\n",
       "</tr>\n",
       "</table>\n",
       "<table class=\"simpletable\">\n",
       "<tr>\n",
       "    <td></td>       <th>coef</th>     <th>std err</th>      <th>z</th>      <th>P>|z|</th>  <th>[0.025</th>    <th>0.975]</th>  \n",
       "</tr>\n",
       "<tr>\n",
       "  <th>BA</th>    <td>   -8.2173</td> <td>   18.600</td> <td>   -0.442</td> <td> 0.659</td> <td>  -44.672</td> <td>   28.237</td>\n",
       "</tr>\n",
       "<tr>\n",
       "  <th>G</th>     <td>   -0.1274</td> <td>    0.219</td> <td>   -0.582</td> <td> 0.561</td> <td>   -0.557</td> <td>    0.302</td>\n",
       "</tr>\n",
       "<tr>\n",
       "  <th>OBP</th>   <td>   61.4573</td> <td>   23.353</td> <td>    2.632</td> <td> 0.008</td> <td>   15.687</td> <td>  107.227</td>\n",
       "</tr>\n",
       "<tr>\n",
       "  <th>RA</th>    <td>   -0.0336</td> <td>    0.003</td> <td>  -11.101</td> <td> 0.000</td> <td>   -0.040</td> <td>   -0.028</td>\n",
       "</tr>\n",
       "<tr>\n",
       "  <th>RS</th>    <td>    0.0229</td> <td>    0.005</td> <td>    4.181</td> <td> 0.000</td> <td>    0.012</td> <td>    0.034</td>\n",
       "</tr>\n",
       "<tr>\n",
       "  <th>SLG</th>   <td>   11.7261</td> <td>   10.484</td> <td>    1.118</td> <td> 0.263</td> <td>   -8.823</td> <td>   32.275</td>\n",
       "</tr>\n",
       "<tr>\n",
       "  <th>const</th> <td>    2.2985</td> <td>   36.720</td> <td>    0.063</td> <td> 0.950</td> <td>  -69.672</td> <td>   74.269</td>\n",
       "</tr>\n",
       "</table>"
      ],
      "text/plain": [
       "<class 'statsmodels.iolib.summary.Summary'>\n",
       "\"\"\"\n",
       "                           Logit Regression Results                           \n",
       "==============================================================================\n",
       "Dep. Variable:               Playoffs   No. Observations:                  862\n",
       "Model:                          Logit   Df Residuals:                      855\n",
       "Method:                           MLE   Df Model:                            6\n",
       "Date:                Sun, 12 Jul 2020   Pseudo R-squ.:                  0.5089\n",
       "Time:                        22:45:09   Log-Likelihood:                -210.87\n",
       "converged:                       True   LL-Null:                       -429.40\n",
       "Covariance Type:            nonrobust   LLR p-value:                 2.998e-91\n",
       "==============================================================================\n",
       "                 coef    std err          z      P>|z|      [0.025      0.975]\n",
       "------------------------------------------------------------------------------\n",
       "BA            -8.2173     18.600     -0.442      0.659     -44.672      28.237\n",
       "G             -0.1274      0.219     -0.582      0.561      -0.557       0.302\n",
       "OBP           61.4573     23.353      2.632      0.008      15.687     107.227\n",
       "RA            -0.0336      0.003    -11.101      0.000      -0.040      -0.028\n",
       "RS             0.0229      0.005      4.181      0.000       0.012       0.034\n",
       "SLG           11.7261     10.484      1.118      0.263      -8.823      32.275\n",
       "const          2.2985     36.720      0.063      0.950     -69.672      74.269\n",
       "==============================================================================\n",
       "\"\"\""
      ]
     },
     "execution_count": 165,
     "metadata": {},
     "output_type": "execute_result"
    }
   ],
   "source": [
    "fit_logit2.summary()"
   ]
  },
  {
   "cell_type": "code",
   "execution_count": 166,
   "metadata": {},
   "outputs": [
    {
     "name": "stdout",
     "output_type": "stream",
     "text": [
      "model AIC:  435.74354\n"
     ]
    }
   ],
   "source": [
    "print(\"model AIC: \",\"{:.5f}\".format(fit_logit2.aic))"
   ]
  },
  {
   "cell_type": "code",
   "execution_count": 168,
   "metadata": {},
   "outputs": [
    {
     "data": {
      "text/plain": [
       "BA       -8.217339\n",
       "G        -0.127447\n",
       "OBP      61.457321\n",
       "RA       -0.033646\n",
       "RS        0.022892\n",
       "SLG      11.726087\n",
       "const     2.298547\n",
       "dtype: float64"
      ]
     },
     "execution_count": 168,
     "metadata": {},
     "output_type": "execute_result"
    }
   ],
   "source": [
    "fit_logit2.params"
   ]
  },
  {
   "cell_type": "code",
   "execution_count": 169,
   "metadata": {},
   "outputs": [
    {
     "data": {
      "text/plain": [
       "BA       2.699323e-04\n",
       "G        8.803400e-01\n",
       "OBP      4.904283e+26\n",
       "RA       9.669139e-01\n",
       "RS       1.023156e+00\n",
       "SLG      1.237585e+05\n",
       "const    9.959700e+00\n",
       "dtype: float64"
      ]
     },
     "execution_count": 169,
     "metadata": {},
     "output_type": "execute_result"
    }
   ],
   "source": [
    "np.exp(fit_logit2.params)"
   ]
  },
  {
   "cell_type": "code",
   "execution_count": 170,
   "metadata": {},
   "outputs": [
    {
     "data": {
      "text/plain": [
       "1074    0.058040\n",
       "1034    0.001062\n",
       "1152    0.124233\n",
       "1226    0.728771\n",
       "1060    0.202596\n",
       "          ...   \n",
       "376     0.000517\n",
       "754     0.001393\n",
       "898     0.000018\n",
       "502     0.000660\n",
       "451     0.983180\n",
       "Length: 370, dtype: float64"
      ]
     },
     "execution_count": 170,
     "metadata": {},
     "output_type": "execute_result"
    }
   ],
   "source": [
    "pred_y = fit_logit2.predict(test_x)\n",
    "pred_y"
   ]
  },
  {
   "cell_type": "code",
   "execution_count": 171,
   "metadata": {},
   "outputs": [
    {
     "name": "stdout",
     "output_type": "stream",
     "text": [
      "[[294   3]\n",
      " [ 59  14]]\n"
     ]
    }
   ],
   "source": [
    "cfmat = confusion_matrix(test_y,pred_Y)\n",
    "print(cfmat)"
   ]
  },
  {
   "cell_type": "code",
   "execution_count": 172,
   "metadata": {},
   "outputs": [
    {
     "data": {
      "text/plain": [
       "0.8324324324324325"
      ]
     },
     "execution_count": 172,
     "metadata": {},
     "output_type": "execute_result"
    }
   ],
   "source": [
    "(cfmat[0,0]+cfmat[1,1])/np.sum(cfmat) ## accuracy"
   ]
  },
  {
   "cell_type": "code",
   "execution_count": 173,
   "metadata": {},
   "outputs": [
    {
     "data": {
      "text/html": [
       "<div>\n",
       "<style scoped>\n",
       "    .dataframe tbody tr th:only-of-type {\n",
       "        vertical-align: middle;\n",
       "    }\n",
       "\n",
       "    .dataframe tbody tr th {\n",
       "        vertical-align: top;\n",
       "    }\n",
       "\n",
       "    .dataframe thead th {\n",
       "        text-align: right;\n",
       "    }\n",
       "</style>\n",
       "<table border=\"1\" class=\"dataframe\">\n",
       "  <thead>\n",
       "    <tr style=\"text-align: right;\">\n",
       "      <th>performance</th>\n",
       "      <th>ACC</th>\n",
       "    </tr>\n",
       "    <tr>\n",
       "      <th>threshold</th>\n",
       "      <th></th>\n",
       "    </tr>\n",
       "  </thead>\n",
       "  <tbody>\n",
       "    <tr>\n",
       "      <th>0.0</th>\n",
       "      <td>0.197297</td>\n",
       "    </tr>\n",
       "    <tr>\n",
       "      <th>0.1</th>\n",
       "      <td>0.789189</td>\n",
       "    </tr>\n",
       "    <tr>\n",
       "      <th>0.2</th>\n",
       "      <td>0.840541</td>\n",
       "    </tr>\n",
       "    <tr>\n",
       "      <th>0.3</th>\n",
       "      <td>0.870270</td>\n",
       "    </tr>\n",
       "    <tr>\n",
       "      <th>0.4</th>\n",
       "      <td>0.878378</td>\n",
       "    </tr>\n",
       "    <tr>\n",
       "      <th>0.5</th>\n",
       "      <td>0.867568</td>\n",
       "    </tr>\n",
       "    <tr>\n",
       "      <th>0.6</th>\n",
       "      <td>0.864865</td>\n",
       "    </tr>\n",
       "    <tr>\n",
       "      <th>0.7</th>\n",
       "      <td>0.854054</td>\n",
       "    </tr>\n",
       "    <tr>\n",
       "      <th>0.8</th>\n",
       "      <td>0.843243</td>\n",
       "    </tr>\n",
       "    <tr>\n",
       "      <th>0.9</th>\n",
       "      <td>0.840541</td>\n",
       "    </tr>\n",
       "  </tbody>\n",
       "</table>\n",
       "</div>"
      ],
      "text/plain": [
       "performance       ACC\n",
       "threshold            \n",
       "0.0          0.197297\n",
       "0.1          0.789189\n",
       "0.2          0.840541\n",
       "0.3          0.870270\n",
       "0.4          0.878378\n",
       "0.5          0.867568\n",
       "0.6          0.864865\n",
       "0.7          0.854054\n",
       "0.8          0.843243\n",
       "0.9          0.840541"
      ]
     },
     "execution_count": 173,
     "metadata": {},
     "output_type": "execute_result"
    }
   ],
   "source": [
    "threshold = np.arange(0,1,0.1)\n",
    "table = pd.DataFrame(columns=['ACC'])\n",
    "for i in threshold:\n",
    "    pred_Y = cut_off(pred_y,i)\n",
    "    cfmat = confusion_matrix(test_y, pred_Y)\n",
    "    table.loc[i] =acc(cfmat)\n",
    "table.index.name='threshold'\n",
    "table.columns.name='performance'\n",
    "table"
   ]
  },
  {
   "cell_type": "code",
   "execution_count": 174,
   "metadata": {
    "scrolled": true
   },
   "outputs": [
    {
     "name": "stdout",
     "output_type": "stream",
     "text": [
      "AUC: 0.9240348692403488\n"
     ]
    },
    {
     "data": {
      "image/png": "[encoded data removed]",
      "text/plain": [
       "<Figure size 432x288 with 1 Axes>"
      ]
     },
     "metadata": {
      "needs_background": "light"
     },
     "output_type": "display_data"
    }
   ],
   "source": [
    "# sklearn ROC 패키지 제공\n",
    "fpr, tpr, thresholds = metrics.roc_curve(test_y, pred_y, pos_label=1)\n",
    "\n",
    "# Print ROC curve\n",
    "plt.plot(fpr,tpr)\n",
    "\n",
    "# Print AUC\n",
    "auc = np.trapz(tpr,fpr)\n",
    "print('AUC:', auc)\n",
    "\n"
   ]
  },
  {
   "cell_type": "code",
   "execution_count": 177,
   "metadata": {},
   "outputs": [],
   "source": [
    "import itertools"
   ]
  },
  {
   "cell_type": "code",
   "execution_count": 193,
   "metadata": {},
   "outputs": [],
   "source": [
    "def processSubset(X,y, feature_set):\n",
    "            model = sm.Logit(y,X[list(feature_set)])\n",
    "            regr = model.fit()\n",
    "            AIC = regr.aic\n",
    "            return {\"model\":regr, \"AIC\":AIC}\n",
    "        \n",
    "'''\n",
    "후진소거법\n",
    "'''\n",
    "def backward(X,y,predictors):\n",
    "    tic = time.time()\n",
    "    results = []\n",
    "    \n",
    "    # 데이터 변수들이 미리정의된 predictors 조합 확인\n",
    "    for combo in itertools.combinations(predictors, len(predictors) - 1):\n",
    "        results.append(processSubset(X=X, y= y,feature_set=list(combo)+['const']))\n",
    "    models = pd.DataFrame(results)\n",
    "    \n",
    "    # 가장 낮은 AIC를 가진 모델을 선택\n",
    "    best_model = models.loc[models['AIC'].argmin()]\n",
    "    toc = time.time()\n",
    "    print(\"Processed \", models.shape[0], \"models on\", len(predictors) - 1, \"predictors in\",\n",
    "          (toc - tic))\n",
    "    print('Selected predictors:',best_model['model'].model.exog_names,' AIC:',best_model[0] )\n",
    "    return best_model\n",
    "\n",
    "\n",
    "def backward_model(X, y):\n",
    "    Bmodels = pd.DataFrame(columns=[\"AIC\", \"model\"], index = range(1,len(X.columns)))\n",
    "    tic = time.time()\n",
    "    predictors = X.columns.difference(['const'])\n",
    "    Bmodel_before = processSubset(X,y,predictors)['AIC']\n",
    "    while (len(predictors) > 1):\n",
    "        Backward_result = backward(X=train_x, y= train_y, predictors = predictors)\n",
    "        if Backward_result['AIC'] > Bmodel_before:\n",
    "            break\n",
    "        Bmodels.loc[len(predictors) - 1] = Backward_result\n",
    "        predictors = Bmodels.loc[len(predictors) - 1][\"model\"].model.exog_names\n",
    "        Bmodel_before = Backward_result['AIC']\n",
    "        predictors = [ k for k in predictors if k != 'const']\n",
    "\n",
    "    toc = time.time()\n",
    "    print(\"Total elapsed time:\", (toc - tic), \"seconds.\")\n",
    "    return (Bmodels['model'].dropna().iloc[0])"
   ]
  },
  {
   "cell_type": "code",
   "execution_count": 194,
   "metadata": {
    "scrolled": true
   },
   "outputs": [
    {
     "name": "stdout",
     "output_type": "stream",
     "text": [
      "Optimization terminated successfully.\n",
      "         Current function value: 0.244633\n",
      "         Iterations 9\n",
      "Optimization terminated successfully.\n",
      "         Current function value: 0.245361\n",
      "         Iterations 9\n",
      "Optimization terminated successfully.\n",
      "         Current function value: 0.255576\n",
      "         Iterations 9\n",
      "Optimization terminated successfully.\n",
      "         Current function value: 0.412254\n",
      "         Iterations 7\n",
      "Optimization terminated successfully.\n",
      "         Current function value: 0.248742\n",
      "         Iterations 9\n",
      "Optimization terminated successfully.\n",
      "         Current function value: 0.244827\n",
      "         Iterations 9\n",
      "Optimization terminated successfully.\n",
      "         Current function value: 0.244744\n",
      "         Iterations 9\n",
      "Processed  6 models on 5 predictors in 0.020943403244018555\n",
      "Selected predictors: ['G', 'OBP', 'RA', 'RS', 'SLG', 'const']  AIC: <statsmodels.discrete.discrete_model.BinaryResultsWrapper object at 0x000001F571AA4148>\n",
      "Total elapsed time: 0.02590322494506836 seconds.\n"
     ]
    },
    {
     "ename": "IndexError",
     "evalue": "single positional indexer is out-of-bounds",
     "output_type": "error",
     "traceback": [
      "\u001b[1;31m---------------------------------------------------------------------------\u001b[0m",
      "\u001b[1;31mIndexError\u001b[0m                                Traceback (most recent call last)",
      "\u001b[1;32m<ipython-input-194-3724baf77319>\u001b[0m in \u001b[0;36m<module>\u001b[1;34m\u001b[0m\n\u001b[1;32m----> 1\u001b[1;33m \u001b[0mBackward_best_model\u001b[0m \u001b[1;33m=\u001b[0m \u001b[0mbackward_model\u001b[0m\u001b[1;33m(\u001b[0m\u001b[0mX\u001b[0m\u001b[1;33m=\u001b[0m\u001b[0mtrain_x\u001b[0m\u001b[1;33m,\u001b[0m\u001b[0my\u001b[0m\u001b[1;33m=\u001b[0m\u001b[0mtrain_y\u001b[0m\u001b[1;33m)\u001b[0m\u001b[1;33m\u001b[0m\u001b[1;33m\u001b[0m\u001b[0m\n\u001b[0m",
      "\u001b[1;32m<ipython-input-193-0020429984e1>\u001b[0m in \u001b[0;36mbackward_model\u001b[1;34m(X, y)\u001b[0m\n\u001b[0;32m     42\u001b[0m     \u001b[0mtoc\u001b[0m \u001b[1;33m=\u001b[0m \u001b[0mtime\u001b[0m\u001b[1;33m.\u001b[0m\u001b[0mtime\u001b[0m\u001b[1;33m(\u001b[0m\u001b[1;33m)\u001b[0m\u001b[1;33m\u001b[0m\u001b[1;33m\u001b[0m\u001b[0m\n\u001b[0;32m     43\u001b[0m     \u001b[0mprint\u001b[0m\u001b[1;33m(\u001b[0m\u001b[1;34m\"Total elapsed time:\"\u001b[0m\u001b[1;33m,\u001b[0m \u001b[1;33m(\u001b[0m\u001b[0mtoc\u001b[0m \u001b[1;33m-\u001b[0m \u001b[0mtic\u001b[0m\u001b[1;33m)\u001b[0m\u001b[1;33m,\u001b[0m \u001b[1;34m\"seconds.\"\u001b[0m\u001b[1;33m)\u001b[0m\u001b[1;33m\u001b[0m\u001b[1;33m\u001b[0m\u001b[0m\n\u001b[1;32m---> 44\u001b[1;33m     \u001b[1;32mreturn\u001b[0m \u001b[1;33m(\u001b[0m\u001b[0mBmodels\u001b[0m\u001b[1;33m[\u001b[0m\u001b[1;34m'model'\u001b[0m\u001b[1;33m]\u001b[0m\u001b[1;33m.\u001b[0m\u001b[0mdropna\u001b[0m\u001b[1;33m(\u001b[0m\u001b[1;33m)\u001b[0m\u001b[1;33m.\u001b[0m\u001b[0miloc\u001b[0m\u001b[1;33m[\u001b[0m\u001b[1;36m0\u001b[0m\u001b[1;33m]\u001b[0m\u001b[1;33m)\u001b[0m\u001b[1;33m\u001b[0m\u001b[1;33m\u001b[0m\u001b[0m\n\u001b[0m",
      "\u001b[1;32mC:\\Users\\home\\Anaconda3\\lib\\site-packages\\pandas\\core\\indexing.py\u001b[0m in \u001b[0;36m__getitem__\u001b[1;34m(self, key)\u001b[0m\n\u001b[0;32m   1766\u001b[0m \u001b[1;33m\u001b[0m\u001b[0m\n\u001b[0;32m   1767\u001b[0m             \u001b[0mmaybe_callable\u001b[0m \u001b[1;33m=\u001b[0m \u001b[0mcom\u001b[0m\u001b[1;33m.\u001b[0m\u001b[0mapply_if_callable\u001b[0m\u001b[1;33m(\u001b[0m\u001b[0mkey\u001b[0m\u001b[1;33m,\u001b[0m \u001b[0mself\u001b[0m\u001b[1;33m.\u001b[0m\u001b[0mobj\u001b[0m\u001b[1;33m)\u001b[0m\u001b[1;33m\u001b[0m\u001b[1;33m\u001b[0m\u001b[0m\n\u001b[1;32m-> 1768\u001b[1;33m             \u001b[1;32mreturn\u001b[0m \u001b[0mself\u001b[0m\u001b[1;33m.\u001b[0m\u001b[0m_getitem_axis\u001b[0m\u001b[1;33m(\u001b[0m\u001b[0mmaybe_callable\u001b[0m\u001b[1;33m,\u001b[0m \u001b[0maxis\u001b[0m\u001b[1;33m=\u001b[0m\u001b[0maxis\u001b[0m\u001b[1;33m)\u001b[0m\u001b[1;33m\u001b[0m\u001b[1;33m\u001b[0m\u001b[0m\n\u001b[0m\u001b[0;32m   1769\u001b[0m \u001b[1;33m\u001b[0m\u001b[0m\n\u001b[0;32m   1770\u001b[0m     \u001b[1;32mdef\u001b[0m \u001b[0m_is_scalar_access\u001b[0m\u001b[1;33m(\u001b[0m\u001b[0mself\u001b[0m\u001b[1;33m,\u001b[0m \u001b[0mkey\u001b[0m\u001b[1;33m:\u001b[0m \u001b[0mTuple\u001b[0m\u001b[1;33m)\u001b[0m\u001b[1;33m:\u001b[0m\u001b[1;33m\u001b[0m\u001b[1;33m\u001b[0m\u001b[0m\n",
      "\u001b[1;32mC:\\Users\\home\\Anaconda3\\lib\\site-packages\\pandas\\core\\indexing.py\u001b[0m in \u001b[0;36m_getitem_axis\u001b[1;34m(self, key, axis)\u001b[0m\n\u001b[0;32m   2136\u001b[0m \u001b[1;33m\u001b[0m\u001b[0m\n\u001b[0;32m   2137\u001b[0m             \u001b[1;31m# validate the location\u001b[0m\u001b[1;33m\u001b[0m\u001b[1;33m\u001b[0m\u001b[1;33m\u001b[0m\u001b[0m\n\u001b[1;32m-> 2138\u001b[1;33m             \u001b[0mself\u001b[0m\u001b[1;33m.\u001b[0m\u001b[0m_validate_integer\u001b[0m\u001b[1;33m(\u001b[0m\u001b[0mkey\u001b[0m\u001b[1;33m,\u001b[0m \u001b[0maxis\u001b[0m\u001b[1;33m)\u001b[0m\u001b[1;33m\u001b[0m\u001b[1;33m\u001b[0m\u001b[0m\n\u001b[0m\u001b[0;32m   2139\u001b[0m \u001b[1;33m\u001b[0m\u001b[0m\n\u001b[0;32m   2140\u001b[0m             \u001b[1;32mreturn\u001b[0m \u001b[0mself\u001b[0m\u001b[1;33m.\u001b[0m\u001b[0m_get_loc\u001b[0m\u001b[1;33m(\u001b[0m\u001b[0mkey\u001b[0m\u001b[1;33m,\u001b[0m \u001b[0maxis\u001b[0m\u001b[1;33m=\u001b[0m\u001b[0maxis\u001b[0m\u001b[1;33m)\u001b[0m\u001b[1;33m\u001b[0m\u001b[1;33m\u001b[0m\u001b[0m\n",
      "\u001b[1;32mC:\\Users\\home\\Anaconda3\\lib\\site-packages\\pandas\\core\\indexing.py\u001b[0m in \u001b[0;36m_validate_integer\u001b[1;34m(self, key, axis)\u001b[0m\n\u001b[0;32m   2061\u001b[0m         \u001b[0mlen_axis\u001b[0m \u001b[1;33m=\u001b[0m \u001b[0mlen\u001b[0m\u001b[1;33m(\u001b[0m\u001b[0mself\u001b[0m\u001b[1;33m.\u001b[0m\u001b[0mobj\u001b[0m\u001b[1;33m.\u001b[0m\u001b[0m_get_axis\u001b[0m\u001b[1;33m(\u001b[0m\u001b[0maxis\u001b[0m\u001b[1;33m)\u001b[0m\u001b[1;33m)\u001b[0m\u001b[1;33m\u001b[0m\u001b[1;33m\u001b[0m\u001b[0m\n\u001b[0;32m   2062\u001b[0m         \u001b[1;32mif\u001b[0m \u001b[0mkey\u001b[0m \u001b[1;33m>=\u001b[0m \u001b[0mlen_axis\u001b[0m \u001b[1;32mor\u001b[0m \u001b[0mkey\u001b[0m \u001b[1;33m<\u001b[0m \u001b[1;33m-\u001b[0m\u001b[0mlen_axis\u001b[0m\u001b[1;33m:\u001b[0m\u001b[1;33m\u001b[0m\u001b[1;33m\u001b[0m\u001b[0m\n\u001b[1;32m-> 2063\u001b[1;33m             \u001b[1;32mraise\u001b[0m \u001b[0mIndexError\u001b[0m\u001b[1;33m(\u001b[0m\u001b[1;34m\"single positional indexer is out-of-bounds\"\u001b[0m\u001b[1;33m)\u001b[0m\u001b[1;33m\u001b[0m\u001b[1;33m\u001b[0m\u001b[0m\n\u001b[0m\u001b[0;32m   2064\u001b[0m \u001b[1;33m\u001b[0m\u001b[0m\n\u001b[0;32m   2065\u001b[0m     \u001b[1;32mdef\u001b[0m \u001b[0m_getitem_tuple\u001b[0m\u001b[1;33m(\u001b[0m\u001b[0mself\u001b[0m\u001b[1;33m,\u001b[0m \u001b[0mtup\u001b[0m\u001b[1;33m:\u001b[0m \u001b[0mTuple\u001b[0m\u001b[1;33m)\u001b[0m\u001b[1;33m:\u001b[0m\u001b[1;33m\u001b[0m\u001b[1;33m\u001b[0m\u001b[0m\n",
      "\u001b[1;31mIndexError\u001b[0m: single positional indexer is out-of-bounds"
     ]
    }
   ],
   "source": [
    "Backward_best_model = backward_model(X=train_x,y=train_y)"
   ]
  },
  {
   "cell_type": "markdown",
   "metadata": {},
   "source": [
    "이 오류를 해결하지 못했습니다."
   ]
  },
  {
   "cell_type": "code",
   "execution_count": 195,
   "metadata": {
    "scrolled": true
   },
   "outputs": [
    {
     "ename": "NameError",
     "evalue": "name 'Backward_best_model' is not defined",
     "output_type": "error",
     "traceback": [
      "\u001b[1;31m---------------------------------------------------------------------------\u001b[0m",
      "\u001b[1;31mNameError\u001b[0m                                 Traceback (most recent call last)",
      "\u001b[1;32m<ipython-input-195-36142a3d941c>\u001b[0m in \u001b[0;36m<module>\u001b[1;34m\u001b[0m\n\u001b[1;32m----> 1\u001b[1;33m \u001b[0mpred_y_backward\u001b[0m \u001b[1;33m=\u001b[0m \u001b[0mBackward_best_model\u001b[0m\u001b[1;33m.\u001b[0m\u001b[0mpredict\u001b[0m\u001b[1;33m(\u001b[0m\u001b[0mtest_x\u001b[0m\u001b[1;33m[\u001b[0m\u001b[0mBackward_best_model\u001b[0m\u001b[1;33m.\u001b[0m\u001b[0mmodel\u001b[0m\u001b[1;33m.\u001b[0m\u001b[0mexog_names\u001b[0m\u001b[1;33m]\u001b[0m\u001b[1;33m)\u001b[0m\u001b[1;33m\u001b[0m\u001b[1;33m\u001b[0m\u001b[0m\n\u001b[0m",
      "\u001b[1;31mNameError\u001b[0m: name 'Backward_best_model' is not defined"
     ]
    }
   ],
   "source": [
    "pred_y_backward = Backward_best_model.predict(test_x[Backward_best_model.model.exog_names])"
   ]
  },
  {
   "cell_type": "code",
   "execution_count": 196,
   "metadata": {
    "scrolled": true
   },
   "outputs": [
    {
     "ename": "NameError",
     "evalue": "name 'pred_y_backward' is not defined",
     "output_type": "error",
     "traceback": [
      "\u001b[1;31m---------------------------------------------------------------------------\u001b[0m",
      "\u001b[1;31mNameError\u001b[0m                                 Traceback (most recent call last)",
      "\u001b[1;32m<ipython-input-196-2a0bfb06ad57>\u001b[0m in \u001b[0;36m<module>\u001b[1;34m\u001b[0m\n\u001b[1;32m----> 1\u001b[1;33m \u001b[0mpred_Y_backward\u001b[0m \u001b[1;33m=\u001b[0m \u001b[0mcut_off\u001b[0m\u001b[1;33m(\u001b[0m\u001b[0mpred_y_backward\u001b[0m\u001b[1;33m,\u001b[0m\u001b[1;36m0.5\u001b[0m\u001b[1;33m)\u001b[0m\u001b[1;33m\u001b[0m\u001b[1;33m\u001b[0m\u001b[0m\n\u001b[0m",
      "\u001b[1;31mNameError\u001b[0m: name 'pred_y_backward' is not defined"
     ]
    }
   ],
   "source": [
    "pred_Y_backward = cut_off(pred_y_backward,0.5)"
   ]
  },
  {
   "cell_type": "code",
   "execution_count": 197,
   "metadata": {},
   "outputs": [
    {
     "ename": "NameError",
     "evalue": "name 'pred_Y_backward' is not defined",
     "output_type": "error",
     "traceback": [
      "\u001b[1;31m---------------------------------------------------------------------------\u001b[0m",
      "\u001b[1;31mNameError\u001b[0m                                 Traceback (most recent call last)",
      "\u001b[1;32m<ipython-input-197-af2b79ccc89f>\u001b[0m in \u001b[0;36m<module>\u001b[1;34m\u001b[0m\n\u001b[1;32m----> 1\u001b[1;33m \u001b[0mcfmat_backward\u001b[0m \u001b[1;33m=\u001b[0m \u001b[0mconfusion_matrix\u001b[0m\u001b[1;33m(\u001b[0m\u001b[0mtest_y\u001b[0m\u001b[1;33m,\u001b[0m \u001b[0mpred_Y_backward\u001b[0m\u001b[1;33m)\u001b[0m\u001b[1;33m\u001b[0m\u001b[1;33m\u001b[0m\u001b[0m\n\u001b[0m",
      "\u001b[1;31mNameError\u001b[0m: name 'pred_Y_backward' is not defined"
     ]
    }
   ],
   "source": [
    "cfmat_backward = confusion_matrix(test_y, pred_Y_backward)"
   ]
  },
  {
   "cell_type": "code",
   "execution_count": 198,
   "metadata": {},
   "outputs": [
    {
     "ename": "NameError",
     "evalue": "name 'cfmat_backward' is not defined",
     "output_type": "error",
     "traceback": [
      "\u001b[1;31m---------------------------------------------------------------------------\u001b[0m",
      "\u001b[1;31mNameError\u001b[0m                                 Traceback (most recent call last)",
      "\u001b[1;32m<ipython-input-198-adc9e277343f>\u001b[0m in \u001b[0;36m<module>\u001b[1;34m\u001b[0m\n\u001b[1;32m----> 1\u001b[1;33m \u001b[0mprint\u001b[0m\u001b[1;33m(\u001b[0m\u001b[0macc\u001b[0m\u001b[1;33m(\u001b[0m\u001b[0mcfmat_backward\u001b[0m\u001b[1;33m)\u001b[0m\u001b[1;33m)\u001b[0m\u001b[1;33m\u001b[0m\u001b[1;33m\u001b[0m\u001b[0m\n\u001b[0m",
      "\u001b[1;31mNameError\u001b[0m: name 'cfmat_backward' is not defined"
     ]
    }
   ],
   "source": [
    "print(acc(cfmat_backward))"
   ]
  },
  {
   "cell_type": "code",
   "execution_count": 199,
   "metadata": {},
   "outputs": [
    {
     "ename": "NameError",
     "evalue": "name 'pred_y_backward' is not defined",
     "output_type": "error",
     "traceback": [
      "\u001b[1;31m---------------------------------------------------------------------------\u001b[0m",
      "\u001b[1;31mNameError\u001b[0m                                 Traceback (most recent call last)",
      "\u001b[1;32m<ipython-input-199-7713433d260c>\u001b[0m in \u001b[0;36m<module>\u001b[1;34m\u001b[0m\n\u001b[1;32m----> 1\u001b[1;33m \u001b[0mfpr\u001b[0m\u001b[1;33m,\u001b[0m \u001b[0mtpr\u001b[0m\u001b[1;33m,\u001b[0m \u001b[0mthresholds\u001b[0m \u001b[1;33m=\u001b[0m \u001b[0mmetrics\u001b[0m\u001b[1;33m.\u001b[0m\u001b[0mroc_curve\u001b[0m\u001b[1;33m(\u001b[0m\u001b[0mtest_y\u001b[0m\u001b[1;33m,\u001b[0m \u001b[0mpred_y_backward\u001b[0m\u001b[1;33m,\u001b[0m \u001b[0mpos_label\u001b[0m\u001b[1;33m=\u001b[0m\u001b[1;36m1\u001b[0m\u001b[1;33m)\u001b[0m\u001b[1;33m\u001b[0m\u001b[1;33m\u001b[0m\u001b[0m\n\u001b[0m\u001b[0;32m      2\u001b[0m \u001b[1;31m# Print ROC curve\u001b[0m\u001b[1;33m\u001b[0m\u001b[1;33m\u001b[0m\u001b[1;33m\u001b[0m\u001b[0m\n\u001b[0;32m      3\u001b[0m \u001b[0mplt\u001b[0m\u001b[1;33m.\u001b[0m\u001b[0mplot\u001b[0m\u001b[1;33m(\u001b[0m\u001b[0mfpr\u001b[0m\u001b[1;33m,\u001b[0m\u001b[0mtpr\u001b[0m\u001b[1;33m)\u001b[0m\u001b[1;33m\u001b[0m\u001b[1;33m\u001b[0m\u001b[0m\n\u001b[0;32m      4\u001b[0m \u001b[1;31m# Print AUC\u001b[0m\u001b[1;33m\u001b[0m\u001b[1;33m\u001b[0m\u001b[1;33m\u001b[0m\u001b[0m\n\u001b[0;32m      5\u001b[0m \u001b[0mauc\u001b[0m \u001b[1;33m=\u001b[0m \u001b[0mnp\u001b[0m\u001b[1;33m.\u001b[0m\u001b[0mtrapz\u001b[0m\u001b[1;33m(\u001b[0m\u001b[0mtpr\u001b[0m\u001b[1;33m,\u001b[0m\u001b[0mfpr\u001b[0m\u001b[1;33m)\u001b[0m\u001b[1;33m\u001b[0m\u001b[1;33m\u001b[0m\u001b[0m\n",
      "\u001b[1;31mNameError\u001b[0m: name 'pred_y_backward' is not defined"
     ]
    }
   ],
   "source": [
    "fpr, tpr, thresholds = metrics.roc_curve(test_y, pred_y_backward, pos_label=1)\n",
    "# Print ROC curve\n",
    "plt.plot(fpr,tpr)\n",
    "# Print AUC\n",
    "auc = np.trapz(tpr,fpr)\n",
    "print('AUC:', auc)"
   ]
  },
  {
   "cell_type": "markdown",
   "metadata": {
    "colab_type": "text",
    "id": "Rz48Ty66HiZk"
   },
   "source": [
    "## 참고\n",
    "- 통계 라이브러리에 특화(?)된 R에서는 회귀분석 모델 생성, 변수선택법, VIF 등 통계분석을 쉽게 수행할 수 있다.\n",
    "- 위에서 수행했던 내용을 R로 실행한 내용입니다.\n",
    "- [R vs Python 회귀분석모델](https://s3.ap-northeast-2.amazonaws.com/mjgim.assets/2.+Regression+in+R.html)"
   ]
  }
 ],
 "metadata": {
  "colab": {
   "collapsed_sections": [],
   "name": "Part2_미니프로젝트2(문제).ipynb",
   "provenance": []
  },
  "kernelspec": {
   "display_name": "Python 3",
   "language": "python",
   "name": "python3"
  },
  "language_info": {
   "codemirror_mode": {
    "name": "ipython",
    "version": 3
   },
   "file_extension": ".py",
   "mimetype": "text/x-python",
   "name": "python",
   "nbconvert_exporter": "python",
   "pygments_lexer": "ipython3",
   "version": "3.7.7"
  }
 },
 "nbformat": 4,
 "nbformat_minor": 1
}
