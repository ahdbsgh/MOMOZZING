{
 "cells": [
  {
   "cell_type": "markdown",
   "metadata": {},
   "source": [
    "## Byte degree 미니 프로젝트\n",
    " - 숫자 퍼즐 게임 완성하기\n",
    " - 아래와 같이 숫자 퍼즐을 만들고 숫자를 이동시켜 순서대로 맞추는 게임\n",
    " - ![퍼즐이미지](https://i.stack.imgur.com/0B14h.png)\n",
    " - [이미지 출처](https://math.stackexchange.com/questions/635188/what-is-the-parity-of-permutation-in-the-15-puzzle)"
   ]
  },
  {
   "cell_type": "code",
   "execution_count": 1,
   "metadata": {},
   "outputs": [],
   "source": [
    "import random"
   ]
  },
  {
   "cell_type": "markdown",
   "metadata": {},
   "source": [
    "### 게임 로직 구현하기\n",
    " 1. 퍼즐 생성하기\n",
    " 2. 퍼즐 랜덤하게 섞기\n",
    " 3. 퍼즐 출력\n",
    " 4. 사용자 입력(움직일 숫자 입력 받기)\n",
    " 5. 퍼즐 완성 확인하기\n",
    "   - 완성? 완료 메시지와 함께 종료\n",
    "   - 미완성? 3번으로 이동"
   ]
  },
  {
   "cell_type": "markdown",
   "metadata": {},
   "source": [
    "#### 퍼즐 생성하기\n",
    " - 2차원 리스트 형태로 생성\n",
    " - 퍼즐의 크기(size)를 파라미터로 받아, 동적으로 size*size의 리스트로 생성\n",
    " - 퍼즐이 생성되면 1부터 차례대로 행방향으로 숫자를 나열\n",
    "   - 사이즈가 3인 경우의 생성 예\n",
    "   -  [[1, 2, 3],\n",
    "      [4, 5, 6],\n",
    "      [7, 8, 9]]\n",
    " - 퍼즐의 가장 마지막 아이템(마지막 행의 마지막 열 아이템)은 '' 빈문자열로 처리\n",
    "   - 이유는? 숫자퍼즐의 목표는 빈공간을 이용해 각 이동하고자 하는 숫자를 빈공간으로 움직여 숫자들을 순서대로 다시 맞추는 것이 목적이므로, 빈공간을 표현하기 위한 방법으로 빈문자열을 사용"
   ]
  },
  {
   "cell_type": "markdown",
   "metadata": {},
   "source": [
    "* pure python 버젼"
   ]
  },
  {
   "cell_type": "code",
   "execution_count": 2,
   "metadata": {},
   "outputs": [
    {
     "name": "stdout",
     "output_type": "stream",
     "text": [
      "[[1, 2, 3, 4], [5, 6, 7, 8], [9, 10, 11, 12], [13, 14, 15, '']]\n"
     ]
    }
   ],
   "source": [
    "def initiate_puzzle(size):\n",
    "    puzzle = [] \n",
    "    for i in range(size):\n",
    "        row = [] \n",
    "        for j in range(size):\n",
    "            row.append(1+i*size + j)\n",
    "        puzzle.append(row)\n",
    "    puzzle[-1][-1] = ''\n",
    "    \n",
    "    return puzzle\n",
    "\n",
    "\n",
    "puzzle = initiate_puzzle(4)\n",
    "print(puzzle)"
   ]
  },
  {
   "cell_type": "markdown",
   "metadata": {},
   "source": [
    "* numpy 버젼\n",
    " - numpy를 추가한 이유는 더 간결하게 작성하는 것을 보여주기 위해서 입니다. 심화 과정이니 numpy를 모르시는 분은 위의 pure python버젼으로 확인하시면 됩니다."
   ]
  },
  {
   "cell_type": "code",
   "execution_count": 3,
   "metadata": {},
   "outputs": [],
   "source": [
    "#import numpy as np\n",
    "#def initiate_puzzle(size):\n",
    "#    puzzle = []\n",
    "#    puzzle = np.arange(1, size).reshape(4,-1)\n",
    "#    puzzle = puzzle.tolist() \n",
    "#    puzzle[-1][-1] = ''\n",
    "#    return puzzle\n",
    "\n",
    "#puzzle = initiate_puzzle(17)\n",
    "#print(puzzle)"
   ]
  },
  {
   "cell_type": "markdown",
   "metadata": {},
   "source": [
    "질문 1 위에 reshape 부분에서 행위치에 (size-1)**0.5 제곱근 구하는 방법으로는 사용이 불가능한가요??\n",
    "     2 매스함수 임포트 해서 math.sqrt(size -1) 도 가능할것 같은데 안됩니다 이것도 불가능한가요??"
   ]
  },
  {
   "cell_type": "markdown",
   "metadata": {},
   "source": [
    "#### 퍼즐 출력하기\n",
    " - 생성된 퍼즐(puzzle)을 파라미터로 받아 화면에 출력\n",
    " - 이때, 퍼즐은 2차원 형태이므로 2중 loop을 이용"
   ]
  },
  {
   "cell_type": "code",
   "execution_count": 3,
   "metadata": {},
   "outputs": [],
   "source": [
    "def show_puzzle(puzzle):\n",
    "    \n",
    "    for i in range(len(puzzle)):    \n",
    "        for j in [i]:  \n",
    "            print(puzzle[i])\n",
    "    return None"
   ]
  },
  {
   "cell_type": "code",
   "execution_count": 4,
   "metadata": {},
   "outputs": [
    {
     "name": "stdout",
     "output_type": "stream",
     "text": [
      "[1, 2, 3, 4]\n",
      "[5, 6, 7, 8]\n",
      "[9, 10, 11, 12]\n",
      "[13, 14, 15, '']\n"
     ]
    }
   ],
   "source": [
    "show_puzzle(puzzle)"
   ]
  },
  {
   "cell_type": "markdown",
   "metadata": {},
   "source": [
    "이 부분이 정확하지 않아서 ''를 문자열로 인식을 못하는것인가요?"
   ]
  },
  {
   "cell_type": "markdown",
   "metadata": {},
   "source": [
    "#### 퍼즐 섞기(shuffling)\n",
    " - 생성할때부터 랜덤하게 숫자를 배열하지 않고, 완성된 상태에서 퍼즐을 섞어야 함\n",
    "   - 이유? 랜덤하게 배열하는 경우, 퍼즐이 완성되지 못하는 경우의 수가 수학적으로 존재하기 때문\n",
    "   - 퍼즐을 완성시킬 수 없는 예\n",
    "   - [[1, 2, 3, 4], [5, 6, 7, 8], [9, 10, 11, 12], [13, 15, 14, '']]\n",
    "   - [출처: 네이버 블로그](https://post.naver.com/viewer/postView.nhn?volumeNo=17980703&memberNo=16868720) "
   ]
  },
  {
   "cell_type": "code",
   "execution_count": 5,
   "metadata": {},
   "outputs": [
    {
     "name": "stdout",
     "output_type": "stream",
     "text": [
      "[[1, 2, 3, 4], [5, 6, 7, 8], [9, 10, 11, 12], [13, 14, 15, '']]\n"
     ]
    }
   ],
   "source": [
    "def get_index(puzzle, n):\n",
    "    for i in range(len(puzzle)):\n",
    "        index = puzzle[i].index(n)\n",
    "        return None, None\n",
    "print(puzzle)"
   ]
  },
  {
   "cell_type": "code",
   "execution_count": 11,
   "metadata": {},
   "outputs": [
    {
     "ename": "SyntaxError",
     "evalue": "invalid syntax (<ipython-input-11-9ba6a32f2b6d>, line 15)",
     "output_type": "error",
     "traceback": [
      "\u001b[1;36m  File \u001b[1;32m\"<ipython-input-11-9ba6a32f2b6d>\"\u001b[1;36m, line \u001b[1;32m15\u001b[0m\n\u001b[1;33m    i, j = get_index(puzzle, /'')\u001b[0m\n\u001b[1;37m                             ^\u001b[0m\n\u001b[1;31mSyntaxError\u001b[0m\u001b[1;31m:\u001b[0m invalid syntax\n"
     ]
    }
   ],
   "source": [
    "def shuffle_puzzle(puzzle, shuffle_count):\n",
    "    \n",
    "    dxs = [1, 0, -1,  0]\n",
    "    dys = [0, 1,  0, -1]\n",
    "\n",
    "    cnt = 0 \n",
    "    \n",
    "    while cnt <= shuffle_count: \n",
    "                \n",
    "        rnd = random.randint(0, 3) \n",
    "        dx = dxs[rnd]\n",
    "        dy = dys[rnd]\n",
    "\n",
    "        \n",
    "        i, j = get_index(puzzle, /'')     \n",
    "        \n",
    "        \n",
    "        ni = i + dx\n",
    "        nj = j + dy\n",
    "\n",
    "        if 0 <= ni < len(puzzle) and 0 <= nj < len(puzzle[0]):\n",
    "            puzzle[ni][nj], puzzle[i][j] = puzzle[i][j], puzzle[ni][nj]\n",
    "        \n",
    "        cnt += 1\n",
    "        \n",
    "    return None"
   ]
  },
  {
   "cell_type": "code",
   "execution_count": 12,
   "metadata": {},
   "outputs": [
    {
     "ename": "ValueError",
     "evalue": "'' is not in list",
     "output_type": "error",
     "traceback": [
      "\u001b[1;31m---------------------------------------------------------------------------\u001b[0m",
      "\u001b[1;31mValueError\u001b[0m                                Traceback (most recent call last)",
      "\u001b[1;32m<ipython-input-12-e7f64074e941>\u001b[0m in \u001b[0;36m<module>\u001b[1;34m\u001b[0m\n\u001b[1;32m----> 1\u001b[1;33m \u001b[0mshuffle_puzzle\u001b[0m\u001b[1;33m(\u001b[0m\u001b[0mpuzzle\u001b[0m\u001b[1;33m,\u001b[0m \u001b[1;36m10\u001b[0m\u001b[1;33m)\u001b[0m\u001b[1;33m\u001b[0m\u001b[1;33m\u001b[0m\u001b[0m\n\u001b[0m\u001b[0;32m      2\u001b[0m \u001b[0mshow_puzzle\u001b[0m\u001b[1;33m(\u001b[0m\u001b[0mpuzzle\u001b[0m\u001b[1;33m)\u001b[0m\u001b[1;33m\u001b[0m\u001b[1;33m\u001b[0m\u001b[0m\n",
      "\u001b[1;32m<ipython-input-6-c59d99f50a58>\u001b[0m in \u001b[0;36mshuffle_puzzle\u001b[1;34m(puzzle, shuffle_count)\u001b[0m\n\u001b[0;32m     13\u001b[0m \u001b[1;33m\u001b[0m\u001b[0m\n\u001b[0;32m     14\u001b[0m \u001b[1;33m\u001b[0m\u001b[0m\n\u001b[1;32m---> 15\u001b[1;33m         \u001b[0mi\u001b[0m\u001b[1;33m,\u001b[0m \u001b[0mj\u001b[0m \u001b[1;33m=\u001b[0m \u001b[0mget_index\u001b[0m\u001b[1;33m(\u001b[0m\u001b[0mpuzzle\u001b[0m\u001b[1;33m,\u001b[0m \u001b[1;34m''\u001b[0m\u001b[1;33m)\u001b[0m\u001b[1;33m\u001b[0m\u001b[1;33m\u001b[0m\u001b[0m\n\u001b[0m\u001b[0;32m     16\u001b[0m \u001b[1;33m\u001b[0m\u001b[0m\n\u001b[0;32m     17\u001b[0m \u001b[1;33m\u001b[0m\u001b[0m\n",
      "\u001b[1;32m<ipython-input-5-70757f131858>\u001b[0m in \u001b[0;36mget_index\u001b[1;34m(puzzle, n)\u001b[0m\n\u001b[0;32m      1\u001b[0m \u001b[1;32mdef\u001b[0m \u001b[0mget_index\u001b[0m\u001b[1;33m(\u001b[0m\u001b[0mpuzzle\u001b[0m\u001b[1;33m,\u001b[0m \u001b[0mn\u001b[0m\u001b[1;33m)\u001b[0m\u001b[1;33m:\u001b[0m\u001b[1;33m\u001b[0m\u001b[1;33m\u001b[0m\u001b[0m\n\u001b[0;32m      2\u001b[0m     \u001b[1;32mfor\u001b[0m \u001b[0mi\u001b[0m \u001b[1;32min\u001b[0m \u001b[0mrange\u001b[0m\u001b[1;33m(\u001b[0m\u001b[0mlen\u001b[0m\u001b[1;33m(\u001b[0m\u001b[0mpuzzle\u001b[0m\u001b[1;33m)\u001b[0m\u001b[1;33m)\u001b[0m\u001b[1;33m:\u001b[0m\u001b[1;33m\u001b[0m\u001b[1;33m\u001b[0m\u001b[0m\n\u001b[1;32m----> 3\u001b[1;33m         \u001b[0mindex\u001b[0m \u001b[1;33m=\u001b[0m \u001b[0mpuzzle\u001b[0m\u001b[1;33m[\u001b[0m\u001b[0mi\u001b[0m\u001b[1;33m]\u001b[0m\u001b[1;33m.\u001b[0m\u001b[0mindex\u001b[0m\u001b[1;33m(\u001b[0m\u001b[0mn\u001b[0m\u001b[1;33m)\u001b[0m\u001b[1;33m\u001b[0m\u001b[1;33m\u001b[0m\u001b[0m\n\u001b[0m\u001b[0;32m      4\u001b[0m         \u001b[1;32mreturn\u001b[0m \u001b[1;32mNone\u001b[0m\u001b[1;33m,\u001b[0m \u001b[1;32mNone\u001b[0m\u001b[1;33m\u001b[0m\u001b[1;33m\u001b[0m\u001b[0m\n\u001b[0;32m      5\u001b[0m \u001b[0mprint\u001b[0m\u001b[1;33m(\u001b[0m\u001b[0mpuzzle\u001b[0m\u001b[1;33m)\u001b[0m\u001b[1;33m\u001b[0m\u001b[1;33m\u001b[0m\u001b[0m\n",
      "\u001b[1;31mValueError\u001b[0m: '' is not in list"
     ]
    }
   ],
   "source": [
    "shuffle_puzzle(puzzle, 10)\n",
    "show_puzzle(puzzle)"
   ]
  },
  {
   "cell_type": "markdown",
   "metadata": {},
   "source": [
    "이부분에서 ' '를 문자열로 인식을 못하는데 어찌해야하나요?? ''를 인식못해서 관련부분들을 하지 못하였습니다. \n",
    "구글링도 많이 해봤는데 잘 모르겠습니다."
   ]
  },
  {
   "cell_type": "markdown",
   "metadata": {},
   "source": [
    "#### 퍼즐이 완성되었는지 확인하기\n",
    " - 퍼즐이 완성된 형태인지 확인\n",
    " - puzzle 퍼즐로 활용할 리스트, completed 완성된 형태의 퍼즐 리스트 \n",
    " - 완성되었다면 True, 아니라면 False 반환"
   ]
  },
  {
   "cell_type": "code",
   "execution_count": 13,
   "metadata": {},
   "outputs": [
    {
     "name": "stdout",
     "output_type": "stream",
     "text": [
      "[[1, 2, 3, 4], [5, 6, 7, 8], [9, 10, 11, 12], [13, 14, 15, '']]\n"
     ]
    }
   ],
   "source": [
    "def is_puzzle_completed(puzzle, completed):\n",
    "    completed = puzzle.sort\n",
    "    if puzzle == completed:    \n",
    "        print(True)    \n",
    "    elif puzzle != completed:    \n",
    "        print(False)    \n",
    "        \n",
    "print(puzzle)"
   ]
  },
  {
   "cell_type": "markdown",
   "metadata": {},
   "source": [
    "#### 퍼즐 이동하기\n",
    " - 퍼즐 내의 숫자를 이동\n",
    " - 이때 이동이 가능한 경우는 해당 숫자가 빈공간 상하좌우에 위치한 경우에만 가능"
   ]
  },
  {
   "cell_type": "code",
   "execution_count": 14,
   "metadata": {},
   "outputs": [],
   "source": [
    "def move_by_number(puzzle, n):  \n",
    "    i, j = get_index(puzzle, n)\n",
    "    move_by_index(puzzle, i, j)"
   ]
  },
  {
   "cell_type": "code",
   "execution_count": 15,
   "metadata": {},
   "outputs": [],
   "source": [
    "def move_by_index(puzzle, i, j):\n",
    "    for dx, dy in ((1, 0), (0, 1), (-1, 0), (0, -1)):\n",
    "        new_i = i + dx\n",
    "        new_j = j + dy\n",
    "\n",
    "        if not move_by_index:\n",
    "            continue\n",
    "\n",
    "        if puzzle[new_i][new_j] == '':\n",
    "            i, j = new_i, new_j\n",
    "            return "
   ]
  },
  {
   "cell_type": "markdown",
   "metadata": {},
   "source": [
    "#### 사용자 프롬프트 입력\n",
    " - 게임의 진행을 위해 동적으로 키보드 입력을 받을 필요가 있음\n",
    "   - 퍼즐의 크기, 이동할 수 지정 \n",
    " - 이를 위해 input 함수 사용\n",
    "   - 원하는 값 입력후, Enter"
   ]
  },
  {
   "cell_type": "code",
   "execution_count": 16,
   "metadata": {},
   "outputs": [
    {
     "name": "stdout",
     "output_type": "stream",
     "text": [
      "입력하세요4\n",
      "4\n"
     ]
    }
   ],
   "source": [
    "value = input('입력하세요')\n",
    "print(value)"
   ]
  },
  {
   "cell_type": "markdown",
   "metadata": {},
   "source": [
    "* 입력받은 값을 숫자형태로 변경"
   ]
  },
  {
   "cell_type": "code",
   "execution_count": 17,
   "metadata": {},
   "outputs": [
    {
     "name": "stdout",
     "output_type": "stream",
     "text": [
      "숫자를 입력하세요4\n",
      "4\n"
     ]
    }
   ],
   "source": [
    "value = int(input('숫자를 입력하세요'))\n",
    "print(value)"
   ]
  },
  {
   "cell_type": "markdown",
   "metadata": {},
   "source": [
    "#### 퍼즐, 퍼즐 완성본 생성 및 셔플링"
   ]
  },
  {
   "cell_type": "markdown",
   "metadata": {},
   "source": [
    "* 퍼즐 사이즈 입력"
   ]
  },
  {
   "cell_type": "code",
   "execution_count": 18,
   "metadata": {},
   "outputs": [
    {
     "name": "stdout",
     "output_type": "stream",
     "text": [
      "-> 퍼즐 사이즈를 입력하세요: 4\n",
      "퍼즐 사이즈:  4\n"
     ]
    }
   ],
   "source": [
    "size = int(input('-> 퍼즐 사이즈를 입력하세요: '))\n",
    "print('퍼즐 사이즈: ', size)"
   ]
  },
  {
   "cell_type": "markdown",
   "metadata": {},
   "source": [
    "* 퍼즐 생성"
   ]
  },
  {
   "cell_type": "code",
   "execution_count": 19,
   "metadata": {},
   "outputs": [
    {
     "name": "stdout",
     "output_type": "stream",
     "text": [
      "[[1, 2, 3, 4], [5, 6, 7, 8], [9, 10, 11, 12], [13, 14, 15, '']]\n"
     ]
    }
   ],
   "source": [
    "puzzle = initiate_puzzle(size)\n",
    "\n",
    "print(puzzle)"
   ]
  },
  {
   "cell_type": "markdown",
   "metadata": {},
   "source": [
    "* 퍼즐 완성본 생성\n",
    " - 기존 퍼즐을 복사하여 생성\n",
    " - 아래와 같이 deep copy본으로 생성\n",
    "   - 그렇지 않으면, 항상 puzzle과 complete가 동일한 객체가 됨"
   ]
  },
  {
   "cell_type": "code",
   "execution_count": 20,
   "metadata": {},
   "outputs": [],
   "source": [
    "complete = [row[:] for row in puzzle]"
   ]
  },
  {
   "cell_type": "code",
   "execution_count": 21,
   "metadata": {},
   "outputs": [
    {
     "name": "stdout",
     "output_type": "stream",
     "text": [
      "[1, 2, 3, 4]\n",
      "[5, 6, 7, 8]\n",
      "[9, 10, 11, 12]\n",
      "[13, 14, 15, '']\n"
     ]
    }
   ],
   "source": [
    "show_puzzle(puzzle)"
   ]
  },
  {
   "cell_type": "markdown",
   "metadata": {},
   "source": [
    "* 퍼즐 섞기"
   ]
  },
  {
   "cell_type": "code",
   "execution_count": 22,
   "metadata": {},
   "outputs": [
    {
     "ename": "ValueError",
     "evalue": "'' is not in list",
     "output_type": "error",
     "traceback": [
      "\u001b[1;31m---------------------------------------------------------------------------\u001b[0m",
      "\u001b[1;31mValueError\u001b[0m                                Traceback (most recent call last)",
      "\u001b[1;32m<ipython-input-22-48d65aa21e59>\u001b[0m in \u001b[0;36m<module>\u001b[1;34m\u001b[0m\n\u001b[1;32m----> 1\u001b[1;33m \u001b[0mshuffle_puzzle\u001b[0m\u001b[1;33m(\u001b[0m\u001b[0mpuzzle\u001b[0m\u001b[1;33m,\u001b[0m \u001b[1;36m300\u001b[0m\u001b[1;33m)\u001b[0m\u001b[1;33m\u001b[0m\u001b[1;33m\u001b[0m\u001b[0m\n\u001b[0m",
      "\u001b[1;32m<ipython-input-11-c59d99f50a58>\u001b[0m in \u001b[0;36mshuffle_puzzle\u001b[1;34m(puzzle, shuffle_count)\u001b[0m\n\u001b[0;32m     13\u001b[0m \u001b[1;33m\u001b[0m\u001b[0m\n\u001b[0;32m     14\u001b[0m \u001b[1;33m\u001b[0m\u001b[0m\n\u001b[1;32m---> 15\u001b[1;33m         \u001b[0mi\u001b[0m\u001b[1;33m,\u001b[0m \u001b[0mj\u001b[0m \u001b[1;33m=\u001b[0m \u001b[0mget_index\u001b[0m\u001b[1;33m(\u001b[0m\u001b[0mpuzzle\u001b[0m\u001b[1;33m,\u001b[0m \u001b[1;34m''\u001b[0m\u001b[1;33m)\u001b[0m\u001b[1;33m\u001b[0m\u001b[1;33m\u001b[0m\u001b[0m\n\u001b[0m\u001b[0;32m     16\u001b[0m \u001b[1;33m\u001b[0m\u001b[0m\n\u001b[0;32m     17\u001b[0m \u001b[1;33m\u001b[0m\u001b[0m\n",
      "\u001b[1;32m<ipython-input-6-70757f131858>\u001b[0m in \u001b[0;36mget_index\u001b[1;34m(puzzle, n)\u001b[0m\n\u001b[0;32m      1\u001b[0m \u001b[1;32mdef\u001b[0m \u001b[0mget_index\u001b[0m\u001b[1;33m(\u001b[0m\u001b[0mpuzzle\u001b[0m\u001b[1;33m,\u001b[0m \u001b[0mn\u001b[0m\u001b[1;33m)\u001b[0m\u001b[1;33m:\u001b[0m\u001b[1;33m\u001b[0m\u001b[1;33m\u001b[0m\u001b[0m\n\u001b[0;32m      2\u001b[0m     \u001b[1;32mfor\u001b[0m \u001b[0mi\u001b[0m \u001b[1;32min\u001b[0m \u001b[0mrange\u001b[0m\u001b[1;33m(\u001b[0m\u001b[0mlen\u001b[0m\u001b[1;33m(\u001b[0m\u001b[0mpuzzle\u001b[0m\u001b[1;33m)\u001b[0m\u001b[1;33m)\u001b[0m\u001b[1;33m:\u001b[0m\u001b[1;33m\u001b[0m\u001b[1;33m\u001b[0m\u001b[0m\n\u001b[1;32m----> 3\u001b[1;33m         \u001b[0mindex\u001b[0m \u001b[1;33m=\u001b[0m \u001b[0mpuzzle\u001b[0m\u001b[1;33m[\u001b[0m\u001b[0mi\u001b[0m\u001b[1;33m]\u001b[0m\u001b[1;33m.\u001b[0m\u001b[0mindex\u001b[0m\u001b[1;33m(\u001b[0m\u001b[0mn\u001b[0m\u001b[1;33m)\u001b[0m\u001b[1;33m\u001b[0m\u001b[1;33m\u001b[0m\u001b[0m\n\u001b[0m\u001b[0;32m      4\u001b[0m         \u001b[1;32mreturn\u001b[0m \u001b[1;32mNone\u001b[0m\u001b[1;33m,\u001b[0m \u001b[1;32mNone\u001b[0m\u001b[1;33m\u001b[0m\u001b[1;33m\u001b[0m\u001b[0m\n\u001b[0;32m      5\u001b[0m \u001b[0mprint\u001b[0m\u001b[1;33m(\u001b[0m\u001b[0mpuzzle\u001b[0m\u001b[1;33m)\u001b[0m\u001b[1;33m\u001b[0m\u001b[1;33m\u001b[0m\u001b[0m\n",
      "\u001b[1;31mValueError\u001b[0m: '' is not in list"
     ]
    }
   ],
   "source": [
    "shuffle_puzzle(puzzle, 300)"
   ]
  },
  {
   "cell_type": "code",
   "execution_count": 23,
   "metadata": {},
   "outputs": [
    {
     "name": "stdout",
     "output_type": "stream",
     "text": [
      "[1, 2, 3, 4]\n",
      "[5, 6, 7, 8]\n",
      "[9, 10, 11, 12]\n",
      "[13, 14, 15, '']\n"
     ]
    }
   ],
   "source": [
    "show_puzzle(puzzle)"
   ]
  },
  {
   "cell_type": "markdown",
   "metadata": {},
   "source": [
    "#### 게임 루프 \n",
    " - 퍼즐이 완성되었나 확인\n",
    "   - 완성되었다면 종료\n",
    "   - 완성되지 않았다면 사용자 입력 대기 및 퍼즐 출력 "
   ]
  },
  {
   "cell_type": "code",
   "execution_count": 24,
   "metadata": {},
   "outputs": [],
   "source": [
    "from IPython.display import clear_output"
   ]
  },
  {
   "cell_type": "code",
   "execution_count": 25,
   "metadata": {},
   "outputs": [
    {
     "name": "stdout",
     "output_type": "stream",
     "text": [
      "[1, 2, 3, 4]\n",
      "[5, 6, 7, 8]\n",
      "[9, 10, 11, 12]\n",
      "[13, 14, 15, '']\n",
      "\n",
      "퍼즐 완성!\n"
     ]
    }
   ],
   "source": [
    "show_puzzle(puzzle)\n",
    "\n",
    "while not True:\n",
    "    try:\n",
    "        num = int(input(' -> 움직일 숫자를 입력하세요 : '))\n",
    "    except:\n",
    "        print('숫자가 아닙니다.')\n",
    "        continue\n",
    "\n",
    "    move_by_number(puzzle)\n",
    "\n",
    "    clear_output(puzzle)\n",
    "\n",
    "    show_puzzle(puzzle)\n",
    "\n",
    "print('\\n퍼즐 완성!')"
   ]
  },
  {
   "cell_type": "markdown",
   "metadata": {},
   "source": [
    "계속 찾아보고 검색해보고 해봤는데 ''를 문자열로 인식을 하지 못하겠네요 ㅠㅠ 피드백 받고 열심히 하겠습니다"
   ]
  }
 ],
 "metadata": {
  "kernelspec": {
   "display_name": "Python 3",
   "language": "python",
   "name": "python3"
  },
  "language_info": {
   "codemirror_mode": {
    "name": "ipython",
    "version": 3
   },
   "file_extension": ".py",
   "mimetype": "text/x-python",
   "name": "python",
   "nbconvert_exporter": "python",
   "pygments_lexer": "ipython3",
   "version": "3.7.4"
  }
 },
 "nbformat": 4,
 "nbformat_minor": 2
}
